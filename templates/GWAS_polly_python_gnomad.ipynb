{
  "cells": [
    {
      "cell_type": "markdown",
      "metadata": {
        "colab_type": "text",
        "id": "view-in-github"
      },
      "source": [
        "<a href=\"https://polly.elucidata.io/manage/workspaces?action=open_polly_notebook&source=github&path=path_place_holder&kernel=elucidata/Genomics-hail&machine=medium\" target=\"_parent\"><img src=\"https://elucidatainc.github.io/PublicAssets/open_polly.svg\" alt=\"Open in Polly\"/></a>\n"
      ]
    },
    {
      "cell_type": "markdown",
      "metadata": {
        "kernel": "SoS"
      },
      "source": [
        "# Welcome to Polly-python Notebook for analysis of GWAS data"
      ]
    },
    {
      "cell_type": "code",
      "execution_count": null,
      "metadata": {
        "kernel": "Python3"
      },
      "outputs": [],
      "source": [
        "# please do not modify\n",
        "from IPython.display import display_html\n",
        "def restartkernel() :\n",
        "    display_html(\"<script>Jupyter.notebook.kernel.restart()</script>\",raw=True)"
      ]
    },
    {
      "cell_type": "code",
      "execution_count": null,
      "metadata": {
        "kernel": "Python3"
      },
      "outputs": [],
      "source": [
        "!sudo pip3 install polly-python --quiet"
      ]
    },
    {
      "cell_type": "code",
      "execution_count": null,
      "metadata": {
        "kernel": "Python3"
      },
      "outputs": [],
      "source": [
        "restartkernel() #Pause for a few seconds before the kernel is refreshed"
      ]
    },
    {
      "cell_type": "code",
      "execution_count": null,
      "metadata": {
        "kernel": "Python3"
      },
      "outputs": [],
      "source": [
        "# please do not modify\n",
        "from IPython.display import HTML\n",
        "HTML('''<script type=\"text/javascript\"> Jupyter.notebook.kernel.execute(\"url = '\" + window.location + \"'\", {}, {}); </script>''')"
      ]
    },
    {
      "cell_type": "code",
      "execution_count": null,
      "metadata": {
        "kernel": "Python3"
      },
      "outputs": [],
      "source": [
        "import os\n",
        "from polly.omixatlas import OmixAtlas\n",
        "import pandas as pd\n",
        "import numpy as np\n",
        "from json import dumps"
      ]
    },
    {
      "cell_type": "code",
      "execution_count": null,
      "metadata": {
        "kernel": "Pollyglot"
      },
      "outputs": [],
      "source": [
        "### Fetch OmixAtlas ID and Dataset ID\n",
        "\n",
        "#OmixAtlas ID (repo_id) : Unique target repository identifier which is required for downloading datasets using polly-python\n",
        "#Dataset ID (dataset_id): Unique identifier for datasets on Polly which is required for downloading datasets using polly-python"
      ]
    },
    {
      "cell_type": "code",
      "execution_count": null,
      "metadata": {
        "kernel": "Python3"
      },
      "outputs": [],
      "source": [
        "import urllib.parse as urlparse\n",
        "from urllib.parse import parse_qs\n",
        "\n",
        "parsed = urlparse.urlparse(url)\n",
        "repo_vars_list = [parse_qs(parsed.query).get(query_url)[0] for query_url in ['repo_id', 'dataset_id']]\n",
        "repo_id=repo_vars_list[0]\n",
        "dataset_id=repo_vars_list[1]\n",
        "\n",
        "file_name=dataset_id +'.vcf' #name of the dataset that will be loaded\n",
        "print(dataset_id)\n",
        "print(repo_id)\n",
        "print(file_name)"
      ]
    },
    {
      "cell_type": "code",
      "execution_count": null,
      "metadata": {
        "kernel": "Python3"
      },
      "outputs": [],
      "source": [
        "pd.set_option('display.max_rows',None)\n",
        "pd.set_option('display.max_columns',None)\n",
        "pd.set_option('display.max_colwidth',None)"
      ]
    },
    {
      "cell_type": "code",
      "execution_count": null,
      "metadata": {
        "kernel": "Python3"
      },
      "outputs": [],
      "source": [
        "omixatlas = OmixAtlas(os.environ['POLLY_REFRESH_TOKEN'])"
      ]
    },
    {
      "cell_type": "code",
      "execution_count": null,
      "metadata": {
        "kernel": "Python3"
      },
      "outputs": [],
      "source": [
        "omixatlas.get_all_omixatlas()"
      ]
    },
    {
      "cell_type": "markdown",
      "metadata": {
        "kernel": "Pollyglot"
      },
      "source": [
        "# Summary of gnomAD OmixAtlas"
      ]
    },
    {
      "cell_type": "code",
      "execution_count": null,
      "metadata": {
        "kernel": "Python3"
      },
      "outputs": [],
      "source": [
        "omixatlas.omixatlas_summary('1629715166552')"
      ]
    },
    {
      "cell_type": "markdown",
      "metadata": {
        "kernel": "Pollyglot"
      },
      "source": [
        "# Query to fetch all datasets for a particular gene (this will get results across all 3 versions of gnomAD)"
      ]
    },
    {
      "cell_type": "code",
      "execution_count": null,
      "metadata": {
        "kernel": "Python3"
      },
      "outputs": [],
      "source": [
        "query1 = \"SELECT * FROM gnomad_files WHERE kw_gene ='RPS4Y2'\"\n",
        "omixatlas.query_metadata(query1)"
      ]
    },
    {
      "cell_type": "code",
      "execution_count": null,
      "metadata": {
        "kernel": "Python3"
      },
      "outputs": [],
      "source": [
        "query2 = f\"SELECT * FROM gnomad_files WHERE dataset_id ='{dataset_id}'\" #dataset_id being loaded from the URL\n",
        "omixatlas.query_metadata(query2)"
      ]
    },
    {
      "cell_type": "markdown",
      "metadata": {
        "kernel": "Pollyglot"
      },
      "source": [
        "# Download the vcf file in the Terminal "
      ]
    },
    {
      "cell_type": "code",
      "execution_count": null,
      "metadata": {
        "kernel": "Python3"
      },
      "outputs": [],
      "source": [
        "file_name = f\"{dataset_id}.vcf\"\n",
        "data = omixatlas.download_data(repo_id, dataset_id)\n",
        "url = data.get('data').get('attributes').get('download_url')\n",
        "os.system(f\"wget -O '{file_name}' '{url}'\")"
      ]
    },
    {
      "cell_type": "markdown",
      "metadata": {
        "kernel": "Pollyglot"
      },
      "source": [
        "# Initialize Hail \n",
        "For liftover and gnomAD V3 - use argument hl.init(default_reference='GRCh38')\n",
        "Hail Documentation - https://hail.is/docs/0.2/api.html"
      ]
    },
    {
      "cell_type": "code",
      "execution_count": null,
      "metadata": {
        "kernel": "Python3",
        "scrolled": true
      },
      "outputs": [],
      "source": [
        "import hail as hl\n",
        "hl.init()"
      ]
    },
    {
      "cell_type": "code",
      "execution_count": null,
      "metadata": {
        "kernel": "Python3"
      },
      "outputs": [],
      "source": [
        "from hail.plot import show\n",
        "from pprint import pprint\n",
        "hl.plot.output_notebook()"
      ]
    },
    {
      "cell_type": "markdown",
      "metadata": {
        "kernel": "Pollyglot"
      },
      "source": [
        "# Write out the Hail Matrix Table "
      ]
    },
    {
      "cell_type": "code",
      "execution_count": null,
      "metadata": {
        "kernel": "Python3"
      },
      "outputs": [],
      "source": [
        "hl.import_vcf(f'{file_name}').write(f'{dataset_id}.mt', overwrite=True)"
      ]
    },
    {
      "cell_type": "markdown",
      "metadata": {
        "kernel": "Pollyglot"
      },
      "source": [
        "# Readin as Object mt "
      ]
    },
    {
      "cell_type": "code",
      "execution_count": null,
      "metadata": {
        "kernel": "Python3"
      },
      "outputs": [],
      "source": [
        "mt = hl.read_matrix_table(f'{dataset_id}.mt')\n",
        "mt.show()"
      ]
    },
    {
      "cell_type": "markdown",
      "metadata": {
        "kernel": "Pollyglot"
      },
      "source": [
        "# Interactive way to understand the Hail Matrix Table "
      ]
    },
    {
      "cell_type": "code",
      "execution_count": null,
      "metadata": {
        "kernel": "Python3"
      },
      "outputs": [],
      "source": [
        "mt.describe(widget=True)"
      ]
    },
    {
      "cell_type": "code",
      "execution_count": null,
      "metadata": {
        "kernel": "Python3"
      },
      "outputs": [],
      "source": [
        "mt.info.show()"
      ]
    },
    {
      "cell_type": "code",
      "execution_count": null,
      "metadata": {
        "kernel": "Python3"
      },
      "outputs": [],
      "source": [
        "hl.stop()"
      ]
    }
  ],
  "metadata": {
    "kernelspec": {
      "display_name": "Python 3 (ipykernel)",
      "language": "python",
      "name": "python3"
    },
    "language_info": {
      "codemirror_mode": {
        "name": "ipython",
        "version": 3
      },
      "file_extension": ".py",
      "mimetype": "text/x-python",
      "name": "python",
      "nbconvert_exporter": "python",
      "pygments_lexer": "ipython3",
      "version": "3.8.10"
    },
    "sos": {
      "kernels": [
        [
          "Pollyglot",
          "sos",
          "",
          "",
          "sos"
        ],
        [
          "Python3",
          "python3",
          "Python3",
          "#FFD91A",
          {
            "name": "ipython",
            "version": 3
          }
        ]
      ],
      "panel": {
        "displayed": true,
        "height": 0
      },
      "version": "1.0.0"
    }
  },
  "nbformat": 4,
  "nbformat_minor": 2
}