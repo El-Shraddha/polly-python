{
  "cells": [
    {
      "cell_type": "markdown",
      "metadata": {
        "colab_type": "text",
        "id": "view-in-github"
      },
      "source": [
        "<a href=\"https://polly.elucidata.io/manage/workspaces?action=open_polly_notebook&source=github&path=path_place_holder&kernel=elucidata/RNA-Seq Downstream&machine=gp\" target=\"_parent\"><img src=\"https://elucidatainc.github.io/PublicAssets/open_polly.svg\" alt=\"Open in Polly\"/></a>\n"
      ]
    },
    {
      "cell_type": "markdown",
      "metadata": {
        "extensions": {
          "jupyter_dashboards": {
            "version": 1,
            "views": {
              "grid_default": {},
              "report_default": {}
            }
          }
        },
        "kernel": "SoS"
      },
      "source": [
        "# This Pollyglot Notebook is for analysis of Transcriptomics data in LINCS OmixAtlas\n",
        "\n",
        "This notebook allows you to get started with your analysis. You can use this notebook as base for further analytical work you might be interested to do.\n",
        "\n",
        "<blockquote>When you first open the notebook, please run the code cells below.</blockquote>\n",
        "\n",
        "For more details on how to use Notebooks on Polly, please visit [Polly Notebooks](https://docs.elucidata.io/Scaling%20compute/Polly%20Notebooks.html).\n",
        "\n",
        "For more details on API access to your OmixAtlas, please visit [Accessing OmixAtlas using polly-python through Polly Notebooks](https://docs.elucidata.io/OmixAtlas/Polly%20Python.html)"
      ]
    },
    {
      "cell_type": "code",
      "execution_count": null,
      "metadata": {
        "kernel": "Pollyglot"
      },
      "outputs": [],
      "source": [
        "# please do not modify\n",
        "from IPython.display import display_html\n",
        "def restartkernel() :\n",
        "    display_html(\"<script>Jupyter.notebook.kernel.restart()</script>\",raw=True)"
      ]
    },
    {
      "cell_type": "markdown",
      "metadata": {
        "kernel": "Pollyglot"
      },
      "source": [
        "## Install Polly Python"
      ]
    },
    {
      "cell_type": "code",
      "execution_count": null,
      "metadata": {
        "kernel": "Pollyglot"
      },
      "outputs": [],
      "source": [
        "!sudo pip3 install polly-python --quiet # to search and download selected dataset"
      ]
    },
    {
      "cell_type": "code",
      "execution_count": null,
      "metadata": {
        "kernel": "Pollyglot"
      },
      "outputs": [],
      "source": [
        "restartkernel() #Pause for a few seconds before the kernel is refreshed"
      ]
    },
    {
      "cell_type": "code",
      "execution_count": null,
      "metadata": {
        "kernel": "Pollyglot"
      },
      "outputs": [],
      "source": [
        "# please do not modify\n",
        "from IPython.display import HTML\n",
        "HTML('''<script type=\"text/javascript\"> Jupyter.notebook.kernel.execute(\"url = '\" + window.location + \"'\", {}, {}); </script>''')"
      ]
    },
    {
      "cell_type": "markdown",
      "metadata": {
        "kernel": "Pollyglot"
      },
      "source": [
        "## Fetch OmixAtlas ID and Dataset ID\n",
        "\n",
        "- **OmixAtlas ID**: Unique target repository identifier which is required for downloading datasets using **polly-python** \n",
        "- **Dataset ID**: Unique identifier for datasets on Polly which is required for downloading datasets using **polly-python** "
      ]
    },
    {
      "cell_type": "code",
      "execution_count": null,
      "metadata": {
        "kernel": "Pollyglot"
      },
      "outputs": [],
      "source": [
        "import urllib.parse as urlparse\n",
        "from urllib.parse import parse_qs\n",
        "\n",
        "parsed = urlparse.urlparse(url)\n",
        "repo_vars_list = [parse_qs(parsed.query).get(query_url)[0] for query_url in ['repo_id', 'repo_name', 'dataset_id']]\n",
        "repo_id=repo_vars_list[0]\n",
        "repo_name=repo_vars_list[1]\n",
        "dataset_id=repo_vars_list[2]\n",
        "file_name=dataset_id +'.csv'"
      ]
    },
    {
      "cell_type": "markdown",
      "metadata": {
        "kernel": "Pollyglot"
      },
      "source": [
        "## Get Authentication Token"
      ]
    },
    {
      "cell_type": "markdown",
      "metadata": {
        "kernel": "Pollyglot"
      },
      "source": [
        "### Query metadata in OmixAtlas\n",
        "\n",
        "All data in OmixAtlas are structured and and stored in indexes that can be queries through polly python  \n",
        "\n",
        "Metadata fields are curated and tagged with ontologies, which simplifies finding relevant datasets  \n",
        "\n",
        "To filter and search the metadata in any of the indexes in OmixAtlas, the following function can be used:  \n",
        "\n",
        "\n",
        "                                **query_metadata (** *query written in SQL* **)**\n",
        "The SQL queries have the following syntax:\n",
        "\n",
        "                        **SELECT** *field names* **FROM** *index_name* **WHERE** *conditions*\n",
        "\n",
        "For a list of curated fields, indices and conditions available for querying, please visit [Data Schema](https://docs.elucidata.io/OmixAtlas/Data%20Schema.html)"
      ]
    },
    {
      "cell_type": "code",
      "execution_count": null,
      "metadata": {
        "kernel": "Pollyglot"
      },
      "outputs": [],
      "source": [
        "#Import packages\n",
        "from polly.omixatlas import OmixAtlas\n",
        "import os\n",
        "import pandas as pd\n",
        "from json import dumps"
      ]
    },
    {
      "cell_type": "code",
      "execution_count": null,
      "metadata": {
        "kernel": "Pollyglot"
      },
      "outputs": [],
      "source": [
        "AUTH_TOKEN=(os.environ['POLLY_REFRESH_TOKEN']) # Obtain authentication tokens\n",
        "omixatlas = OmixAtlas(AUTH_TOKEN)"
      ]
    },
    {
      "cell_type": "code",
      "execution_count": null,
      "metadata": {
        "kernel": "Pollyglot"
      },
      "outputs": [],
      "source": [
        "# Querying dataset\n",
        "query=f\"SELECT * FROM {repo_name}.datasets WHERE dataset_id = '{dataset_id}'\"\n",
        "results=omixatlas.query_metadata(query)\n",
        "results"
      ]
    },
    {
      "cell_type": "markdown",
      "metadata": {
        "kernel": "Pollyglot"
      },
      "source": [
        "## Download and load the .gct file\n",
        "Transcriptomics dataset is stored in gct file. A HEAD file (.gct) file that provides a scalable way of keeping track of data together with learned annotations. An gct file can be read in python using pandas."
      ]
    },
    {
      "cell_type": "code",
      "execution_count": null,
      "metadata": {
        "kernel": "Pollyglot"
      },
      "outputs": [],
      "source": [
        "data = omixatlas.download_data(repo_id, dataset_id)\n",
        "url = data.get('data').get('attributes').get('download_url')\n",
        "status = os.system(f\"wget -O '{file_name}' '{url}'\")\n",
        "if status == 0:\n",
        "    print(\"Downloaded data successfully\")\n",
        "else:\n",
        "    raise Exception(\"Download not successful\")"
      ]
    },
    {
      "cell_type": "markdown",
      "metadata": {
        "kernel": "Python3"
      },
      "source": [
        "## Work with a .gct file\n",
        "\n",
        "A GCT file (.gct) is a tab-delimited text file that contains gene expression data. It contains both expression data and sample metadata in one file. Please read more about GCT file format [here](http://software.broadinstitute.org/software/igv/GCT). \n",
        "\n",
        "We store transcriptional (bulk), proteomics and metabolomics data in gct format. A gct file can be read both in R and Python using [cmapR](https://github.com/cmap/cmapR) (for R) and [cmapPy](https://github.com/cmap/cmapPy) (for Python). Both the packages are installed in this environment and can be used on the datalake files."
      ]
    },
    {
      "cell_type": "code",
      "execution_count": null,
      "metadata": {
        "kernel": "Pollyglot"
      },
      "outputs": [],
      "source": [
        "import pandas as pd\n",
        "import cmapPy\n",
        "from cmapPy.pandasGEXpress.parse_gct import parse\n",
        "\n",
        "gct_obj = parse(file_name) ## Parse the file to create a gct object\n",
        "df_real = gct_obj.data_df ## Extract the dataframe from the gct object\n",
        "col_metadata = gct_obj.col_metadata_df # Extract the column metadata from the gct object\n",
        "row_metadata = gct_obj.row_metadata_df # Extract the row metadata from the gct object\n",
        "df_real.head()"
      ]
    },
    {
      "cell_type": "markdown",
      "metadata": {
        "kernel": "Python3"
      },
      "source": [
        "# Sample Distribution"
      ]
    },
    {
      "cell_type": "code",
      "execution_count": null,
      "metadata": {
        "kernel": "Pollyglot"
      },
      "outputs": [],
      "source": [
        "import plotly.express as px\n",
        "df = col_metadata[[\"pert_id\",\"kw_curated_disease\",\"pert_type\", \"pert_iname\", \"kw_curated_tissue\", \"kw_curated_cell_type\",\n",
        "                   \"kw_curated_drug\",\"kw_curated_genetic_mod_type\",\"kw_curated_modified_gene\", \"kw_curated_cell_line\" ]]\n",
        "df = pd.DataFrame(df.nunique()).reset_index()\n",
        "df = df.sort_values(by =[0])\n",
        "df = df[(df[0]>1)]\n",
        "lst = df[\"chd\"].to_list()\n",
        "print(lst)\n",
        "fig = px.sunburst(col_metadata, path=lst)\n",
        "fig.show()"
      ]
    },
    {
      "cell_type": "markdown",
      "metadata": {
        "kernel": "Python3"
      },
      "source": [
        "# PCA plot"
      ]
    },
    {
      "cell_type": "code",
      "execution_count": null,
      "metadata": {
        "kernel": "Pollyglot"
      },
      "outputs": [],
      "source": [
        "from sklearn.preprocessing import StandardScaler\n",
        "from sklearn.decomposition import PCA\n",
        "import plotly.express as px\n",
        "\n",
        "list_genes = df_real.index.to_list()\n",
        "transpose_data = df_real.rename(columns = col_metadata['pert_id'])\n",
        "df_re = transpose_data.T.reset_index()\n",
        "\n",
        "pca = PCA(n_components=2)\n",
        "components = pca.fit_transform(df_re[list_genes])\n",
        "var = pca.explained_variance_ratio_\n",
        "total_var = var.sum() * 100\n",
        "\n",
        "fig = px.scatter(components, x=0, y=1, color=df_re['cid'],title=f'Total Explained Variance: {total_var:.2f}%',\n",
        "                 labels={'0': f'PC 1 ({var[0]*100:.2f})%', '1': f'PC 2 ({var[1]*100:.2f})%'})\n",
        "fig.show()"
      ]
    },
    {
      "cell_type": "markdown",
      "metadata": {
        "kernel": "Python3"
      },
      "source": [
        "# Heatplot"
      ]
    },
    {
      "cell_type": "code",
      "execution_count": null,
      "metadata": {
        "kernel": "Pollyglot"
      },
      "outputs": [],
      "source": [
        "import seaborn as sns\n",
        "import plotly.figure_factory as ff\n",
        "\n",
        "transpose_data['var'] = transpose_data.var(axis=1)\n",
        "transpose_data = transpose_data.sort_values(by =['var'], ascending = False)\n",
        "transpose_data = transpose_data.drop(['var'], axis = 1)\n",
        "transpose_data.columns = [f'{x}_{i}' for i, x in enumerate(transpose_data.columns, 1)]\n",
        "transpose_data = transpose_data[sorted(transpose_data.columns)]\n",
        "heatmap_data = transpose_data.iloc[0:20,0:len(col_metadata)]\n",
        "\n",
        "fig = px.imshow(heatmap_data, aspect=\"auto\")\n",
        "fig.show()"
      ]
    },
    {
      "cell_type": "markdown",
      "metadata": {
        "kernel": "Pollyglot"
      },
      "source": [
        "## Dendogram\n",
        "\n",
        "#### Clustering of samples"
      ]
    },
    {
      "cell_type": "code",
      "execution_count": null,
      "metadata": {
        "kernel": "Pollyglot"
      },
      "outputs": [],
      "source": [
        "fig = ff.create_dendrogram(heatmap_data.T, orientation='bottom',labels = heatmap_data.columns)\n",
        "fig.update_layout(width=1200, height= len(heatmap_data)*30)\n",
        "fig.show()"
      ]
    },
    {
      "cell_type": "markdown",
      "metadata": {
        "kernel": "Python3"
      },
      "source": [
        "## Interface with Polly Workspaces\n",
        "Polly Notebooks can read data from Workspaces and can write data to Workspaces through Polly CLI in a bash kernel.  \n",
        "\n",
        "*For more details on data transfer between Notebooks and Workspaces, please visit [Accessing Workspace files in Notebook](https://docs.elucidata.io/Scaling%20compute/Polly%20Notebooks.html#accessing-workspace-files-in-notebook).*"
      ]
    },
    {
      "cell_type": "code",
      "execution_count": null,
      "metadata": {
        "kernel": "Bash"
      },
      "outputs": [],
      "source": [
        "## Save a file to your current workspace\n",
        "# polly files copy -s <name_of_your_file> -d \"polly://\" -y\n",
        "\n",
        "## List all files in your current workspace\n",
        "polly files list --workspace-path \"polly://\" -y"
      ]
    }
  ],
  "metadata": {
    "extensions": {
      "jupyter_dashboards": {
        "activeView": "grid_default",
        "version": 1,
        "views": {
          "grid_default": {
            "cellMargin": 10,
            "defaultCellHeight": 20,
            "maxColumns": 12,
            "name": "grid",
            "type": "grid"
          },
          "report_default": {
            "name": "report",
            "type": "report"
          }
        }
      }
    },
    "kernelspec": {
      "display_name": "Pollyglot",
      "language": "sos",
      "name": "sos"
    },
    "language_info": {
      "codemirror_mode": "sos",
      "file_extension": ".sos",
      "mimetype": "text/x-sos",
      "name": "sos",
      "nbconvert_exporter": "sos_notebook.converter.SoS_Exporter",
      "pygments_lexer": "sos"
    },
    "sos": {
      "kernels": [
        [
          "Bash",
          "bash",
          "Bash",
          "#E6EEFF",
          ""
        ],
        [
          "Pollyglot",
          "sos",
          "",
          "",
          "sos"
        ]
      ],
      "panel": {
        "displayed": true,
        "height": 0
      },
      "version": "1.0.0"
    }
  },
  "nbformat": 4,
  "nbformat_minor": 2
}