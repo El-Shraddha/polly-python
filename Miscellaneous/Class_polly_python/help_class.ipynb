{
  "cells": [
    {
      "cell_type": "markdown",
      "metadata": {
        "colab_type": "text",
        "id": "view-in-github"
      },
      "source": [
        "<a href=\"https://polly.elucidata.io/manage/workspaces?action=open_polly_notebook&amp;source=github&amp;path=ElucidataInc%2Fpolly-python%2Fblob%2Fmain%2FMiscellaneous%2FClass_polly_python%2Fhelp_class.ipynb&amp;kernel=elucidata%2FPython+3&amp;machine=medium\" target=\"_parent\"><img alt=\"Open in Polly\" src=\"https://elucidatainc.github.io/PublicAssets/open_polly.svg\"/></a>\n"
      ]
    },
    {
      "cell_type": "markdown",
      "metadata": {},
      "source": [
        "# Welcome to Polly Python Notebook\n",
        "\n",
        "## Functions in Help class"
      ]
    },
    {
      "cell_type": "markdown",
      "metadata": {},
      "source": [
        "Help class of polly-python enables users to do the following:- \n",
        "1. Fetch list of functions in a class\n",
        "2. Gives example of how a function should be used: input-output parameters\n",
        "3. Give link of demo notebook to get started"
      ]
    },
    {
      "cell_type": "code",
      "execution_count": 23,
      "metadata": {},
      "outputs": [],
      "source": [
        "# please do not modify\n",
        "from IPython.display import display_html\n",
        "def restartkernel() :\n",
        "    display_html(\"<script>Jupyter.notebook.kernel.restart()</script>\",raw=True)"
      ]
    },
    {
      "cell_type": "markdown",
      "metadata": {},
      "source": [
        "### Installing polly-python"
      ]
    },
    {
      "cell_type": "code",
      "execution_count": 24,
      "metadata": {
        "scrolled": true
      },
      "outputs": [
        {
          "name": "stdout",
          "output_type": "stream",
          "text": [
            "Requirement already satisfied: polly-python in /usr/local/lib/python3.6/dist-packages (0.1.1)\n",
            "Requirement already satisfied: pytz==2021.1 in /usr/local/lib/python3.6/dist-packages (from polly-python) (2021.1)\n",
            "Requirement already satisfied: joblib in /usr/local/lib/python3.6/dist-packages (from polly-python) (1.1.0)\n",
            "Requirement already satisfied: Cerberus==1.3.2 in /usr/local/lib/python3.6/dist-packages/Cerberus-1.3.2-py3.6.egg (from polly-python) (1.3.2)\n",
            "Requirement already satisfied: Deprecated in /usr/local/lib/python3.6/dist-packages (from polly-python) (1.2.13)\n",
            "Requirement already satisfied: urllib3==1.26.6 in /usr/local/lib/python3.6/dist-packages (from polly-python) (1.26.6)\n",
            "Requirement already satisfied: retrying==1.3.3 in /usr/local/lib/python3.6/dist-packages (from polly-python) (1.3.3)\n",
            "Requirement already satisfied: cmapPy in /usr/local/lib/python3.6/dist-packages (from polly-python) (4.0.1)\n",
            "Requirement already satisfied: black in /usr/local/lib/python3.6/dist-packages (from polly-python) (22.3.0)\n",
            "Requirement already satisfied: six==1.16.0 in /usr/local/lib/python3.6/dist-packages (from polly-python) (1.16.0)\n",
            "Requirement already satisfied: boto3>=1.17.73 in /usr/local/lib/python3.6/dist-packages (from polly-python) (1.23.10)\n",
            "Requirement already satisfied: certifi==2021.10.8 in /usr/local/lib/python3.6/dist-packages (from polly-python) (2021.10.8)\n",
            "Requirement already satisfied: postpy2==0.0.6 in /usr/local/lib/python3.6/dist-packages (from polly-python) (0.0.6)\n",
            "Requirement already satisfied: python-magic==0.4.24 in /usr/local/lib/python3.6/dist-packages (from polly-python) (0.4.24)\n",
            "Requirement already satisfied: botocore>=1.20.73 in /usr/local/lib/python3.6/dist-packages (from polly-python) (1.20.112)\n",
            "Requirement already satisfied: python-dateutil==2.8.1 in /usr/local/lib/python3.6/dist-packages (from polly-python) (2.8.1)\n",
            "Requirement already satisfied: rst2txt in /usr/local/lib/python3.6/dist-packages (from polly-python) (1.1.0)\n",
            "Requirement already satisfied: requests==2.25.1 in /usr/local/lib/python3.6/dist-packages (from polly-python) (2.25.1)\n",
            "Requirement already satisfied: chardet==4.0.0 in /usr/local/lib/python3.6/dist-packages (from polly-python) (4.0.0)\n",
            "Requirement already satisfied: idna==2.10 in /usr/local/lib/python3.6/dist-packages (from polly-python) (2.10)\n",
            "Requirement already satisfied: pandas in /usr/local/lib/python3.6/dist-packages (from polly-python) (1.0.1)\n",
            "Requirement already satisfied: elucidatacloudpathlib==0.6.6 in /usr/local/lib/python3.6/dist-packages (from polly-python) (0.6.6)\n",
            "Requirement already satisfied: setuptools in /usr/local/lib/python3.6/dist-packages (from Cerberus==1.3.2->polly-python) (45.2.0)\n",
            "Requirement already satisfied: wrapt<2,>=1.10 in /usr/local/lib/python3.6/dist-packages (from Deprecated->polly-python) (1.14.1)\n",
            "Requirement already satisfied: numpy>=1.11.2 in /usr/local/lib/python3.6/dist-packages (from cmapPy->polly-python) (1.18.1)\n",
            "Requirement already satisfied: h5py>=2.6.0 in /usr/local/lib/python3.6/dist-packages (from cmapPy->polly-python) (3.1.0)\n",
            "Requirement already satisfied: platformdirs>=2 in /usr/local/lib/python3.6/dist-packages (from black->polly-python) (2.4.0)\n",
            "Requirement already satisfied: pathspec>=0.9.0 in /usr/local/lib/python3.6/dist-packages (from black->polly-python) (0.9.0)\n",
            "Requirement already satisfied: tomli>=1.1.0; python_version < \"3.11\" in /usr/local/lib/python3.6/dist-packages (from black->polly-python) (1.2.3)\n",
            "Requirement already satisfied: typed-ast>=1.4.2; python_version < \"3.8\" and implementation_name == \"cpython\" in /usr/local/lib/python3.6/dist-packages (from black->polly-python) (1.5.4)\n",
            "Requirement already satisfied: mypy-extensions>=0.4.3 in /usr/local/lib/python3.6/dist-packages (from black->polly-python) (0.4.3)\n",
            "Requirement already satisfied: click>=8.0.0 in /usr/local/lib/python3.6/dist-packages (from black->polly-python) (8.0.4)\n",
            "Requirement already satisfied: typing-extensions>=3.10.0.0; python_version < \"3.10\" in /usr/local/lib/python3.6/dist-packages (from black->polly-python) (4.1.1)\n",
            "Requirement already satisfied: dataclasses>=0.6; python_version < \"3.7\" in /usr/local/lib/python3.6/dist-packages (from black->polly-python) (0.8)\n",
            "Requirement already satisfied: s3transfer<0.6.0,>=0.5.0 in /usr/local/lib/python3.6/dist-packages (from boto3>=1.17.73->polly-python) (0.5.2)\n",
            "Requirement already satisfied: jmespath<2.0.0,>=0.7.1 in /usr/local/lib/python3.6/dist-packages (from boto3>=1.17.73->polly-python) (0.9.5)\n",
            "Requirement already satisfied: docutils>=0.11 in /usr/local/lib/python3.6/dist-packages (from rst2txt->polly-python) (0.15.2)\n",
            "Requirement already satisfied: pygments in /usr/local/lib/python3.6/dist-packages (from rst2txt->polly-python) (2.5.2)\n",
            "Requirement already satisfied: importlib-metadata; python_version < \"3.8\" in /usr/local/lib/python3.6/dist-packages (from elucidatacloudpathlib==0.6.6->polly-python) (1.5.0)\n",
            "Requirement already satisfied: cached-property; python_version < \"3.8\" in /usr/local/lib/python3.6/dist-packages (from h5py>=2.6.0->cmapPy->polly-python) (1.5.2)\n",
            "Requirement already satisfied: zipp>=0.5 in /usr/local/lib/python3.6/dist-packages (from importlib-metadata; python_version < \"3.8\"->elucidatacloudpathlib==0.6.6->polly-python) (3.1.0)\n",
            "\u001b[33mWARNING: You are using pip version 19.2.3, however version 21.3.1 is available.\n",
            "You should consider upgrading via the 'pip install --upgrade pip' command.\u001b[0m\n"
          ]
        }
      ],
      "source": [
        "!sudo pip3 install polly-python"
      ]
    },
    {
      "cell_type": "markdown",
      "metadata": {},
      "source": [
        "### Importing some dependencies so that the help functions would work on Jupyter Notebook"
      ]
    },
    {
      "cell_type": "code",
      "execution_count": 25,
      "metadata": {
        "scrolled": true
      },
      "outputs": [
        {
          "name": "stdout",
          "output_type": "stream",
          "text": [
            "Hit:1 https://deb.nodesource.com/node_10.x bionic InRelease\n",
            "Get:2 http://security.ubuntu.com/ubuntu bionic-security InRelease [88.7 kB]    \n",
            "Hit:3 http://archive.ubuntu.com/ubuntu bionic InRelease                        \n",
            "Get:4 http://archive.ubuntu.com/ubuntu bionic-updates InRelease [88.7 kB]      \n",
            "Get:5 http://archive.ubuntu.com/ubuntu bionic-backports InRelease [74.6 kB]\n",
            "Fetched 252 kB in 1s (188 kB/s)    \n",
            "Reading package lists... Done\n",
            "Reading package lists... Done\n",
            "Building dependency tree       \n",
            "Reading state information... Done\n",
            "apt-utils is already the newest version (1.6.14).\n",
            "locales is already the newest version (2.27-3ubuntu1.6).\n",
            "0 upgraded, 0 newly installed, 0 to remove and 96 not upgraded.\n",
            "env: LANGUAGE=en_US.UTF-8\n",
            "env: LC_ALL=en_US.UTF-8\n",
            "env: LANG=en_US.UTF-8\n",
            "env: LC_TYPE=en_US.UTF-8\n",
            "Generating locales (this might take a while)...\n",
            "  en_US.ISO-8859-1... done\n",
            "  en_US.UTF-8... done\n",
            "Generation complete.\n",
            "Generating locales (this might take a while)...\n",
            "  en_US.ISO-8859-1... done\n",
            "  en_US.UTF-8... done\n",
            "Generation complete.\n"
          ]
        }
      ],
      "source": [
        "!sudo apt-get update && sudo apt-get install -y apt-utils locales\n",
        "%env LANGUAGE=en_US.UTF-8\n",
        "%env LC_ALL=en_US.UTF-8\n",
        "%env LANG=en_US.UTF-8\n",
        "%env LC_TYPE=en_US.UTF-8\n",
        "!sudo locale-gen en_US en_US.UTF-8\n",
        "!sudo dpkg-reconfigure --frontend noninteractive locales"
      ]
    },
    {
      "cell_type": "markdown",
      "metadata": {},
      "source": [
        "### Restarting the Kernel"
      ]
    },
    {
      "cell_type": "code",
      "execution_count": null,
      "metadata": {},
      "outputs": [],
      "source": [
        "restartkernel() #Pause for a few seconds before the kernel is refreshed"
      ]
    },
    {
      "cell_type": "code",
      "execution_count": null,
      "metadata": {},
      "outputs": [],
      "source": [
        "from polly.auth import Polly\n",
        "from polly.workspaces import Workspaces\n",
        "from polly.omixatlas import OmixAtlas\n",
        "from polly.cohort import Cohort\n",
        "import os\n",
        "\n",
        "#authentication before using Polly\n",
        "AUTH_TOKEN=os.environ['POLLY_REFRESH_TOKEN'] \n",
        "polly = Polly()                              \n",
        "polly.auth(AUTH_TOKEN)\n",
        "\n",
        "#defining objects\n",
        "workspaces = Workspaces() \n",
        "omixatlas = OmixAtlas()\n",
        "cohort = Cohort()"
      ]
    },
    {
      "cell_type": "markdown",
      "metadata": {},
      "source": [
        "## Checking the functions of Workspace class"
      ]
    },
    {
      "cell_type": "code",
      "execution_count": 4,
      "metadata": {
        "scrolled": true
      },
      "outputs": [
        {
          "name": "stdout",
          "output_type": "stream",
          "text": [
            "Name - OmixAtlas()\n",
            "Documentation - omixatlas class enables users to create, update an omixatlas, get\n",
            "summary of an omixatlas, get schema of data at dataset, sample and\n",
            "feature level, query metadata, download data, save file to workspace\n",
            "and data converter functions.\n",
            "\n",
            "\"args:\"\n",
            "      \"token (str):\" token copy from polly.\n",
            "\n",
            "we can initialize a omixatlas class object using.\n",
            "\n",
            "   from polly.omixatlas import omixatlas\n",
            "   omixatlas = omixatlas(token)\n",
            "\n",
            "if you are authorised then you can initialize object without token to\n",
            "know about visit authentication.\n",
            "\n",
            "OmixAtlas class contain following methods\n",
            "\n",
            "\n",
            "Name - create() \n",
            "Description - this function is used to create a new omixatlas,\n",
            "\n",
            "Name - doc() \n",
            "Description - function to see documentation for class - polly, omixatlas,\n",
            "workspaces, cohort and it's member funtions\n",
            "\n",
            "Name - download_data() \n",
            "Description - use update_schema(repo_key, payload) to update the existing schema of\n",
            "an omixatlas.\n",
            "\n",
            "Name - example() \n",
            "Description - function to see examples for class - polly, omixatlas, workspaces,\n",
            "cohort and it's member funtions\n",
            "\n",
            "Name - format_converter() \n",
            "Description - function to convert a file format.\n",
            "\n",
            "Name - get_all_omixatlas() \n",
            "Description - this function will return the summary of all the omixatlas on polly\n",
            "which the user has access to.\n",
            "\n",
            "Name - get_omixatlas() \n",
            "Description - this function will return a omixatlas repository in polly.\n",
            "\n",
            "Name - get_schema() \n",
            "Description - using this function to extract the schema of an omixatlas.\n",
            "\n",
            "Name - insert_schema() \n",
            "Description - use insert_schema(repo_key, payload) to update the existing schema of\n",
            "an omixatlas.\n",
            "\n",
            "Name - omixatlas_summary() \n",
            "Description - this function will return you a object that contain information about\n",
            "a given omixatlas.\n",
            "\n",
            "Name - query_metadata() \n",
            "Description - this function will return a dataframe containing the datasets or\n",
            "sample as per the sql query.\n",
            "\n",
            "Name - save_to_workspace() \n",
            "Description - function for saving data from omixatlas to workspaces.\n",
            "\n",
            "Name - update() \n",
            "Description - this function is used to update an omixatlas\n",
            "\n",
            "Name - update_schema() \n",
            "Description - use update_schema(repo_key, payload) to update the existing schema of\n",
            "an omixatlas.\n",
            "\n",
            "Go to our polly documentation https://docs.elucidata.io/OmixAtlas/Polly%20Python.html\n"
          ]
        }
      ],
      "source": [
        "omixatlas.doc()"
      ]
    },
    {
      "cell_type": "markdown",
      "metadata": {},
      "source": [
        "### Documentation for omixatlas_summary"
      ]
    },
    {
      "cell_type": "code",
      "execution_count": 9,
      "metadata": {},
      "outputs": [
        {
          "name": "stdout",
          "output_type": "stream",
          "text": [
            "Name - omixatlas_summary()\n",
            "Documentation - this function will return you a object that contain information about\n",
            "a given omixatlas.\n",
            "\n",
            "\"args:\"\n",
            "      \"key (str) :\" repo_id or repo_name.\n",
            "\n",
            "\"returns:\"\n",
            "   it will return a object like this.\n",
            "\n",
            "      {\n",
            "      'repo_name': 'repo',\n",
            "      'repo_id': '1646',\n",
            "      'indexes': {\n",
            "          'gct_metadata': 'repo_gct_metadata',\n",
            "          'h5ad_metadata': 'repo_h5ad_metadata',\n",
            "          'csv': 'repo_csv',\n",
            "          'files': 'repo_files',\n",
            "          'json': 'repo_json',\n",
            "          'ipynb': 'repo_ipynb',\n",
            "          'gct_data': 'repo_gct_data',\n",
            "          'h5ad_data': 'repo_h5ad_data'\n",
            "          },\n",
            "      'diseases': [],\n",
            "      'organisms': [],\n",
            "      'sources': [],\n",
            "      'datatypes': [],\n",
            "      'dataset_count': 0,\n",
            "      'disease_count': 0,\n",
            "      'tissue_count': 0,\n",
            "      'organism_count': 0,\n",
            "      'cell_line_count': 0,\n",
            "      'cell_type_count': 0,\n",
            "      'drug_count': 0,\n",
            "      'data_type_count': 0,\n",
            "      'data_source_count': 0,\n",
            "      'sample_count': 0,\n",
            "      'normal_sample_count': 0\n",
            "      }\n",
            "\n",
            "   to use this function see the code below.\n",
            "\n",
            "   from polly.omixatlas import omixatlas\n",
            "   omixatlas = omixatlas(token)\n",
            "   # to use omixatlas class functions\n",
            "   omixatlas.omixatlas_summary(key)\n",
            " \n",
            "\n",
            "\n",
            "Go to our polly documentation https://docs.elucidata.io/OmixAtlas/Polly%20Python.html\n"
          ]
        }
      ],
      "source": [
        "omixatlas.doc(\"omixatlas_summary\")"
      ]
    },
    {
      "cell_type": "markdown",
      "metadata": {},
      "source": [
        "### Documentation for save_to_workspace"
      ]
    },
    {
      "cell_type": "code",
      "execution_count": 20,
      "metadata": {},
      "outputs": [
        {
          "name": "stdout",
          "output_type": "stream",
          "text": [
            "Name - save_to_workspace()\n",
            "Documentation - function for saving data from omixatlas to workspaces.\n",
            "\n",
            "\"args:\"\n",
            "      \"repo_id (str) :\" repo id.\n",
            "      \"dataset_id (str) :\" dataset id.\n",
            "      \"workspace_id (str) :\" workspace id of polly.\n",
            "      \"workspace_path (str) :\" path in workspace where you want to save file.\n",
            "\n",
            "   example to save the dataset_id \"'gse101127_gpl1355'\" from repo_id \"1615965444377\" to a workspace_id \"8025\" in a folder named \"'data'\".\n",
            "\n",
            "   omixatlas.save_to_workspace('1615965444377', 'gse101127_gpl1355', 8025, 'data')\n",
            " \n",
            "\n",
            "\n",
            "Go to our polly documentation https://docs.elucidata.io/OmixAtlas/Polly%20Python.html\n"
          ]
        }
      ],
      "source": [
        "omixatlas.doc(\"save_to_workspace\")"
      ]
    },
    {
      "cell_type": "markdown",
      "metadata": {},
      "source": [
        "## Checking the functions of Workspace class"
      ]
    },
    {
      "cell_type": "code",
      "execution_count": 12,
      "metadata": {},
      "outputs": [
        {
          "name": "stdout",
          "output_type": "stream",
          "text": [
            "Name - Workspaces()\n",
            "Documentation - this class contains functions to interact with workspaces on polly.\n",
            "users can create a workspace, fetch list of workspaces, upload data to\n",
            "workspace and download data from workspace. to get started, users need\n",
            "to initialize a object that can use all function and methods of\n",
            "workspaces class.\n",
            "\n",
            "\"args:\"\n",
            "      \"token (str):\" token copy from polly.\n",
            "\n",
            "   # to initialize a obj\n",
            "   workspaces = workspaces(token)\n",
            "   # from there you can other methods\n",
            "   workspaces.fetch_my_workspaces()\n",
            "\n",
            "if you are authorised then you can initialize object without token to\n",
            "know about visit authentication.\n",
            "\n",
            "Workspaces class contain following methods\n",
            "\n",
            "\n",
            "Name - create_workspace() \n",
            "Description - this function create workspace on polly.\n",
            "\n",
            "Name - doc() \n",
            "Description - function to see documentation for class - polly, omixatlas,\n",
            "workspaces, cohort and it's member funtions\n",
            "\n",
            "Name - download_from_workspaces() \n",
            "Description - function to download files/folders from workspaces.\n",
            "\n",
            "Name - example() \n",
            "Description - function to see examples for class - polly, omixatlas, workspaces,\n",
            "cohort and it's member funtions\n",
            "\n",
            "Name - fetch_my_workspaces() \n",
            "Description - this function fetch workspaces from polly.\n",
            "\n",
            "Name - upload_to_workspaces() \n",
            "Description - function to upload files/folders to workspaces.\n",
            "\n",
            "Go to our polly documentation https://docs.elucidata.io/OmixAtlas/Polly%20Python.html\n"
          ]
        }
      ],
      "source": [
        "workspaces.doc()"
      ]
    },
    {
      "cell_type": "markdown",
      "metadata": {},
      "source": [
        "### Documentation for fetch_my_workspaces"
      ]
    },
    {
      "cell_type": "code",
      "execution_count": 13,
      "metadata": {},
      "outputs": [
        {
          "name": "stdout",
          "output_type": "stream",
          "text": [
            "Name - fetch_my_workspaces()\n",
            "Documentation - this function fetch workspaces from polly.\n",
            "\n",
            "\"args:\"\n",
            "      none\n",
            "\n",
            "\"returns:\"\n",
            "      it will return a table with attributes.\n",
            "\n",
            "   # create a obj\n",
            "   workspaces = workspaces(token)\n",
            "   # from there you can other methods\n",
            "   workspaces.fetch_my_workspaces()\n",
            " \n",
            "\n",
            "\n",
            "Go to our polly documentation https://docs.elucidata.io/OmixAtlas/Polly%20Python.html\n"
          ]
        }
      ],
      "source": [
        "workspaces.doc(\"fetch_my_workspaces\")"
      ]
    },
    {
      "cell_type": "markdown",
      "metadata": {},
      "source": [
        "### Documentation for upload_to_workspaces"
      ]
    },
    {
      "cell_type": "code",
      "execution_count": 14,
      "metadata": {},
      "outputs": [
        {
          "name": "stdout",
          "output_type": "stream",
          "text": [
            "Name - upload_to_workspaces()\n",
            "Documentation - function to upload files/folders to workspaces.\n",
            "\n",
            "\"args:\"\n",
            "      \"workspace_id :\" id of the where file need to uploaded.\n",
            "      \"workspace_path :\" file path on workspace if folder does not exist it will create.\n",
            "      \"local_path :\" uploaded file path.\n",
            "\n",
            "\"returns:\"\n",
            "      none\n",
            "\n",
            "\"errors:\"\n",
            "      \"invalidparameterexception:\" when the parameter like workspace id is invalid.\n",
            "      \"invalidpathexception:\" when the file to path is invalid.\n",
            "\n",
            "   # create a obj\n",
            "   workspaces = workspaces(token)\n",
            "   # from there you can other methods\n",
            "   workspaces.upload_to_workspaces(workspace_id, workspace_path, local_path)\n",
            " \n",
            "\n",
            "\n",
            "Go to our polly documentation https://docs.elucidata.io/OmixAtlas/Polly%20Python.html\n"
          ]
        }
      ],
      "source": [
        "workspaces.doc(\"upload_to_workspaces\")"
      ]
    },
    {
      "cell_type": "markdown",
      "metadata": {},
      "source": [
        "## Checking the functions of Cohort class"
      ]
    },
    {
      "cell_type": "code",
      "execution_count": 17,
      "metadata": {},
      "outputs": [
        {
          "name": "stdout",
          "output_type": "stream",
          "text": [
            "Name - Cohort()\n",
            "Documentation - the cohort class contains functions which can be used to create\n",
            "cohorts, add or remove samples,merge metadata and data-matrix of\n",
            "samples/datasets in a cohort and edit or delete a cohort.\n",
            "\n",
            "\"args:\"\n",
            "      \"token (str):\" token copy from polly.\n",
            "\n",
            "   from polly.cohort import cohort\n",
            "   # to use this class initialize a object like this if you are not authorised on polly\n",
            "   cohort = cohort(token)\n",
            "\n",
            "if you are authorised then you can initialize object without token to\n",
            "know about visit authentication.\n",
            "\n",
            "Cohort class contain following methods\n",
            "\n",
            "\n",
            "Name - add_to_cohort() \n",
            "Description - this function is used to add datasets or samples to a cohort.\n",
            "\n",
            "Name - create_cohort() \n",
            "Description - this function is used to create a cohort.\n",
            "\n",
            "Name - delete_cohort() \n",
            "Description - this function is used to delete a cohort.\n",
            "\n",
            "Name - doc() \n",
            "Description - function to see documentation for class - polly, omixatlas,\n",
            "workspaces, cohort and it's member funtions\n",
            "\n",
            "Name - edit_cohort() \n",
            "Description - this function is used to edit the cohort level metadata such as cohort\n",
            "name and description.\n",
            "\n",
            "Name - example() \n",
            "Description - function to see examples for class - polly, omixatlas, workspaces,\n",
            "cohort and it's member funtions\n",
            "\n",
            "Name - is_valid() \n",
            "Description - this function is used to check the validity of a cohort.\n",
            "\n",
            "Name - load_cohort() \n",
            "Description - function to load an existing cohort into an object. once loaded, the\n",
            "functions described in the documentation can be used for the object\n",
            "where the cohort is loaded.\n",
            "\n",
            "Name - merge_data() \n",
            "Description - function to merge metadata (dataset, sample and feature level\n",
            "metadata) or data-matrix of all the samplesor datasets in the cohort.\n",
            "\n",
            "Name - remove_from_cohort() \n",
            "Description - this function is used for removing datasets or samples from a cohort.\n",
            "\n",
            "Name - summarize_cohort() \n",
            "Description - function to return cohort level metadata and dataframe with datasets\n",
            "or samples added in the cohort.\n",
            "\n",
            "Go to our polly documentation https://docs.elucidata.io/OmixAtlas/Polly%20Python.html\n"
          ]
        }
      ],
      "source": [
        "cohort.doc()"
      ]
    },
    {
      "cell_type": "markdown",
      "metadata": {},
      "source": [
        "### Documentation for create_cohort"
      ]
    },
    {
      "cell_type": "code",
      "execution_count": 18,
      "metadata": {},
      "outputs": [
        {
          "name": "stdout",
          "output_type": "stream",
          "text": [
            "Name - create_cohort()\n",
            "Documentation - this function is used to create a cohort.\n",
            "\n",
            "\"args:\"\n",
            "      \"local_path(str):\" local path to instantiate the cohort.\n",
            "      \"cohort_name(str):\" identifier name for the cohort.\n",
            "      \"description(str):\" description about the cohort.\n",
            "      \"repo_key(str):\" optional argument: repo_key(repo_name/repo_id) for the omixatlas from where datasets or samples is to be added.\n",
            "      \"entity_id(list):\" optional argument: list of dataset_id or sample_id to be added to the cohort.\n",
            "\n",
            "\"returns:\"\n",
            "      a confirmation message on creation of cohort.\n",
            "\n",
            "\"errors:\"\n",
            "      \"invalidparameterexception:\" empty or invalid parameters\n",
            "      \"invalidcohortnameexception:\" the cohort_name does not represent a valid cohort name.\n",
            "      \"invalidpathexception:\" provided path does not represent a file or a directory.\n",
            "\n",
            "   after making cohort object you can create cohort.\n",
            "   example-\n",
            "   1. while passing argument of repo and dataset.\n",
            "\n",
            "   cohort.create_cohort(\"/import/tcga_cohort\",\"cohort_name\",\"cohort_description\",\"repo_id\",list_of_datasets)\n",
            "\n",
            "   2. without passing argument of repo and dataset.\n",
            "\n",
            "   cohort2.create_cohort(\"/path\",\"cohort_name\",\"cohort_description\")\n",
            " \n",
            "\n",
            "\n",
            "Go to our polly documentation https://docs.elucidata.io/OmixAtlas/Polly%20Python.html\n"
          ]
        }
      ],
      "source": [
        "cohort.doc(\"create_cohort\")"
      ]
    },
    {
      "cell_type": "markdown",
      "metadata": {},
      "source": [
        "### Documentation for add_to_cohort"
      ]
    },
    {
      "cell_type": "code",
      "execution_count": 19,
      "metadata": {},
      "outputs": [
        {
          "name": "stdout",
          "output_type": "stream",
          "text": [
            "Name - add_to_cohort()\n",
            "Documentation - this function is used to add datasets or samples to a cohort.\n",
            "\n",
            "\"args:\"\n",
            "      \"repo_key(str):\" repo_key(repo_name or repo_id) for the omixatlas where datasets or samples belong.\n",
            "      \"entity_id(list):\" list of dataset id or sample id to be added to the cohort.\n",
            "\n",
            "\"returns:\"\n",
            "      a confirmation message for number of datasets or samples which are added to the cohort.\n",
            "\n",
            "\"errors:\"\n",
            "      \"invalidparameterexception:\" empty or invalid parameters.\n",
            "      \"invalidcohortoperationexception:\" this operation is not valid as no cohort has been instantiated.\n",
            "\n",
            "   after creating cohort we can add datasets or samples to cohort.\n",
            "   example-\n",
            "\n",
            "   cohort.add_to_cohort(\"repo_id\",list_of_dataset_ids)\n",
            " \n",
            "\n",
            "\n",
            "Go to our polly documentation https://docs.elucidata.io/OmixAtlas/Polly%20Python.html\n"
          ]
        }
      ],
      "source": [
        "cohort.doc(\"add_to_cohort\")"
      ]
    }
  ],
  "metadata": {
    "kernelspec": {
      "display_name": "Python 3",
      "language": "python",
      "name": "python3"
    },
    "language_info": {
      "codemirror_mode": {
        "name": "ipython",
        "version": 3
      },
      "file_extension": ".py",
      "mimetype": "text/x-python",
      "name": "python",
      "nbconvert_exporter": "python",
      "pygments_lexer": "ipython3",
      "version": "3.6.9"
    }
  },
  "nbformat": 4,
  "nbformat_minor": 2
}