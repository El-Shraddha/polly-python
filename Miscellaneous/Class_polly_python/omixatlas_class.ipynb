{
  "cells": [
    {
      "cell_type": "markdown",
      "metadata": {
        "colab_type": "text",
        "id": "view-in-github"
      },
      "source": [
        "<a href=\"https://polly.elucidata.io/manage/workspaces?action=open_polly_notebook&amp;source=github&amp;path=ElucidataInc%2Fpolly-python%2Fblob%2Fmain%2FMiscellaneous%2FClass_polly_python%2Fomixatlas_class.ipynb&amp;kernel=elucidata%2FPython+3&amp;machine=small\" target=\"_parent\"><img alt=\"Open in Polly\" src=\"https://elucidatainc.github.io/PublicAssets/open_polly.svg\"/></a>\n"
      ]
    },
    {
      "cell_type": "markdown",
      "metadata": {},
      "source": [
        "# Welcome to Polly Python3 Notebook."
      ]
    },
    {
      "cell_type": "markdown",
      "metadata": {},
      "source": [
        "OmixAtlas class of polly-python enables users to do the following:- \n",
        "1. Create, update an Omixatlas, get summary of an Omixatlas, \n",
        "2. Get schema of data at dataset, sample and feature level, \n",
        "3. Query metadata to find the dataset of interest, \n",
        "4. Download data, \n",
        "5. Save data to workspace and \n",
        "6. Data format converter functions"
      ]
    },
    {
      "cell_type": "code",
      "execution_count": 13,
      "metadata": {},
      "outputs": [],
      "source": [
        "# please do not modify\n",
        "from IPython.display import display_html\n",
        "def restartkernel() :\n",
        "    display_html(\"<script>Jupyter.notebook.kernel.restart()</script>\",raw=True)"
      ]
    },
    {
      "cell_type": "code",
      "execution_count": null,
      "metadata": {},
      "outputs": [],
      "source": [
        "!sudo pip3 install polly-python"
      ]
    },
    {
      "cell_type": "code",
      "execution_count": 11,
      "metadata": {},
      "outputs": [],
      "source": [
        "from polly.auth import Polly\n",
        "from polly.omixatlas import OmixAtlas\n",
        "import os\n",
        "\n",
        "#authentication before using Polly\n",
        "AUTH_TOKEN=os.environ['POLLY_REFRESH_TOKEN'] \n",
        "polly = Polly()                              \n",
        "polly.auth(AUTH_TOKEN)\n",
        "\n",
        "#defining omixatlas object\n",
        "omixatlas = OmixAtlas() "
      ]
    },
    {
      "cell_type": "markdown",
      "metadata": {},
      "source": [
        "## Omixatlas Summary"
      ]
    },
    {
      "cell_type": "markdown",
      "metadata": {},
      "source": [
        "### get_all_omixatlas"
      ]
    },
    {
      "cell_type": "code",
      "execution_count": 2,
      "metadata": {},
      "outputs": [
        {
          "data": {
            "text/html": [
              "<div>\n",
              "<style scoped>\n",
              "    .dataframe tbody tr th:only-of-type {\n",
              "        vertical-align: middle;\n",
              "    }\n",
              "\n",
              "    .dataframe tbody tr th {\n",
              "        vertical-align: top;\n",
              "    }\n",
              "\n",
              "    .dataframe thead th {\n",
              "        text-align: right;\n",
              "    }\n",
              "</style>\n",
              "<table border=\"1\" class=\"dataframe\">\n",
              "  <thead>\n",
              "    <tr style=\"text-align: right;\">\n",
              "      <th></th>\n",
              "      <th>repo_name</th>\n",
              "      <th>repo_id</th>\n",
              "      <th>indexes</th>\n",
              "      <th>diseases</th>\n",
              "      <th>organisms</th>\n",
              "      <th>sources</th>\n",
              "      <th>datatypes</th>\n",
              "      <th>dataset_count</th>\n",
              "      <th>disease_count</th>\n",
              "      <th>tissue_count</th>\n",
              "      <th>organism_count</th>\n",
              "      <th>cell_line_count</th>\n",
              "      <th>cell_type_count</th>\n",
              "      <th>drug_count</th>\n",
              "      <th>data_type_count</th>\n",
              "      <th>data_source_count</th>\n",
              "      <th>sample_count</th>\n",
              "      <th>normal_sample_count</th>\n",
              "    </tr>\n",
              "  </thead>\n",
              "  <tbody>\n",
              "    <tr>\n",
              "      <th>0</th>\n",
              "      <td>atavistik</td>\n",
              "      <td>1650348922627</td>\n",
              "      <td>{'gct_metadata': 'atavistik_gct_metadata', 'h5...</td>\n",
              "      <td>[none]</td>\n",
              "      <td>[none]</td>\n",
              "      <td>[none]</td>\n",
              "      <td>[]</td>\n",
              "      <td>1</td>\n",
              "      <td>1</td>\n",
              "      <td>1</td>\n",
              "      <td>1</td>\n",
              "      <td>0</td>\n",
              "      <td>0</td>\n",
              "      <td>0</td>\n",
              "      <td>0</td>\n",
              "      <td>1</td>\n",
              "      <td>0</td>\n",
              "      <td>0</td>\n",
              "    </tr>\n",
              "    <tr>\n",
              "      <th>1</th>\n",
              "      <td>gdx</td>\n",
              "      <td>1646370413059</td>\n",
              "      <td>{'gct_metadata': 'gdx_gct_metadata', 'h5ad_met...</td>\n",
              "      <td>[]</td>\n",
              "      <td>[]</td>\n",
              "      <td>[]</td>\n",
              "      <td>[]</td>\n",
              "      <td>0</td>\n",
              "      <td>0</td>\n",
              "      <td>0</td>\n",
              "      <td>0</td>\n",
              "      <td>0</td>\n",
              "      <td>0</td>\n",
              "      <td>0</td>\n",
              "      <td>0</td>\n",
              "      <td>0</td>\n",
              "      <td>0</td>\n",
              "      <td>0</td>\n",
              "    </tr>\n",
              "    <tr>\n",
              "      <th>2</th>\n",
              "      <td>auron_data_lake</td>\n",
              "      <td>1613041985263</td>\n",
              "      <td>{'gct_metadata': 'auron_data_lake_gct_metadata...</td>\n",
              "      <td>[melanoma, small cell lung carcinoma, breast n...</td>\n",
              "      <td>[homo sapiens, mus musculus, [homo sapiens]]</td>\n",
              "      <td>[geo, auron, pubmed, tcga]</td>\n",
              "      <td>[raw counts transcriptomics, transcriptomics]</td>\n",
              "      <td>234</td>\n",
              "      <td>94</td>\n",
              "      <td>89</td>\n",
              "      <td>3</td>\n",
              "      <td>107</td>\n",
              "      <td>66</td>\n",
              "      <td>512</td>\n",
              "      <td>2</td>\n",
              "      <td>4</td>\n",
              "      <td>17664</td>\n",
              "      <td>2695</td>\n",
              "    </tr>\n",
              "    <tr>\n",
              "      <th>3</th>\n",
              "      <td>hpa</td>\n",
              "      <td>1619514006627</td>\n",
              "      <td>{'gct_metadata': 'hpa_gct_metadata', 'h5ad_met...</td>\n",
              "      <td>[normal]</td>\n",
              "      <td>[homo sapiens, sus (pig), mus musculus]</td>\n",
              "      <td>[hpa]</td>\n",
              "      <td>[transcriptomics, gene expression reliability]</td>\n",
              "      <td>1755</td>\n",
              "      <td>1</td>\n",
              "      <td>78</td>\n",
              "      <td>3</td>\n",
              "      <td>70</td>\n",
              "      <td>150</td>\n",
              "      <td>1</td>\n",
              "      <td>2</td>\n",
              "      <td>1</td>\n",
              "      <td>678</td>\n",
              "      <td>678</td>\n",
              "    </tr>\n",
              "    <tr>\n",
              "      <th>4</th>\n",
              "      <td>teddy</td>\n",
              "      <td>1615464367934</td>\n",
              "      <td>{'gct_metadata': 'teddy_gct_metadata', 'h5ad_m...</td>\n",
              "      <td>[none, diabetes mellitus, type 1]</td>\n",
              "      <td>[homo sapiens]</td>\n",
              "      <td>[metabolomics workbench]</td>\n",
              "      <td>[lipidomics, metabolomics]</td>\n",
              "      <td>34518</td>\n",
              "      <td>2</td>\n",
              "      <td>1</td>\n",
              "      <td>1</td>\n",
              "      <td>1</td>\n",
              "      <td>1</td>\n",
              "      <td>1</td>\n",
              "      <td>2</td>\n",
              "      <td>1</td>\n",
              "      <td>11565</td>\n",
              "      <td>0</td>\n",
              "    </tr>\n",
              "  </tbody>\n",
              "</table>\n",
              "</div>"
            ],
            "text/plain": [
              "         repo_name        repo_id  \\\n",
              "0        atavistik  1650348922627   \n",
              "1              gdx  1646370413059   \n",
              "2  auron_data_lake  1613041985263   \n",
              "3              hpa  1619514006627   \n",
              "4            teddy  1615464367934   \n",
              "\n",
              "                                             indexes  \\\n",
              "0  {'gct_metadata': 'atavistik_gct_metadata', 'h5...   \n",
              "1  {'gct_metadata': 'gdx_gct_metadata', 'h5ad_met...   \n",
              "2  {'gct_metadata': 'auron_data_lake_gct_metadata...   \n",
              "3  {'gct_metadata': 'hpa_gct_metadata', 'h5ad_met...   \n",
              "4  {'gct_metadata': 'teddy_gct_metadata', 'h5ad_m...   \n",
              "\n",
              "                                            diseases  \\\n",
              "0                                             [none]   \n",
              "1                                                 []   \n",
              "2  [melanoma, small cell lung carcinoma, breast n...   \n",
              "3                                           [normal]   \n",
              "4                  [none, diabetes mellitus, type 1]   \n",
              "\n",
              "                                      organisms                     sources  \\\n",
              "0                                        [none]                      [none]   \n",
              "1                                            []                          []   \n",
              "2  [homo sapiens, mus musculus, [homo sapiens]]  [geo, auron, pubmed, tcga]   \n",
              "3       [homo sapiens, sus (pig), mus musculus]                       [hpa]   \n",
              "4                                [homo sapiens]    [metabolomics workbench]   \n",
              "\n",
              "                                        datatypes  dataset_count  \\\n",
              "0                                              []              1   \n",
              "1                                              []              0   \n",
              "2   [raw counts transcriptomics, transcriptomics]            234   \n",
              "3  [transcriptomics, gene expression reliability]           1755   \n",
              "4                      [lipidomics, metabolomics]          34518   \n",
              "\n",
              "   disease_count  tissue_count  organism_count  cell_line_count  \\\n",
              "0              1             1               1                0   \n",
              "1              0             0               0                0   \n",
              "2             94            89               3              107   \n",
              "3              1            78               3               70   \n",
              "4              2             1               1                1   \n",
              "\n",
              "   cell_type_count  drug_count  data_type_count  data_source_count  \\\n",
              "0                0           0                0                  1   \n",
              "1                0           0                0                  0   \n",
              "2               66         512                2                  4   \n",
              "3              150           1                2                  1   \n",
              "4                1           1                2                  1   \n",
              "\n",
              "   sample_count  normal_sample_count  \n",
              "0             0                    0  \n",
              "1             0                    0  \n",
              "2         17664                 2695  \n",
              "3           678                  678  \n",
              "4         11565                    0  "
            ]
          },
          "execution_count": 2,
          "metadata": {},
          "output_type": "execute_result"
        }
      ],
      "source": [
        "all_omix_atlas = pd.DataFrame.from_dict(omixatlas.get_all_omixatlas()['data'])\n",
        "all_omix_atlas.head()"
      ]
    },
    {
      "cell_type": "markdown",
      "metadata": {},
      "source": [
        "### omixatlas_summary"
      ]
    },
    {
      "cell_type": "code",
      "execution_count": 3,
      "metadata": {},
      "outputs": [
        {
          "data": {
            "text/plain": [
              "cell_line_count                                                     5683\n",
              "cell_type_count                                                      872\n",
              "data_source_count                                                      1\n",
              "data_type_count                                                        3\n",
              "dataset_count                                                      97374\n",
              "datatypes              [transcriptomics, raw counts transcriptomics, ...\n",
              "disease_count                                                       3897\n",
              "diseases               [normal, neoplasms, breast neoplasms, obesity,...\n",
              "drug_count                                                          1892\n",
              "indexes                {'gct_metadata': 'geo_gct_metadata', 'h5ad_met...\n",
              "normal_sample_count                                              1582461\n",
              "organism_count                                                       299\n",
              "organisms              [homo sapiens, mus musculus, rattus norvegicus...\n",
              "repo_id                                                                9\n",
              "repo_name                                                            geo\n",
              "sample_count                                                     2226663\n",
              "sources                                                            [geo]\n",
              "tissue_count                                                        1106\n",
              "Name: data, dtype: object"
            ]
          },
          "execution_count": 3,
          "metadata": {},
          "output_type": "execute_result"
        }
      ],
      "source": [
        "#Get summary of a given omixatlas\n",
        "omix_atlas_summary = pd.DataFrame.from_dict(omixatlas.omixatlas_summary('geo'))['data']\n",
        "omix_atlas_summary"
      ]
    },
    {
      "cell_type": "markdown",
      "metadata": {},
      "source": [
        "## Create Omixatlas\n",
        "Data-admin can create an Omixatlas using polly-python. The function create takes in four parameters as described below.\n",
        "\n",
        "new_repo = omixatlas.create(\"[display_name]\", \"[description]\", \n",
        "                          repo_name =\"[repo_name]\" (optional), \n",
        "                          image_url = \"[image_url]\" (optional))"
      ]
    },
    {
      "cell_type": "code",
      "execution_count": null,
      "metadata": {},
      "outputs": [],
      "source": [
        "new_omixatlas = omixatlas.create(\"Demo Omixatlas\", \"this is a demo omixatlas\")\n",
        "new_omixatlas"
      ]
    },
    {
      "cell_type": "markdown",
      "metadata": {},
      "source": [
        "## Update Omixatlas\n",
        "An Omixatlas can only be updated if it's licence is managed by an organization. Data-admin can update the following metadata of an Omixatlas:-\n",
        "\n",
        "a. Metadata for an existing Omixatlas. The attributes that can be updated are display_name, description, and image_url. \n",
        "\n",
        "b. Adding components(i.e. Apps, Python Notebooks) to an existing Omixatlas.\n",
        "\n",
        "omixatlas.update(repo_key, display_name = \"display_name\", description = \"description\",image_url = \"url\", components = [component_1])\n",
        "\n",
        "component_1 = {\"data_type\": 'datatype', \"component_id\": id}\n",
        "// example: {\"data_type\":[\"Transcriptomics\"], \"component_id\":78}"
      ]
    },
    {
      "cell_type": "code",
      "execution_count": null,
      "metadata": {},
      "outputs": [],
      "source": [
        "omixatlas.update(\"demo_omixatlas\", display_name = \"Demo Omixatlas 1\", description = \"this is revised description of demo omixatlas\")"
      ]
    },
    {
      "cell_type": "markdown",
      "metadata": {},
      "source": [
        "## Working with data schema\n",
        "\n",
        "### Get schema of an Omixatlas\n",
        "Users can fetch dataset and sample level schema for a given omixatlas.\n",
        "\n",
        "omixatlas.get_schema(repo_key, schema_level, source, data_type)"
      ]
    },
    {
      "cell_type": "code",
      "execution_count": 4,
      "metadata": {},
      "outputs": [],
      "source": [
        "#Store the dataset and sample level schema for all datatypes and sources in GEO Omixatlas\n",
        "schema = omixatlas.get_schema(\"geo\", ['dataset', 'sample'], \"all\", \"all\")"
      ]
    },
    {
      "cell_type": "code",
      "execution_count": 5,
      "metadata": {},
      "outputs": [
        {
          "data": {
            "text/html": [
              "<div>\n",
              "<style scoped>\n",
              "    .dataframe tbody tr th:only-of-type {\n",
              "        vertical-align: middle;\n",
              "    }\n",
              "\n",
              "    .dataframe tbody tr th {\n",
              "        vertical-align: top;\n",
              "    }\n",
              "\n",
              "    .dataframe thead th {\n",
              "        text-align: right;\n",
              "    }\n",
              "</style>\n",
              "<table border=\"1\" class=\"dataframe\">\n",
              "  <thead>\n",
              "    <tr style=\"text-align: right;\">\n",
              "      <th></th>\n",
              "      <th>Source</th>\n",
              "      <th>Datatype</th>\n",
              "      <th>Field Name</th>\n",
              "      <th>Field Description</th>\n",
              "      <th>Field Type</th>\n",
              "      <th>Is Curated</th>\n",
              "      <th>Is Array</th>\n",
              "    </tr>\n",
              "  </thead>\n",
              "  <tbody>\n",
              "    <tr>\n",
              "      <th>0</th>\n",
              "      <td>all</td>\n",
              "      <td>all</td>\n",
              "      <td>data_matrix_available</td>\n",
              "      <td>Data Matrix Available</td>\n",
              "      <td>boolean</td>\n",
              "      <td>False</td>\n",
              "      <td>False</td>\n",
              "    </tr>\n",
              "    <tr>\n",
              "      <th>1</th>\n",
              "      <td>all</td>\n",
              "      <td>all</td>\n",
              "      <td>curated_organism</td>\n",
              "      <td>Orgnism from which the samples were derived</td>\n",
              "      <td>text</td>\n",
              "      <td>False</td>\n",
              "      <td>True</td>\n",
              "    </tr>\n",
              "    <tr>\n",
              "      <th>2</th>\n",
              "      <td>all</td>\n",
              "      <td>all</td>\n",
              "      <td>src_uri</td>\n",
              "      <td>Unique URI derived from data file's S3 location</td>\n",
              "      <td>text</td>\n",
              "      <td>False</td>\n",
              "      <td>False</td>\n",
              "    </tr>\n",
              "    <tr>\n",
              "      <th>3</th>\n",
              "      <td>all</td>\n",
              "      <td>all</td>\n",
              "      <td>total_num_samples</td>\n",
              "      <td>Total number of samples in a dataset</td>\n",
              "      <td>integer</td>\n",
              "      <td>False</td>\n",
              "      <td>False</td>\n",
              "    </tr>\n",
              "    <tr>\n",
              "      <th>4</th>\n",
              "      <td>all</td>\n",
              "      <td>all</td>\n",
              "      <td>year</td>\n",
              "      <td>Year in which the dataset was published</td>\n",
              "      <td>text</td>\n",
              "      <td>False</td>\n",
              "      <td>False</td>\n",
              "    </tr>\n",
              "  </tbody>\n",
              "</table>\n",
              "</div>"
            ],
            "text/plain": [
              "  Source Datatype             Field Name  \\\n",
              "0    all      all  data_matrix_available   \n",
              "1    all      all       curated_organism   \n",
              "2    all      all                src_uri   \n",
              "3    all      all      total_num_samples   \n",
              "4    all      all                   year   \n",
              "\n",
              "                                 Field Description Field Type  Is Curated  \\\n",
              "0                            Data Matrix Available    boolean       False   \n",
              "1      Orgnism from which the samples were derived       text       False   \n",
              "2  Unique URI derived from data file's S3 location       text       False   \n",
              "3             Total number of samples in a dataset    integer       False   \n",
              "4          Year in which the dataset was published       text       False   \n",
              "\n",
              "   Is Array  \n",
              "0     False  \n",
              "1      True  \n",
              "2     False  \n",
              "3     False  \n",
              "4     False  "
            ]
          },
          "execution_count": 5,
          "metadata": {},
          "output_type": "execute_result"
        }
      ],
      "source": [
        "#Fetch the dataframe with dataset level metadata\n",
        "schema.dataset.head()"
      ]
    },
    {
      "cell_type": "code",
      "execution_count": 6,
      "metadata": {},
      "outputs": [
        {
          "data": {
            "text/html": [
              "<div>\n",
              "<style scoped>\n",
              "    .dataframe tbody tr th:only-of-type {\n",
              "        vertical-align: middle;\n",
              "    }\n",
              "\n",
              "    .dataframe tbody tr th {\n",
              "        vertical-align: top;\n",
              "    }\n",
              "\n",
              "    .dataframe thead th {\n",
              "        text-align: right;\n",
              "    }\n",
              "</style>\n",
              "<table border=\"1\" class=\"dataframe\">\n",
              "  <thead>\n",
              "    <tr style=\"text-align: right;\">\n",
              "      <th></th>\n",
              "      <th>Source</th>\n",
              "      <th>Datatype</th>\n",
              "      <th>Field Name</th>\n",
              "      <th>Field Description</th>\n",
              "      <th>Field Type</th>\n",
              "      <th>Is Array</th>\n",
              "    </tr>\n",
              "  </thead>\n",
              "  <tbody>\n",
              "    <tr>\n",
              "      <th>0</th>\n",
              "      <td>all</td>\n",
              "      <td>all</td>\n",
              "      <td>growth_protocol_ch1</td>\n",
              "      <td>NA</td>\n",
              "      <td>text</td>\n",
              "      <td>False</td>\n",
              "    </tr>\n",
              "    <tr>\n",
              "      <th>1</th>\n",
              "      <td>all</td>\n",
              "      <td>all</td>\n",
              "      <td>src_uri</td>\n",
              "      <td>Unique URI derived from source data file's S3 ...</td>\n",
              "      <td>text</td>\n",
              "      <td>False</td>\n",
              "    </tr>\n",
              "    <tr>\n",
              "      <th>2</th>\n",
              "      <td>all</td>\n",
              "      <td>all</td>\n",
              "      <td>sample_id</td>\n",
              "      <td>Unique ID associated with every sample</td>\n",
              "      <td>text</td>\n",
              "      <td>False</td>\n",
              "    </tr>\n",
              "    <tr>\n",
              "      <th>3</th>\n",
              "      <td>all</td>\n",
              "      <td>all</td>\n",
              "      <td>curated_gene_modified</td>\n",
              "      <td>Gene modified through genetic modification</td>\n",
              "      <td>text</td>\n",
              "      <td>True</td>\n",
              "    </tr>\n",
              "    <tr>\n",
              "      <th>4</th>\n",
              "      <td>all</td>\n",
              "      <td>all</td>\n",
              "      <td>dose_ch1</td>\n",
              "      <td>NA</td>\n",
              "      <td>text</td>\n",
              "      <td>False</td>\n",
              "    </tr>\n",
              "  </tbody>\n",
              "</table>\n",
              "</div>"
            ],
            "text/plain": [
              "  Source Datatype             Field Name  \\\n",
              "0    all      all    growth_protocol_ch1   \n",
              "1    all      all                src_uri   \n",
              "2    all      all              sample_id   \n",
              "3    all      all  curated_gene_modified   \n",
              "4    all      all               dose_ch1   \n",
              "\n",
              "                                   Field Description Field Type  Is Array  \n",
              "0                                                 NA       text     False  \n",
              "1  Unique URI derived from source data file's S3 ...       text     False  \n",
              "2             Unique ID associated with every sample       text     False  \n",
              "3         Gene modified through genetic modification       text      True  \n",
              "4                                                 NA       text     False  "
            ]
          },
          "execution_count": 6,
          "metadata": {},
          "output_type": "execute_result"
        }
      ],
      "source": [
        "#Fetch the dataframe with sample level metadata\n",
        "schema.sample.head()"
      ]
    },
    {
      "cell_type": "markdown",
      "metadata": {},
      "source": [
        "### Update schema of an Omixatlas\n",
        "\n",
        "Data-admin can update the existing schema of an OmixAtlas.\n",
        "\n",
        "omixatlas.update_schema(repo_key, payload)"
      ]
    },
    {
      "cell_type": "code",
      "execution_count": null,
      "metadata": {},
      "outputs": [],
      "source": [
        "import json\n",
        "repo_key = \"demo_omixatlas\"\n",
        "payload = {\n",
        " \"repo_id\": \"demo_omixatlas\",\n",
        " \"schema_type\": \"files\",\n",
        " \"created_time\": 1649765088197,\n",
        " \"enabled\": True,\n",
        " \"last_updated_time\": 1650421685751,\n",
        " \"schema\": {\n",
        "  \"all\": {\n",
        "    \"author\": {\n",
        "     \"description\": \"Name of the author who published the dataset\",\n",
        "     \"display_name\": \"Author\",\n",
        "     \"filter_size\": 1,\n",
        "     \"is_array\": False,\n",
        "     \"is_column\": False,\n",
        "     \"is_filter\": False,\n",
        "     \"is_keyword\": False,\n",
        "     \"original_name\": \"author\",\n",
        "     \"type\": \"text\"\n",
        "    },\n",
        "    \"bucket\": {\n",
        "     \"description\": \"S3 bucket in which the data file resides\",\n",
        "     \"display_name\": \"Bucket\",\n",
        "     \"filter_size\": 2000,\n",
        "     \"is_array\": False,\n",
        "     \"is_column\": False,\n",
        "     \"is_filter\": False,\n",
        "     \"is_keyword\": True,\n",
        "     \"original_name\": \"kw_bucket\",\n",
        "     \"type\": \"text\"\n",
        "    },\n",
        "    \"curated_cell_line\": {\n",
        "     \"description\": \"Cell lines from which the samples were derived for this dataset\",\n",
        "     \"display_name\": \"Cell line\",\n",
        "     \"filter_size\": 1000,\n",
        "     \"is_array\": True,\n",
        "     \"is_column\": True,\n",
        "     \"is_filter\": True,\n",
        "     \"is_keyword\": True,\n",
        "     \"original_name\": \"kw_cell_line\",\n",
        "     \"type\": \"text\"\n",
        "    },\n",
        "    \"curated_cell_type\": {\n",
        "     \"description\": \"Types of cell present in the dataset\",\n",
        "     \"display_name\": \"Cell type\",\n",
        "     \"filter_size\": 1,\n",
        "     \"is_array\": True,\n",
        "     \"is_column\": True,\n",
        "     \"is_filter\": False,\n",
        "     \"is_keyword\": True,\n",
        "     \"original_name\": \"kw_cell_type\",\n",
        "     \"type\": \"text\"\n",
        "    },\n",
        "    \"curated_disease\": {\n",
        "     \"description\": \"Disease associated with the dataset\",\n",
        "     \"display_name\": \"Disease\",\n",
        "     \"filter_size\": 3000,\n",
        "     \"is_array\": True,\n",
        "     \"is_column\": True,\n",
        "     \"is_filter\": True,\n",
        "     \"is_keyword\": True,\n",
        "     \"original_name\": \"disease\",\n",
        "     \"type\": \"text\"\n",
        "    },\n",
        "    \"curated_drug\": {\n",
        "     \"description\": \"Drugs administered in the samples belonging to the dataset\",\n",
        "     \"display_name\": \"Drug\",\n",
        "     \"filter_size\": 3000,\n",
        "     \"is_array\": True,\n",
        "     \"is_column\": True,\n",
        "     \"is_filter\": True,\n",
        "     \"is_keyword\": True,\n",
        "     \"original_name\": \"kw_drug\",\n",
        "     \"type\": \"text\"\n",
        "    },\n",
        "    \"curated_gene\": {\n",
        "     \"description\": \"Gene studied in the dataset\",\n",
        "     \"display_name\": \"Gene\",\n",
        "     \"filter_size\": 1,\n",
        "     \"is_array\": True,\n",
        "     \"is_column\": False,\n",
        "     \"is_filter\": False,\n",
        "     \"is_keyword\": True,\n",
        "     \"original_name\": \"kw_gene\",\n",
        "     \"type\": \"text\"\n",
        "    },\n",
        "    \"curated_organism\": {\n",
        "     \"description\": \"Orgnism from which the samples were derived\",\n",
        "     \"display_name\": \"Organism\",\n",
        "     \"filter_size\": 1000,\n",
        "     \"is_array\": True,\n",
        "     \"is_column\": True,\n",
        "     \"is_filter\": True,\n",
        "     \"is_keyword\": True,\n",
        "     \"original_name\": \"organism\",\n",
        "     \"type\": \"text\"\n",
        "    },\n",
        "      \"all\": {\n",
        "     \"description\": \"Orgnism from which the samples were derived\",\n",
        "     \"display_name\": \"Organism\",\n",
        "     \"filter_size\": 1000,\n",
        "     \"is_array\": True,\n",
        "     \"is_column\": True,\n",
        "     \"is_filter\": True,\n",
        "     \"is_keyword\": True,\n",
        "     \"original_name\": \"organism\",\n",
        "     \"type\": \"text\"\n",
        "    }\n",
        "   }\n",
        "  }\n",
        " }"
      ]
    },
    {
      "cell_type": "code",
      "execution_count": null,
      "metadata": {},
      "outputs": [],
      "source": [
        "omixatlas.update_schema(\"demo_omixatlas\", payload)"
      ]
    },
    {
      "cell_type": "markdown",
      "metadata": {},
      "source": [
        "### Insert schema to an Omixatlas\n",
        "\n",
        "Data-admin can insert schema to an OmixAtlas.\n",
        "\n",
        "omixatlas.update_schema(repo_key, payload)"
      ]
    },
    {
      "cell_type": "code",
      "execution_count": null,
      "metadata": {},
      "outputs": [],
      "source": [
        "omixatlas.insert_schema(\"demo_omixatlas\", payload)"
      ]
    },
    {
      "cell_type": "markdown",
      "metadata": {},
      "source": [
        "## Query metadata to find datasets of interest"
      ]
    },
    {
      "cell_type": "code",
      "execution_count": 7,
      "metadata": {},
      "outputs": [
        {
          "name": "stdout",
          "output_type": "stream",
          "text": [
            "Query execution succeeded (time taken: 2.06 seconds, data scanned: 2.724 MB)\n",
            "Fetched 25 rows\n"
          ]
        },
        {
          "data": {
            "text/html": [
              "<div>\n",
              "<style scoped>\n",
              "    .dataframe tbody tr th:only-of-type {\n",
              "        vertical-align: middle;\n",
              "    }\n",
              "\n",
              "    .dataframe tbody tr th {\n",
              "        vertical-align: top;\n",
              "    }\n",
              "\n",
              "    .dataframe thead th {\n",
              "        text-align: right;\n",
              "    }\n",
              "</style>\n",
              "<table border=\"1\" class=\"dataframe\">\n",
              "  <thead>\n",
              "    <tr style=\"text-align: right;\">\n",
              "      <th></th>\n",
              "      <th>dataset_id</th>\n",
              "      <th>total_num_samples</th>\n",
              "      <th>curated_disease</th>\n",
              "      <th>curated_tissue</th>\n",
              "      <th>year</th>\n",
              "      <th>description</th>\n",
              "    </tr>\n",
              "  </thead>\n",
              "  <tbody>\n",
              "    <tr>\n",
              "      <th>0</th>\n",
              "      <td>GSE126232_GPL16791</td>\n",
              "      <td>24</td>\n",
              "      <td>[Adenocarcinoma of Lung]</td>\n",
              "      <td>[lung]</td>\n",
              "      <td>2020</td>\n",
              "      <td>Molecular effects of ISRIB during asparagine d...</td>\n",
              "    </tr>\n",
              "    <tr>\n",
              "      <th>1</th>\n",
              "      <td>GSE110907_GPL11154</td>\n",
              "      <td>85</td>\n",
              "      <td>[Adenocarcinoma of Lung]</td>\n",
              "      <td>[lung]</td>\n",
              "      <td>2020</td>\n",
              "      <td>Identification of tumor suppressor microRNAs b...</td>\n",
              "    </tr>\n",
              "    <tr>\n",
              "      <th>2</th>\n",
              "      <td>GSE138757_GPL19057</td>\n",
              "      <td>36</td>\n",
              "      <td>[Adenocarcinoma of Lung]</td>\n",
              "      <td>[lung]</td>\n",
              "      <td>2020</td>\n",
              "      <td>Combined deletion of Glut1 and Glut3 impairs l...</td>\n",
              "    </tr>\n",
              "    <tr>\n",
              "      <th>3</th>\n",
              "      <td>GSE33858_GPL10999</td>\n",
              "      <td>62</td>\n",
              "      <td>[Carcinoma, Non-Small-Cell Lung, Adenocarcinom...</td>\n",
              "      <td>[lung]</td>\n",
              "      <td>2019</td>\n",
              "      <td>MicroRNA expression profiles in lung cancer ti...</td>\n",
              "    </tr>\n",
              "    <tr>\n",
              "      <th>4</th>\n",
              "      <td>GSE98048_GPL19057</td>\n",
              "      <td>192</td>\n",
              "      <td>[Carcinoma, Non-Small-Cell Lung, Adenocarcinom...</td>\n",
              "      <td>[lung, peripheral blood]</td>\n",
              "      <td>2019</td>\n",
              "      <td>Single-cell profiling of tumor infiltrating T ...</td>\n",
              "    </tr>\n",
              "  </tbody>\n",
              "</table>\n",
              "</div>"
            ],
            "text/plain": [
              "           dataset_id  total_num_samples  \\\n",
              "0  GSE126232_GPL16791                 24   \n",
              "1  GSE110907_GPL11154                 85   \n",
              "2  GSE138757_GPL19057                 36   \n",
              "3   GSE33858_GPL10999                 62   \n",
              "4   GSE98048_GPL19057                192   \n",
              "\n",
              "                                     curated_disease  \\\n",
              "0                           [Adenocarcinoma of Lung]   \n",
              "1                           [Adenocarcinoma of Lung]   \n",
              "2                           [Adenocarcinoma of Lung]   \n",
              "3  [Carcinoma, Non-Small-Cell Lung, Adenocarcinom...   \n",
              "4  [Carcinoma, Non-Small-Cell Lung, Adenocarcinom...   \n",
              "\n",
              "             curated_tissue  year  \\\n",
              "0                    [lung]  2020   \n",
              "1                    [lung]  2020   \n",
              "2                    [lung]  2020   \n",
              "3                    [lung]  2019   \n",
              "4  [lung, peripheral blood]  2019   \n",
              "\n",
              "                                         description  \n",
              "0  Molecular effects of ISRIB during asparagine d...  \n",
              "1  Identification of tumor suppressor microRNAs b...  \n",
              "2  Combined deletion of Glut1 and Glut3 impairs l...  \n",
              "3  MicroRNA expression profiles in lung cancer ti...  \n",
              "4  Single-cell profiling of tumor infiltrating T ...  "
            ]
          },
          "execution_count": 7,
          "metadata": {},
          "output_type": "execute_result"
        }
      ],
      "source": [
        "query = \"\"\"SELECT dataset_id, total_num_samples, curated_disease, curated_tissue, year,description FROM geo.datasets \n",
        "            WHERE CONTAINS(curated_disease, 'Adenocarcinoma of Lung') AND \n",
        "            platform = 'RNASeq' AND total_num_samples > 20 ORDER BY year desc\"\"\"\n",
        "results=omixatlas.query_metadata(query, query_api_version=\"v2\")\n",
        "results.head()"
      ]
    },
    {
      "cell_type": "code",
      "execution_count": 14,
      "metadata": {},
      "outputs": [
        {
          "name": "stdout",
          "output_type": "stream",
          "text": [
            "Query execution succeeded (time taken: 34.60 seconds, data scanned: 12.670 MB)\n",
            "Fetched 652 rows\n"
          ]
        },
        {
          "data": {
            "text/html": [
              "<div>\n",
              "<style scoped>\n",
              "    .dataframe tbody tr th:only-of-type {\n",
              "        vertical-align: middle;\n",
              "    }\n",
              "\n",
              "    .dataframe tbody tr th {\n",
              "        vertical-align: top;\n",
              "    }\n",
              "\n",
              "    .dataframe thead th {\n",
              "        text-align: right;\n",
              "    }\n",
              "</style>\n",
              "<table border=\"1\" class=\"dataframe\">\n",
              "  <thead>\n",
              "    <tr style=\"text-align: right;\">\n",
              "      <th></th>\n",
              "      <th>src_dataset_id</th>\n",
              "      <th>disease</th>\n",
              "      <th>protein_position</th>\n",
              "      <th>amino_acids</th>\n",
              "      <th>sequencer</th>\n",
              "      <th>impact</th>\n",
              "      <th>variant_class</th>\n",
              "      <th>consequence</th>\n",
              "      <th>name</th>\n",
              "    </tr>\n",
              "  </thead>\n",
              "  <tbody>\n",
              "    <tr>\n",
              "      <th>0</th>\n",
              "      <td>BRCA_Mutation_TCGA-3C-AALI-01A-11D-A41F-09</td>\n",
              "      <td>['Breast Neoplasms']</td>\n",
              "      <td>183/393</td>\n",
              "      <td>S/*</td>\n",
              "      <td>Illumina HiSeq 2000</td>\n",
              "      <td>HIGH</td>\n",
              "      <td>SNV</td>\n",
              "      <td>stop_gained</td>\n",
              "      <td>TP53_c.548C&gt;A</td>\n",
              "    </tr>\n",
              "    <tr>\n",
              "      <th>1</th>\n",
              "      <td>BRCA_Mutation_TCGA-3C-AALK-01A-11D-A41F-09</td>\n",
              "      <td>['Breast Neoplasms']</td>\n",
              "      <td>542/1068</td>\n",
              "      <td>E/K</td>\n",
              "      <td>Illumina HiSeq 2000</td>\n",
              "      <td>MODERATE</td>\n",
              "      <td>SNV</td>\n",
              "      <td>missense_variant</td>\n",
              "      <td>PIK3CA_c.1624G&gt;A</td>\n",
              "    </tr>\n",
              "    <tr>\n",
              "      <th>2</th>\n",
              "      <td>BRCA_Mutation_TCGA-3C-AALK-01A-11D-A41F-09</td>\n",
              "      <td>['Breast Neoplasms']</td>\n",
              "      <td>1004/1068</td>\n",
              "      <td>M/I</td>\n",
              "      <td>Illumina HiSeq 2000</td>\n",
              "      <td>MODERATE</td>\n",
              "      <td>SNV</td>\n",
              "      <td>missense_variant</td>\n",
              "      <td>PIK3CA_c.3012G&gt;T</td>\n",
              "    </tr>\n",
              "    <tr>\n",
              "      <th>3</th>\n",
              "      <td>BRCA_Mutation_TCGA-4H-AAAK-01A-12D-A41F-09</td>\n",
              "      <td>['Breast Neoplasms']</td>\n",
              "      <td>571/882</td>\n",
              "      <td>NaN</td>\n",
              "      <td>Illumina HiSeq 2000</td>\n",
              "      <td>HIGH</td>\n",
              "      <td>SNV</td>\n",
              "      <td>splice_donor_variant</td>\n",
              "      <td>CDH1_c.1711+1G&gt;T</td>\n",
              "    </tr>\n",
              "    <tr>\n",
              "      <th>4</th>\n",
              "      <td>BRCA_Mutation_TCGA-5L-AAT0-01A-12D-A41F-09</td>\n",
              "      <td>['Breast Neoplasms']</td>\n",
              "      <td>23/882</td>\n",
              "      <td>Q/*</td>\n",
              "      <td>Illumina HiSeq 2000</td>\n",
              "      <td>HIGH</td>\n",
              "      <td>SNV</td>\n",
              "      <td>stop_gained</td>\n",
              "      <td>CDH1_c.67C&gt;T</td>\n",
              "    </tr>\n",
              "  </tbody>\n",
              "</table>\n",
              "</div>"
            ],
            "text/plain": [
              "                               src_dataset_id               disease  \\\n",
              "0  BRCA_Mutation_TCGA-3C-AALI-01A-11D-A41F-09  ['Breast Neoplasms']   \n",
              "1  BRCA_Mutation_TCGA-3C-AALK-01A-11D-A41F-09  ['Breast Neoplasms']   \n",
              "2  BRCA_Mutation_TCGA-3C-AALK-01A-11D-A41F-09  ['Breast Neoplasms']   \n",
              "3  BRCA_Mutation_TCGA-4H-AAAK-01A-12D-A41F-09  ['Breast Neoplasms']   \n",
              "4  BRCA_Mutation_TCGA-5L-AAT0-01A-12D-A41F-09  ['Breast Neoplasms']   \n",
              "\n",
              "  protein_position amino_acids            sequencer    impact variant_class  \\\n",
              "0          183/393         S/*  Illumina HiSeq 2000      HIGH           SNV   \n",
              "1         542/1068         E/K  Illumina HiSeq 2000  MODERATE           SNV   \n",
              "2        1004/1068         M/I  Illumina HiSeq 2000  MODERATE           SNV   \n",
              "3          571/882         NaN  Illumina HiSeq 2000      HIGH           SNV   \n",
              "4           23/882         Q/*  Illumina HiSeq 2000      HIGH           SNV   \n",
              "\n",
              "            consequence              name  \n",
              "0           stop_gained     TP53_c.548C>A  \n",
              "1      missense_variant  PIK3CA_c.1624G>A  \n",
              "2      missense_variant  PIK3CA_c.3012G>T  \n",
              "3  splice_donor_variant  CDH1_c.1711+1G>T  \n",
              "4           stop_gained      CDH1_c.67C>T  "
            ]
          },
          "execution_count": 14,
          "metadata": {},
          "output_type": "execute_result"
        }
      ],
      "source": [
        "query = \"\"\"SELECT src_dataset_id, disease, protein_position, amino_acids, sequencer, impact, variant_class, consequence, name\n",
        "        FROM tcga.features AS features\n",
        "        \n",
        "        JOIN (\n",
        "        SELECT dataset_id AS dataset_id, curated_disease AS disease FROM tcga.datasets WHERE data_type LIKE 'Mutation'\n",
        "         ) AS datasets\n",
        "         ON features.src_dataset_id = datasets.dataset_id\n",
        "         \n",
        "         WHERE hugo_symbol IN ('TP53','PIK3CA','CDH1','GATA3') AND features.src_dataset_id LIKE '%BRCA%'\n",
        "    ORDER BY features.src_dataset_id\"\"\"\n",
        "results=omixatlas.query_metadata(query, query_api_version=\"v2\")\n",
        "results.head()"
      ]
    },
    {
      "cell_type": "markdown",
      "metadata": {},
      "source": [
        "## Download data\n",
        "\n",
        "To download any dataset, the following function can be used.\n",
        "\n",
        "omixatlas.download_data(\"repo_key\", \"[dataset_id]\")\n",
        "\n",
        "The repo_key (repo_name OR repo_id) of an OmixAtlas can be identified by calling the get_all_omixatlas() function. The dataset_id can be obtained by querying the metadata at the dataset level using query_metadata shown above."
      ]
    },
    {
      "cell_type": "markdown",
      "metadata": {},
      "source": [
        "### Downloading .gct file and opening it in a data frame"
      ]
    },
    {
      "cell_type": "code",
      "execution_count": 13,
      "metadata": {},
      "outputs": [
        {
          "name": "stdout",
          "output_type": "stream",
          "text": [
            "Downloaded data successfully\n"
          ]
        }
      ],
      "source": [
        "dataset_id = \"GSE100003_GPL15207\" #dataset which user wants to download.\n",
        "repo_key = \"geo\" #repo_id OR repo_name from which dataset should be downloaded from.\n",
        "file_name = f\"{dataset_id}.gct\"\n",
        "data = omixatlas.download_data(repo_key, dataset_id)\n",
        "url = data.get('data').get('attributes').get('download_url')\n",
        "status = os.system(f\"wget -O '{file_name}' '{url}'\")\n",
        "if status == 0:\n",
        "    print(\"Downloaded data successfully\")\n",
        "else:\n",
        "    raise Exception(\"Download not successful\")"
      ]
    },
    {
      "cell_type": "markdown",
      "metadata": {},
      "source": [
        "In order to parse the .gct data, a python package called cmapPy can be used in the following manner."
      ]
    },
    {
      "cell_type": "markdown",
      "metadata": {},
      "source": [
        "### Downloading .h5ad file and opening it in a data frame"
      ]
    },
    {
      "cell_type": "code",
      "execution_count": 26,
      "metadata": {},
      "outputs": [
        {
          "name": "stdout",
          "output_type": "stream",
          "text": [
            "Downloaded data successfully\n"
          ]
        }
      ],
      "source": [
        "dataset_id = \"GSE121001_GPL19057\" #dataset which user wants to download.\n",
        "repo_key = \"sc_data_lake\" #repo_id OR repo_name from which dataset should be downloaded from.\n",
        "file_name = f\"{dataset_id}.h5ad\"\n",
        "data = omixatlas.download_data(repo_key, dataset_id)\n",
        "url = data.get('data').get('attributes').get('download_url')\n",
        "status = os.system(f\"wget -O '{file_name}' '{url}'\")\n",
        "if status == 0:\n",
        "    print(\"Downloaded data successfully\")\n",
        "else:\n",
        "    raise Exception(\"Download not successful\")"
      ]
    },
    {
      "cell_type": "markdown",
      "metadata": {},
      "source": [
        "### Downloading .vcf file and opening it in a data frame"
      ]
    },
    {
      "cell_type": "code",
      "execution_count": 22,
      "metadata": {},
      "outputs": [
        {
          "name": "stdout",
          "output_type": "stream",
          "text": [
            "Downloaded data successfully\n"
          ]
        }
      ],
      "source": [
        "dataset_id = \"gnomad_v2.1.1_genome_TP53\" #dataset which user wants to download.\n",
        "repo_key = \"gnomad\" #repo_id OR repo_name from which dataset should be downloaded from.\n",
        "file_name = f\"{dataset_id}.vcf\"\n",
        "data = omixatlas.download_data(repo_key, dataset_id)\n",
        "url = data.get('data').get('attributes').get('download_url')\n",
        "status = os.system(f\"wget -O '{file_name}' '{url}'\")\n",
        "if status == 0:\n",
        "    print(\"Downloaded data successfully\")\n",
        "else:\n",
        "    raise Exception(\"Download not successful\")"
      ]
    },
    {
      "cell_type": "markdown",
      "metadata": {},
      "source": [
        "The downloaded vcf file can be further analysed using the docker environment containing Hail package on Polly."
      ]
    },
    {
      "cell_type": "markdown",
      "metadata": {},
      "source": [
        "## Save data from Omixatlas to workspace\n",
        "\n",
        "Users can download the data from an Omixatlas and save it to a workspace.\n",
        "\n",
        "omixatlas.save_to_workspace(repo_id, dataset_id, workspace_id, workspace_path)"
      ]
    },
    {
      "cell_type": "code",
      "execution_count": 23,
      "metadata": {},
      "outputs": [
        {
          "data": {
            "text/plain": [
              "{'data': {'type': 'workspace-jobs',\n",
              "  'id': '1615965444377/8025',\n",
              "  'attributes': {'destination-gct': '8025/my_collection/GSE101127_GPL1355.gct',\n",
              "   'destination-json': '8025/my_collection/GSE101127_GPL1355.json'}}}"
            ]
          },
          "execution_count": 23,
          "metadata": {},
          "output_type": "execute_result"
        }
      ],
      "source": [
        "# Example to save the dataset_id 'GSE101127_GPL1355' from repo_id 1615965444377 to workspace_id 8025 in a folder named 'my_collection'\n",
        "\n",
        "omixatlas.save_to_workspace('1615965444377', 'GSE101127_GPL1355', 8025, 'my_collection')"
      ]
    },
    {
      "cell_type": "markdown",
      "metadata": {},
      "source": [
        "## Data format converter functions"
      ]
    },
    {
      "cell_type": "markdown",
      "metadata": {},
      "source": [
        "### .gct to .maf for Mutation datatype from cBioportal and TCGA Omixatlas"
      ]
    },
    {
      "cell_type": "code",
      "execution_count": 24,
      "metadata": {},
      "outputs": [],
      "source": [
        "omixatlas.format_converter(\"cbioportal\", \"ACC_2019_Mutation_ACYC-FMI-19\", \"maf\")"
      ]
    }
  ],
  "metadata": {
    "kernelspec": {
      "display_name": "Python 3",
      "language": "python",
      "name": "python3"
    },
    "language_info": {
      "codemirror_mode": {
        "name": "ipython",
        "version": 3
      },
      "file_extension": ".py",
      "mimetype": "text/x-python",
      "name": "python",
      "nbconvert_exporter": "python",
      "pygments_lexer": "ipython3",
      "version": "3.6.9"
    }
  },
  "nbformat": 4,
  "nbformat_minor": 2
}