{
 "cells": [
  {
   "cell_type": "markdown",
   "metadata": {},
   "source": [
    "# Welcome to Polly Python3 Notebook."
   ]
  },
  {
   "cell_type": "code",
   "execution_count": null,
   "metadata": {},
   "outputs": [],
   "source": [
    "!sudo pip3 install https://elucidatainc.github.io/PublicAssets/builds/polly-python/polly_python-0.2.3-py3-none-any.whl\n"
   ]
  },
  {
   "cell_type": "code",
   "execution_count": null,
   "metadata": {},
   "outputs": [],
   "source": [
    "import os\n",
    "from polly.auth import Polly\n",
    "AUTH_TOKEN=(os.environ['POLLY_REFRESH_TOKEN']) # Obtain authentication tokens\n",
    "Polly.auth(AUTH_TOKEN)\n",
    "from polly.omixatlas import OmixAtlas\n",
    "omixatlas = OmixAtlas()"
   ]
  },
  {
   "cell_type": "code",
   "execution_count": null,
   "metadata": {},
   "outputs": [],
   "source": [
    "!polly files sync -s \"polly://metadata/\" -d \"metadata/\" -y\n"
   ]
  },
  {
   "cell_type": "code",
   "execution_count": null,
   "metadata": {},
   "outputs": [],
   "source": [
    "!polly files sync -s \"polly://data/\" -d \"data/\" -y\n"
   ]
  },
  {
   "cell_type": "code",
   "execution_count": null,
   "metadata": {},
   "outputs": [],
   "source": [
    "repo_id = \"1654268055800\"\n",
    "source_folder_path_data = \"/import/data\"\n",
    "source_folder_metadata = \"/import/metadata\"\n",
    "source_folder_path = {\"data\":source_folder_path_data, \"metadata\":source_folder_metadata}\n",
    "\n",
    "# step 1\n",
    "err_dataset, status_dataset = omixatlas.validate_datasets(repo_id, source_folder_path)\n",
    "print(\"------err dataset------\")\n",
    "print(err_dataset)\n",
    "\n",
    "print(\"-------status dataset-----\")\n",
    "print(status_dataset)"
   ]
  },
  {
   "cell_type": "code",
   "execution_count": null,
   "metadata": {
    "scrolled": true
   },
   "outputs": [],
   "source": [
    "res_upload_df = omixatlas.add_datasets(repo_id, source_folder_path, \"transcriptomics_110\")\n",
    "print(\"----res upload df-----\")\n",
    "print(res_upload_df)"
   ]
  },
  {
   "cell_type": "code",
   "execution_count": null,
   "metadata": {},
   "outputs": [],
   "source": []
  }
 ],
 "metadata": {
  "kernelspec": {
   "display_name": "Python 3 (ipykernel)",
   "language": "python",
   "name": "python3"
  },
  "language_info": {
   "codemirror_mode": {
    "name": "ipython",
    "version": 3
   },
   "file_extension": ".py",
   "mimetype": "text/x-python",
   "name": "python",
   "nbconvert_exporter": "python",
   "pygments_lexer": "ipython3",
   "version": "3.10.2"
  }
 },
 "nbformat": 4,
 "nbformat_minor": 2
}
