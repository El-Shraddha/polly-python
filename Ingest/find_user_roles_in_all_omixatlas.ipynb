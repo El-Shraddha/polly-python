{
  "cells": [
    {
      "cell_type": "markdown",
      "metadata": {
        "colab_type": "text",
        "id": "view-in-github"
      },
      "source": [
        "<a href=\"https://polly.elucidata.io/manage/workspaces?action=open_polly_notebook&amp;source=github&amp;path=ElucidataInc%2Fpolly-python%2Fblob%2Fmain%2FIngest%2Ffind_user_roles_in_all_omixatlas.ipynb&amp;kernel=elucidata%2FPython+3.10&amp;machine=medium\" target=\"_parent\"><img alt=\"Open in Polly\" src=\"https://elucidatainc.github.io/PublicAssets/open_polly.svg\"/></a>\n"
      ]
    },
    {
      "cell_type": "code",
      "execution_count": null,
      "id": "8fe3c6c2",
      "metadata": {
        "scrolled": true
      },
      "outputs": [],
      "source": [
        "import io\n",
        "import os\n",
        "import json\n",
        "import random\n",
        "from pathlib import Path\n",
        "from time import time\n",
        "\n",
        "import boto3\n",
        "import requests\n",
        "import pandas as pd\n",
        "from requests import Session"
      ]
    },
    {
      "cell_type": "markdown",
      "id": "8fe64c62",
      "metadata": {},
      "source": [
        "STEPS TO GET THE AUTH KEY:\n",
        "1. Go to Polly Dashboard\n",
        "2. Go to User Options > Authentication (In the bottom right of the screen).\n",
        "3. Go to Authentication Keys tab\n",
        "4. Enter the name and description of the key and GENERATE the KEY!\n",
        "5. Copy the key generated and paste it below."
      ]
    },
    {
      "cell_type": "code",
      "execution_count": null,
      "id": "0bb09a9f",
      "metadata": {},
      "outputs": [],
      "source": [
        "token = \"<YOUR AUTH KEY HERE>\""
      ]
    },
    {
      "cell_type": "code",
      "execution_count": null,
      "id": "26d8c86d",
      "metadata": {},
      "outputs": [],
      "source": [
        "class UnauthorizedException(Exception):\n",
        "    def __str__(self):\n",
        "        return f\"Authorization failed\"\n",
        "\n",
        "\n",
        "class PollySession(Session):\n",
        "    def __init__(self, token):\n",
        "        Session.__init__(self)\n",
        "        self.headers = {\n",
        "            \"Content-Type\": \"application/vnd.api+json\",\n",
        "            \"x-api-key\": token,\n",
        "            \"User-Agent\": \"jupyter-notebook\"\n",
        "        }\n",
        "\n",
        "\n",
        "class Polly:\n",
        "    default_session = None\n",
        "\n",
        "    @classmethod\n",
        "    def auth(cls, token):\n",
        "        cls.default_session = PollySession(token)\n",
        "\n",
        "    @classmethod\n",
        "    def get_session(cls, token=None):\n",
        "        if not token:\n",
        "            if not cls.default_session:\n",
        "                raise UnauthorizedException\n",
        "            else:\n",
        "                return cls.default_session\n",
        "        else:\n",
        "            return PollySession(token)\n"
      ]
    },
    {
      "cell_type": "code",
      "execution_count": null,
      "id": "9a4c7d9f",
      "metadata": {},
      "outputs": [],
      "source": [
        "session = Polly.get_session(token)"
      ]
    },
    {
      "cell_type": "code",
      "execution_count": null,
      "id": "4c381815",
      "metadata": {},
      "outputs": [],
      "source": [
        "resp = session.get(\"https://v2.api.polly.elucidata.io/users/me\")\n",
        "\n",
        "if resp.status_code == 401:\n",
        "    print(\"This user is unauthorized, or the AUTHKEY is invalid\")\n",
        "\n",
        "elif resp.status_code == 200:\n",
        "    user_response = resp.json()\n",
        "    \n",
        "else:\n",
        "    try:\n",
        "        print(resp.text)\n",
        "    except:\n",
        "        print(\"something went wrong. status code:\", res.status_code)"
      ]
    },
    {
      "cell_type": "code",
      "execution_count": null,
      "id": "c205e1e7",
      "metadata": {},
      "outputs": [],
      "source": [
        "uid = user_response.get(\"data\").get(\"id\")"
      ]
    },
    {
      "cell_type": "code",
      "execution_count": null,
      "id": "539fd136",
      "metadata": {},
      "outputs": [],
      "source": [
        "repositories_response = session.get(\"https://api.discover.polly.elucidata.io/repositories\")\n",
        "repositories = []\n",
        "if(repositories_response.status_code == 200):\n",
        "    repositories = repositories_response.json()['data'] \n",
        "else:\n",
        "    print(repositories_response.text)"
      ]
    },
    {
      "cell_type": "code",
      "execution_count": null,
      "id": "845b1eec",
      "metadata": {},
      "outputs": [],
      "source": [
        "repository_ids = []\n",
        "repo_name_map = {}\n",
        "\n",
        "for repo in repositories:\n",
        "    rid = repo['id']\n",
        "    repository_ids.append(rid)\n",
        "    repo_name_map[rid] = repo['attributes']['frontend_info']['display_name']"
      ]
    },
    {
      "cell_type": "code",
      "execution_count": null,
      "id": "61fbb659",
      "metadata": {},
      "outputs": [],
      "source": [
        "def get_user_roles(repo_id):\n",
        "    #find user role for repo_id\n",
        "    user_role_response = session.get(f\"https://api.discover.polly.elucidata.io/repositories/{repo_id}/users/{uid}\")\n",
        "    if user_role_response.status_code == 200:\n",
        "        user_data = user_role_response.json()['data']\n",
        "        return {'repo_id':repo_id,'user_data':user_data}\n",
        "    else:\n",
        "        return None\n",
        "    "
      ]
    },
    {
      "cell_type": "code",
      "execution_count": null,
      "id": "a575e11a",
      "metadata": {
        "scrolled": true
      },
      "outputs": [],
      "source": [
        "import concurrent.futures\n",
        "\n",
        "datas = []\n",
        "with concurrent.futures.ThreadPoolExecutor(max_workers=5) as executor:\n",
        "    future_to_url = {executor.submit(get_user_roles,repo_id):repo_id for repo_id in repository_ids}\n",
        "    for future in concurrent.futures.as_completed(future_to_url):\n",
        "        repo_id = future_to_url[future]\n",
        "        try:\n",
        "            data = future.result()\n",
        "            if data is not None:\n",
        "                datas.append(data)\n",
        "        except Exception as e:\n",
        "            print(str(e))\n",
        "\n"
      ]
    },
    {
      "cell_type": "code",
      "execution_count": null,
      "id": "cca32764",
      "metadata": {},
      "outputs": [],
      "source": [
        "if len(datas) == 0:\n",
        "    print(\"This user does not have access to any repositories!\")\n",
        "else:\n",
        "    i = 1\n",
        "    print(\" \",\"  {:<15}  {:<30}  {:<20}\".format(\"RepoID\",\"RepoName\",\"Role\"))\n",
        "    print(\"-\"*69)\n",
        "    for data in datas:\n",
        "        repo_id = data['repo_id']\n",
        "        user_data = data['user_data']\n",
        "        print(i,\"  {:<15}  {:<30}  {:<20}\".format(repo_id,repo_name_map[repo_id],user_data['attributes']['role']))\n",
        "        i = i + 1"
      ]
    },
    {
      "cell_type": "code",
      "execution_count": null,
      "id": "d9f7b5f9",
      "metadata": {},
      "outputs": [],
      "source": []
    }
  ],
  "metadata": {
    "kernelspec": {
      "display_name": "Python 3 (ipykernel)",
      "language": "python",
      "name": "python3"
    },
    "language_info": {
      "codemirror_mode": {
        "name": "ipython",
        "version": 3
      },
      "file_extension": ".py",
      "mimetype": "text/x-python",
      "name": "python",
      "nbconvert_exporter": "python",
      "pygments_lexer": "ipython3",
      "version": "3.10.4"
    }
  },
  "nbformat": 4,
  "nbformat_minor": 5
}