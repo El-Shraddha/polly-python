{
  "cells": [
    {
      "cell_type": "markdown",
      "metadata": {
        "colab_type": "text",
        "id": "view-in-github"
      },
      "source": [
        "<a href=\"https://polly.elucidata.io/manage/workspaces?action=open_polly_notebook&source=github&path=path_place_holder&kernel=elucidata/Single-cell Downstream&machine=large\" target=\"_parent\"><img src=\"https://elucidatainc.github.io/PublicAssets/open_polly.svg\" alt=\"Open in Polly\"/></a>\n"
      ]
    },
    {
      "cell_type": "markdown",
      "metadata": {
        "kernel": "SoS"
      },
      "source": [
        "# Welcome to Pollyglot Notebook to get started with Merging gct files for any Downstream Analysis\n",
        "\n",
        "## Here we have taken the case of Proteomics data from CPTAC.\n",
        "\n",
        "This notebook allows you to get started with analysis of Proteomics data on Polly\n",
        "\n",
        "<blockquote>When you first open the notebook, please run the code cells below.</blockquote>\n",
        "\n",
        "For more details on how to use Notebooks on Polly, please visit [Polly Notebooks](https://docs.elucidata.io/Scaling%20compute/Polly%20Notebooks.html).\n",
        "\n",
        "For more details on API access to your OmixAtlas, please visit [Accessing OmixAtlas using polly-python through Polly Notebooks](https://docs.elucidata.io/OmixAtlas/Polly%20Python.html)."
      ]
    },
    {
      "cell_type": "code",
      "execution_count": 8,
      "metadata": {
        "kernel": "Pollyglot"
      },
      "outputs": [],
      "source": [
        "# please do not modify\n",
        "from IPython.display import display_html\n",
        "def restartkernel() :\n",
        "    display_html(\"<script>Jupyter.notebook.kernel.restart()</script>\",raw=True)"
      ]
    },
    {
      "cell_type": "markdown",
      "metadata": {
        "kernel": "Pollyglot"
      },
      "source": [
        "## Installing and Importing Packages"
      ]
    },
    {
      "cell_type": "code",
      "execution_count": 9,
      "metadata": {
        "kernel": "Pollyglot",
        "scrolled": true
      },
      "outputs": [
        {
          "name": "stdout",
          "output_type": "stream",
          "text": [
            "\u001b[33mWARNING: The directory '/home/polly/.cache/pip/http' or its parent directory is not owned by the current user and the cache has been disabled. Please check the permissions and owner of that directory. If executing pip with sudo, you may want sudo's -H flag.\u001b[0m\n",
            "\u001b[33mWARNING: The directory '/home/polly/.cache/pip' or its parent directory is not owned by the current user and caching wheels has been disabled. check the permissions and owner of that directory. If executing pip with sudo, you may want sudo's -H flag.\u001b[0m\n",
            "\u001b[31mERROR: rich 9.12.4 has requirement typing-extensions<4.0.0,>=3.7.4, but you'll have typing-extensions 4.1.1 which is incompatible.\u001b[0m\n",
            "\u001b[31mERROR: awscli 1.19.19 has requirement botocore==1.20.19, but you'll have botocore 1.26.10 which is incompatible.\u001b[0m\n",
            "\u001b[31mERROR: awscli 1.19.19 has requirement s3transfer<0.4.0,>=0.3.0, but you'll have s3transfer 0.5.2 which is incompatible.\u001b[0m\n",
            "\u001b[31mERROR: aiohttp 3.7.4 has requirement chardet<4.0,>=2.0, but you'll have chardet 4.0.0 which is incompatible.\u001b[0m\n",
            "\u001b[33mWARNING: You are using pip version 19.2.3, however version 21.3.1 is available.\n",
            "You should consider upgrading via the 'pip install --upgrade pip' command.\u001b[0m\n",
            "\u001b[33mWARNING: The directory '/home/polly/.cache/pip/http' or its parent directory is not owned by the current user and the cache has been disabled. Please check the permissions and owner of that directory. If executing pip with sudo, you may want sudo's -H flag.\u001b[0m\n",
            "\u001b[33mWARNING: The directory '/home/polly/.cache/pip' or its parent directory is not owned by the current user and caching wheels has been disabled. check the permissions and owner of that directory. If executing pip with sudo, you may want sudo's -H flag.\u001b[0m\n",
            "\u001b[33mWARNING: You are using pip version 19.2.3, however version 21.3.1 is available.\n",
            "You should consider upgrading via the 'pip install --upgrade pip' command.\u001b[0m\n",
            "\n",
            "Usage:   \n",
            "  pip3 install [options] <requirement specifier> [package-index-options] ...\n",
            "  pip3 install [options] -r <requirements file> [package-index-options] ...\n",
            "  pip3 install [options] [-e] <vcs project url> ...\n",
            "  pip3 install [options] [-e] <local project path> ...\n",
            "  pip3 install [options] <archive url/path> ...\n",
            "\n",
            "no such option: --quiet#\n",
            "\u001b[33mWARNING: The directory '/home/polly/.cache/pip/http' or its parent directory is not owned by the current user and the cache has been disabled. Please check the permissions and owner of that directory. If executing pip with sudo, you may want sudo's -H flag.\u001b[0m\n",
            "\u001b[33mWARNING: The directory '/home/polly/.cache/pip' or its parent directory is not owned by the current user and caching wheels has been disabled. check the permissions and owner of that directory. If executing pip with sudo, you may want sudo's -H flag.\u001b[0m\n",
            "\u001b[33mWARNING: You are using pip version 19.2.3, however version 21.3.1 is available.\n",
            "You should consider upgrading via the 'pip install --upgrade pip' command.\u001b[0m\n",
            "\u001b[33mWARNING: The directory '/home/polly/.cache/pip/http' or its parent directory is not owned by the current user and the cache has been disabled. Please check the permissions and owner of that directory. If executing pip with sudo, you may want sudo's -H flag.\u001b[0m\n",
            "\u001b[33mWARNING: The directory '/home/polly/.cache/pip' or its parent directory is not owned by the current user and caching wheels has been disabled. check the permissions and owner of that directory. If executing pip with sudo, you may want sudo's -H flag.\u001b[0m\n",
            "\u001b[33mWARNING: You are using pip version 19.2.3, however version 21.3.1 is available.\n",
            "You should consider upgrading via the 'pip install --upgrade pip' command.\u001b[0m\n"
          ]
        }
      ],
      "source": [
        "# installing packages\n",
        "!sudo pip3 install polly-python --quiet \n",
        "!sudo pip3 install seaborn sklearn plotly --quiet\n",
        "!sudo pip3 install joblib --quiet# to install joblib\n",
        "!sudo pip3 install cmapPy --quiet\n",
        "!sudo pip3 install plotly --quiet"
      ]
    },
    {
      "cell_type": "code",
      "execution_count": null,
      "metadata": {
        "kernel": "Pollyglot"
      },
      "outputs": [
        {
          "data": {
            "text/html": [
              "<script>Jupyter.notebook.kernel.restart()</script>"
            ]
          },
          "metadata": {},
          "output_type": "display_data"
        }
      ],
      "source": [
        "restartkernel() #Pause for a few seconds before the kernel is refreshed"
      ]
    },
    {
      "cell_type": "code",
      "execution_count": 1,
      "metadata": {
        "kernel": "Pollyglot"
      },
      "outputs": [],
      "source": [
        "# importing packages\n",
        "\n",
        "from joblib import Parallel, delayed\n",
        "import os\n",
        "import pandas as pd\n",
        "from cmapPy.pandasGEXpress.parse import parse\n",
        "from cmapPy.pandasGEXpress import GCToo\n",
        "from cmapPy.pandasGEXpress import write_gct\n",
        "from cmapPy.pandasGEXpress.concat import assemble_common_meta\n",
        "from cmapPy.pandasGEXpress.concat import assemble_data\n",
        "from polly.omixatlas import OmixAtlas\n",
        "from polly.workspaces import Workspaces\n",
        "import urllib.parse as urlparse\n",
        "from urllib.parse import parse_qs\n",
        "from json import dumps\n",
        "import numpy as np\n",
        "import plotly.express as px\n",
        "import seaborn as sns\n",
        "import plotly.figure_factory as ff\n",
        "import ipywidgets as widgets\n",
        "from ipywidgets import interact, interact_manual\n",
        "import scanpy as sc\n",
        "import matplotlib.pyplot as plt\n",
        "import seaborn as sns\n",
        "from IPython.display import display"
      ]
    },
    {
      "cell_type": "code",
      "execution_count": 2,
      "metadata": {
        "kernel": "Pollyglot"
      },
      "outputs": [
        {
          "data": {
            "text/html": [
              "<script type=\"text/javascript\"> Jupyter.notebook.kernel.execute(\"url = '\" + window.location + \"'\", {}, {}); </script>"
            ],
            "text/plain": [
              "<IPython.core.display.HTML object>"
            ]
          },
          "execution_count": 2,
          "metadata": {},
          "output_type": "execute_result"
        }
      ],
      "source": [
        "# please do not modify\n",
        "from IPython.display import HTML\n",
        "HTML('''<script type=\"text/javascript\"> Jupyter.notebook.kernel.execute(\"url = '\" + window.location + \"'\", {}, {}); </script>''')"
      ]
    },
    {
      "cell_type": "markdown",
      "metadata": {
        "kernel": "Pollyglot"
      },
      "source": [
        "## Extracting Information of Selected Dataset\n",
        "Here, information of user's selected dataset is stored in some variables to extract similar datasets from cptac and comparing them."
      ]
    },
    {
      "cell_type": "code",
      "execution_count": 4,
      "metadata": {
        "kernel": "Pollyglot"
      },
      "outputs": [],
      "source": [
        "# Fetching dataset of interest\n",
        "dataset_id = \"01CO005_proteomics\"\n",
        "repo_id = \"1609924165364\"\n",
        "repo_name =\"cptac\"\n",
        "file_name = dataset_id+'.h5ad'"
      ]
    },
    {
      "cell_type": "code",
      "execution_count": 11,
      "metadata": {
        "kernel": "Pollyglot"
      },
      "outputs": [
        {
          "name": "stdout",
          "output_type": "stream",
          "text": [
            "Query execution succeeded (time taken: 1.15 seconds, data scanned: 0.086 MB)\n",
            "Fetched 1 rows\n"
          ]
        },
        {
          "data": {
            "text/html": [
              "<div>\n",
              "<style scoped>\n",
              "    .dataframe tbody tr th:only-of-type {\n",
              "        vertical-align: middle;\n",
              "    }\n",
              "\n",
              "    .dataframe tbody tr th {\n",
              "        vertical-align: top;\n",
              "    }\n",
              "\n",
              "    .dataframe thead th {\n",
              "        text-align: right;\n",
              "    }\n",
              "</style>\n",
              "<table border=\"1\" class=\"dataframe\">\n",
              "  <thead>\n",
              "    <tr style=\"text-align: right;\">\n",
              "      <th></th>\n",
              "      <th>curated_organism</th>\n",
              "      <th>src_uri</th>\n",
              "      <th>total_num_samples</th>\n",
              "      <th>repo</th>\n",
              "      <th>description</th>\n",
              "      <th>curated_cell_line</th>\n",
              "      <th>data_table_name</th>\n",
              "      <th>data_table_version</th>\n",
              "      <th>sample_type</th>\n",
              "      <th>donor_age</th>\n",
              "      <th>platform</th>\n",
              "      <th>timestamp_</th>\n",
              "      <th>file_type</th>\n",
              "      <th>publication</th>\n",
              "      <th>curated_cell_type</th>\n",
              "      <th>key</th>\n",
              "      <th>src_repo</th>\n",
              "      <th>package</th>\n",
              "      <th>file_location</th>\n",
              "      <th>curation_version</th>\n",
              "      <th>dataset_id</th>\n",
              "      <th>curated_disease</th>\n",
              "      <th>curated_drug</th>\n",
              "      <th>experimental_design</th>\n",
              "      <th>version</th>\n",
              "      <th>bucket</th>\n",
              "      <th>curated_tissue</th>\n",
              "      <th>dataset_source</th>\n",
              "      <th>data_type</th>\n",
              "      <th>is_current</th>\n",
              "      <th>region</th>\n",
              "      <th>operation</th>\n",
              "      <th>donor_gender</th>\n",
              "    </tr>\n",
              "  </thead>\n",
              "  <tbody>\n",
              "    <tr>\n",
              "      <th>0</th>\n",
              "      <td>['Homo Sapiens']</td>\n",
              "      <td>polly:data://cptac/data/Colon Cancer Therapeut...</td>\n",
              "      <td>1</td>\n",
              "      <td>cptac</td>\n",
              "      <td>Protein values for 01CO005 in colon cancer</td>\n",
              "      <td>[None]</td>\n",
              "      <td>cptac__01co005_proteomics</td>\n",
              "      <td>0</td>\n",
              "      <td>Tumor</td>\n",
              "      <td>NaN</td>\n",
              "      <td>LC-MS/MS</td>\n",
              "      <td>1653491115574</td>\n",
              "      <td>gct</td>\n",
              "      <td>https://doi.org/10.1016/j.cell.2019.03.030</td>\n",
              "      <td>[None]</td>\n",
              "      <td>cptac/data/Colon Cancer Therapeutic Opportunit...</td>\n",
              "      <td>cptac</td>\n",
              "      <td>cptac/data</td>\n",
              "      <td>https://discover-prod-datalake-v1.s3-us-west-2...</td>\n",
              "      <td>g3</td>\n",
              "      <td>01CO005_proteomics</td>\n",
              "      <td>[Colonic Neoplasms]</td>\n",
              "      <td>[None]</td>\n",
              "      <td>NaN</td>\n",
              "      <td>0</td>\n",
              "      <td>discover-prod-datalake-v1</td>\n",
              "      <td>[colon sigmoideum]</td>\n",
              "      <td>CPTAC</td>\n",
              "      <td>Proteomics</td>\n",
              "      <td>True</td>\n",
              "      <td>us-west-2</td>\n",
              "      <td>{'is_normalized': 'true', 'normalized_type': '...</td>\n",
              "      <td>NaN</td>\n",
              "    </tr>\n",
              "  </tbody>\n",
              "</table>\n",
              "</div>"
            ],
            "text/plain": [
              "   curated_organism  ... donor_gender\n",
              "0  ['Homo Sapiens']  ...          NaN\n",
              "\n",
              "[1 rows x 33 columns]"
            ]
          },
          "metadata": {},
          "output_type": "display_data"
        }
      ],
      "source": [
        "AUTH_TOKEN=(os.environ['POLLY_REFRESH_TOKEN']) # Obtain authentication tokens\n",
        "omixatlas = OmixAtlas(AUTH_TOKEN)\n",
        "\n",
        "query=f\"SELECT * FROM {repo_name}.datasets WHERE dataset_id = '{dataset_id}'\"\n",
        "results=omixatlas.query_metadata(query)\n",
        "display(results)\n",
        "\n",
        "# saving specific information in variables\n",
        "if results.data_type[0] == 'Proteomics':\n",
        "    data_ex = results.data_type[0]\n",
        "    tissue_ex = results.curated_tissue[0].strip('][').split(', ')\n",
        "    disease_ex = results.curated_disease[0].strip('][').split(', ')"
      ]
    },
    {
      "cell_type": "markdown",
      "metadata": {
        "kernel": "Pollyglot"
      },
      "source": [
        "## Extracting Similar Types of Datasets for Analysis\n",
        "On the basis of user's selected dataset information, similar type of datasets are extracted from cptac and merging their gct files into one dataframe on the basis of sample information. Each column in that dataframe represents one dataset and each row represent the sample information (which can be any antibody or antigen etc)."
      ]
    },
    {
      "cell_type": "code",
      "execution_count": 12,
      "metadata": {
        "kernel": "Pollyglot"
      },
      "outputs": [],
      "source": [
        "AUTH_TOKEN=(os.environ['POLLY_REFRESH_TOKEN']) # Obtain authentication tokens\n",
        "omixatlas = OmixAtlas(AUTH_TOKEN)\n",
        "\n",
        "### Dowmload the data parallely\n",
        "\n",
        "def download_dataset(repo, id):\n",
        "    \"\"\"\n",
        "    Downloads a single dataset with given repo_id and dataset_id\n",
        "    \"\"\"\n",
        "    repo_id = repo\n",
        "    dataset_id = id\n",
        "    file_name = f\"{dataset_id}.gct\"\n",
        "    data = omixatlas.download_data(repo_id, dataset_id)\n",
        "    url = data.get('data').get('attributes').get('download_url')\n",
        "    status = os.system(f\"wget -O '{file_name}' '{url}'\")\n",
        "    if status == 0:\n",
        "        print(\"Downloaded data successfully\")\n",
        "    else:\n",
        "        raise Exception(\"Download not successful\")\n",
        "        \n",
        "### Read gcts parallely\n",
        "\n",
        "def read_gcts(dataset_ids):\n",
        "    gct_files = [dataset_id+'.gct' for dataset_id in dataset_ids]\n",
        "    results_gct = Parallel(n_jobs=4)(delayed(parse)(gct_file) for gct_file in gct_files)\n",
        "    return results_gct\n",
        "\n",
        "diseases_condition = \"\"\n",
        "for disease in disease_ex:\n",
        "    if not len(diseases_condition) == 0:\n",
        "        diseases_condition += \" OR \"\n",
        "    diseases_condition += f\"CONTAINS (curated_disease, '{disease}')\"\n",
        "\n",
        "tissue_condition = \"\"\n",
        "for tissue in tissue_ex:\n",
        "    if not len(tissue_condition) == 0:\n",
        "        tissue_condition += \" AND \"\n",
        "    tissue_condition += f\"CONTAINS (curated_tissue, '{tissue}')\""
      ]
    },
    {
      "cell_type": "code",
      "execution_count": 17,
      "metadata": {
        "kernel": "Pollyglot"
      },
      "outputs": [
        {
          "name": "stdout",
          "output_type": "stream",
          "text": [
            "Query execution succeeded (time taken: 1.67 seconds, data scanned: 0.088 MB)\n",
            "Fetched 37 rows\n",
            "\n",
            "Columns/Datasets information\n"
          ]
        },
        {
          "data": {
            "text/html": [
              "<div>\n",
              "<style scoped>\n",
              "    .dataframe tbody tr th:only-of-type {\n",
              "        vertical-align: middle;\n",
              "    }\n",
              "\n",
              "    .dataframe tbody tr th {\n",
              "        vertical-align: top;\n",
              "    }\n",
              "\n",
              "    .dataframe thead th {\n",
              "        text-align: right;\n",
              "    }\n",
              "</style>\n",
              "<table border=\"1\" class=\"dataframe\">\n",
              "  <thead>\n",
              "    <tr style=\"text-align: right;\">\n",
              "      <th>chd</th>\n",
              "      <th>Age</th>\n",
              "      <th>CEA</th>\n",
              "      <th>CIN</th>\n",
              "      <th>ESTIMATEScore</th>\n",
              "      <th>Gender</th>\n",
              "      <th>ImmuneScore</th>\n",
              "      <th>Integrated.Phenotype</th>\n",
              "      <th>Lymphatic_Invasion</th>\n",
              "      <th>Mucinous</th>\n",
              "      <th>Mutation_Phenotype</th>\n",
              "      <th>Perineural_Invasion</th>\n",
              "      <th>Polyps_History</th>\n",
              "      <th>Polyps_Present</th>\n",
              "      <th>Proteomic_subtype</th>\n",
              "      <th>Sample_Tumor_Normal</th>\n",
              "      <th>Stage</th>\n",
              "      <th>StromalScore</th>\n",
              "      <th>Subsite</th>\n",
              "      <th>Synchronous_Tumors</th>\n",
              "      <th>Transcriptomic_subtype</th>\n",
              "      <th>Tumor.Status</th>\n",
              "      <th>TumorPurity</th>\n",
              "      <th>Vascular_Invasion</th>\n",
              "      <th>Vital.Status</th>\n",
              "      <th>immuneSubtype</th>\n",
              "      <th>kw_curated_cell_line</th>\n",
              "      <th>kw_curated_cell_type</th>\n",
              "      <th>kw_curated_disease</th>\n",
              "      <th>kw_curated_drug</th>\n",
              "      <th>kw_curated_genetic_mod_type</th>\n",
              "      <th>kw_curated_modified_gene</th>\n",
              "      <th>kw_curated_tissue</th>\n",
              "      <th>mutation_rate</th>\n",
              "      <th>pathalogy_N_stage</th>\n",
              "      <th>pathalogy_T_stage</th>\n",
              "    </tr>\n",
              "    <tr>\n",
              "      <th>cid</th>\n",
              "      <th></th>\n",
              "      <th></th>\n",
              "      <th></th>\n",
              "      <th></th>\n",
              "      <th></th>\n",
              "      <th></th>\n",
              "      <th></th>\n",
              "      <th></th>\n",
              "      <th></th>\n",
              "      <th></th>\n",
              "      <th></th>\n",
              "      <th></th>\n",
              "      <th></th>\n",
              "      <th></th>\n",
              "      <th></th>\n",
              "      <th></th>\n",
              "      <th></th>\n",
              "      <th></th>\n",
              "      <th></th>\n",
              "      <th></th>\n",
              "      <th></th>\n",
              "      <th></th>\n",
              "      <th></th>\n",
              "      <th></th>\n",
              "      <th></th>\n",
              "      <th></th>\n",
              "      <th></th>\n",
              "      <th></th>\n",
              "      <th></th>\n",
              "      <th></th>\n",
              "      <th></th>\n",
              "      <th></th>\n",
              "      <th></th>\n",
              "      <th></th>\n",
              "      <th></th>\n",
              "    </tr>\n",
              "  </thead>\n",
              "  <tbody>\n",
              "    <tr>\n",
              "      <th>01CO005</th>\n",
              "      <td>838</td>\n",
              "      <td>1</td>\n",
              "      <td>CIN.high</td>\n",
              "      <td>-1529.3246</td>\n",
              "      <td>Female</td>\n",
              "      <td>-427.0268</td>\n",
              "      <td>Epithelial</td>\n",
              "      <td>No</td>\n",
              "      <td>Not Mucinous</td>\n",
              "      <td>MSS</td>\n",
              "      <td>No</td>\n",
              "      <td>Yes</td>\n",
              "      <td>Yes</td>\n",
              "      <td>E</td>\n",
              "      <td>Tumor</td>\n",
              "      <td>Stage II</td>\n",
              "      <td>-1102.2979</td>\n",
              "      <td>Sigmoid Colon</td>\n",
              "      <td>No</td>\n",
              "      <td>CMS2</td>\n",
              "      <td>Tumor free</td>\n",
              "      <td>0.9285</td>\n",
              "      <td>No</td>\n",
              "      <td>Deceased</td>\n",
              "      <td>1.0</td>\n",
              "      <td>none</td>\n",
              "      <td>none</td>\n",
              "      <td>Colonic Neoplasms</td>\n",
              "      <td>none</td>\n",
              "      <td>none</td>\n",
              "      <td>none</td>\n",
              "      <td>colon sigmoideum</td>\n",
              "      <td>10.4000</td>\n",
              "      <td>N0</td>\n",
              "      <td>T3</td>\n",
              "    </tr>\n",
              "    <tr>\n",
              "      <th>01CO013</th>\n",
              "      <td>695</td>\n",
              "      <td>none</td>\n",
              "      <td>CIN.high</td>\n",
              "      <td>-42.0787</td>\n",
              "      <td>Male</td>\n",
              "      <td>509.0033</td>\n",
              "      <td>Epithelial</td>\n",
              "      <td>No</td>\n",
              "      <td>Not Mucinous</td>\n",
              "      <td>MSS</td>\n",
              "      <td>No</td>\n",
              "      <td>Yes</td>\n",
              "      <td>No</td>\n",
              "      <td>none</td>\n",
              "      <td>Tumor</td>\n",
              "      <td>Stage I</td>\n",
              "      <td>-551.0820</td>\n",
              "      <td>Sigmoid Colon</td>\n",
              "      <td>No</td>\n",
              "      <td>CMS3</td>\n",
              "      <td>Tumor free</td>\n",
              "      <td>0.8260</td>\n",
              "      <td>No</td>\n",
              "      <td>Living</td>\n",
              "      <td>1.0</td>\n",
              "      <td>none</td>\n",
              "      <td>none</td>\n",
              "      <td>Colonic Neoplasms</td>\n",
              "      <td>none</td>\n",
              "      <td>none</td>\n",
              "      <td>none</td>\n",
              "      <td>colon sigmoideum</td>\n",
              "      <td>29.5000</td>\n",
              "      <td>N0</td>\n",
              "      <td>T2</td>\n",
              "    </tr>\n",
              "    <tr>\n",
              "      <th>01CO014</th>\n",
              "      <td>930</td>\n",
              "      <td>3.6</td>\n",
              "      <td>CIN.high</td>\n",
              "      <td>-188.8456</td>\n",
              "      <td>Female</td>\n",
              "      <td>636.0912</td>\n",
              "      <td>Hypermutated</td>\n",
              "      <td>No</td>\n",
              "      <td>Mucinous</td>\n",
              "      <td>MSI-H</td>\n",
              "      <td>Yes</td>\n",
              "      <td>Yes</td>\n",
              "      <td>No</td>\n",
              "      <td>none</td>\n",
              "      <td>Tumor</td>\n",
              "      <td>Stage III</td>\n",
              "      <td>-824.9369</td>\n",
              "      <td>Hepatix Flexure</td>\n",
              "      <td>No</td>\n",
              "      <td>CMS3</td>\n",
              "      <td>With tumor</td>\n",
              "      <td>0.8380</td>\n",
              "      <td>No</td>\n",
              "      <td>Living</td>\n",
              "      <td>3.0</td>\n",
              "      <td>none</td>\n",
              "      <td>none</td>\n",
              "      <td>Colonic Neoplasms</td>\n",
              "      <td>none</td>\n",
              "      <td>none</td>\n",
              "      <td>none</td>\n",
              "      <td>Hepatix Flexure</td>\n",
              "      <td>39.7667</td>\n",
              "      <td>N2a</td>\n",
              "      <td>T3</td>\n",
              "    </tr>\n",
              "    <tr>\n",
              "      <th>01CO019</th>\n",
              "      <td>757</td>\n",
              "      <td>3.5</td>\n",
              "      <td>CIN.high</td>\n",
              "      <td>-904.3177</td>\n",
              "      <td>Female</td>\n",
              "      <td>-168.7173</td>\n",
              "      <td>Epithelial</td>\n",
              "      <td>Yes</td>\n",
              "      <td>Mucinous</td>\n",
              "      <td>MSS</td>\n",
              "      <td>Yes</td>\n",
              "      <td>No</td>\n",
              "      <td>No</td>\n",
              "      <td>E</td>\n",
              "      <td>Tumor</td>\n",
              "      <td>Stage III</td>\n",
              "      <td>-735.6004</td>\n",
              "      <td>Sigmoid Colon</td>\n",
              "      <td>Yes</td>\n",
              "      <td>CMS2</td>\n",
              "      <td>With tumor</td>\n",
              "      <td>0.8905</td>\n",
              "      <td>Yes</td>\n",
              "      <td>Living</td>\n",
              "      <td>1.0</td>\n",
              "      <td>none</td>\n",
              "      <td>none</td>\n",
              "      <td>Colonic Neoplasms</td>\n",
              "      <td>none</td>\n",
              "      <td>none</td>\n",
              "      <td>none</td>\n",
              "      <td>colon sigmoideum</td>\n",
              "      <td>5.0667</td>\n",
              "      <td>N2a</td>\n",
              "      <td>T4a</td>\n",
              "    </tr>\n",
              "    <tr>\n",
              "      <th>05CO002</th>\n",
              "      <td>none</td>\n",
              "      <td>1.1</td>\n",
              "      <td>CIN.high</td>\n",
              "      <td>2262.9769</td>\n",
              "      <td>Female</td>\n",
              "      <td>865.5989</td>\n",
              "      <td>EMT</td>\n",
              "      <td>No</td>\n",
              "      <td>Not Mucinous</td>\n",
              "      <td>MSS</td>\n",
              "      <td>No</td>\n",
              "      <td>No</td>\n",
              "      <td>No</td>\n",
              "      <td>D</td>\n",
              "      <td>Tumor</td>\n",
              "      <td>Stage III</td>\n",
              "      <td>1397.3780</td>\n",
              "      <td>Sigmoid Colon</td>\n",
              "      <td>No</td>\n",
              "      <td>CMS4</td>\n",
              "      <td>Tumor free</td>\n",
              "      <td>0.5921</td>\n",
              "      <td>No</td>\n",
              "      <td>Living</td>\n",
              "      <td>2.0</td>\n",
              "      <td>none</td>\n",
              "      <td>none</td>\n",
              "      <td>Colonic Neoplasms</td>\n",
              "      <td>none</td>\n",
              "      <td>none</td>\n",
              "      <td>none</td>\n",
              "      <td>colon sigmoideum</td>\n",
              "      <td>5.6667</td>\n",
              "      <td>N1a</td>\n",
              "      <td>T2</td>\n",
              "    </tr>\n",
              "  </tbody>\n",
              "</table>\n",
              "</div>"
            ],
            "text/plain": [
              "chd       Age   CEA       CIN  ESTIMATEScore  Gender  ImmuneScore  \\\n",
              "cid                                                                 \n",
              "01CO005   838     1  CIN.high     -1529.3246  Female    -427.0268   \n",
              "01CO013   695  none  CIN.high       -42.0787    Male     509.0033   \n",
              "01CO014   930   3.6  CIN.high      -188.8456  Female     636.0912   \n",
              "01CO019   757   3.5  CIN.high      -904.3177  Female    -168.7173   \n",
              "05CO002  none   1.1  CIN.high      2262.9769  Female     865.5989   \n",
              "\n",
              "chd     Integrated.Phenotype Lymphatic_Invasion      Mucinous  \\\n",
              "cid                                                             \n",
              "01CO005           Epithelial                 No  Not Mucinous   \n",
              "01CO013           Epithelial                 No  Not Mucinous   \n",
              "01CO014         Hypermutated                 No      Mucinous   \n",
              "01CO019           Epithelial                Yes      Mucinous   \n",
              "05CO002                  EMT                 No  Not Mucinous   \n",
              "\n",
              "chd     Mutation_Phenotype Perineural_Invasion Polyps_History Polyps_Present  \\\n",
              "cid                                                                            \n",
              "01CO005                MSS                  No            Yes            Yes   \n",
              "01CO013                MSS                  No            Yes             No   \n",
              "01CO014              MSI-H                 Yes            Yes             No   \n",
              "01CO019                MSS                 Yes             No             No   \n",
              "05CO002                MSS                  No             No             No   \n",
              "\n",
              "chd     Proteomic_subtype Sample_Tumor_Normal      Stage  StromalScore  \\\n",
              "cid                                                                      \n",
              "01CO005                 E               Tumor   Stage II    -1102.2979   \n",
              "01CO013              none               Tumor    Stage I     -551.0820   \n",
              "01CO014              none               Tumor  Stage III     -824.9369   \n",
              "01CO019                 E               Tumor  Stage III     -735.6004   \n",
              "05CO002                 D               Tumor  Stage III     1397.3780   \n",
              "\n",
              "chd              Subsite Synchronous_Tumors Transcriptomic_subtype  \\\n",
              "cid                                                                  \n",
              "01CO005    Sigmoid Colon                 No                   CMS2   \n",
              "01CO013    Sigmoid Colon                 No                   CMS3   \n",
              "01CO014  Hepatix Flexure                 No                   CMS3   \n",
              "01CO019    Sigmoid Colon                Yes                   CMS2   \n",
              "05CO002    Sigmoid Colon                 No                   CMS4   \n",
              "\n",
              "chd     Tumor.Status  TumorPurity Vascular_Invasion Vital.Status  \\\n",
              "cid                                                                \n",
              "01CO005   Tumor free       0.9285                No     Deceased   \n",
              "01CO013   Tumor free       0.8260                No       Living   \n",
              "01CO014   With tumor       0.8380                No       Living   \n",
              "01CO019   With tumor       0.8905               Yes       Living   \n",
              "05CO002   Tumor free       0.5921                No       Living   \n",
              "\n",
              "chd      immuneSubtype kw_curated_cell_line kw_curated_cell_type  \\\n",
              "cid                                                                \n",
              "01CO005            1.0                 none                 none   \n",
              "01CO013            1.0                 none                 none   \n",
              "01CO014            3.0                 none                 none   \n",
              "01CO019            1.0                 none                 none   \n",
              "05CO002            2.0                 none                 none   \n",
              "\n",
              "chd     kw_curated_disease kw_curated_drug kw_curated_genetic_mod_type  \\\n",
              "cid                                                                      \n",
              "01CO005  Colonic Neoplasms            none                        none   \n",
              "01CO013  Colonic Neoplasms            none                        none   \n",
              "01CO014  Colonic Neoplasms            none                        none   \n",
              "01CO019  Colonic Neoplasms            none                        none   \n",
              "05CO002  Colonic Neoplasms            none                        none   \n",
              "\n",
              "chd     kw_curated_modified_gene kw_curated_tissue  mutation_rate  \\\n",
              "cid                                                                 \n",
              "01CO005                     none  colon sigmoideum        10.4000   \n",
              "01CO013                     none  colon sigmoideum        29.5000   \n",
              "01CO014                     none   Hepatix Flexure        39.7667   \n",
              "01CO019                     none  colon sigmoideum         5.0667   \n",
              "05CO002                     none  colon sigmoideum         5.6667   \n",
              "\n",
              "chd     pathalogy_N_stage pathalogy_T_stage  \n",
              "cid                                          \n",
              "01CO005                N0                T3  \n",
              "01CO013                N0                T2  \n",
              "01CO014               N2a                T3  \n",
              "01CO019               N2a               T4a  \n",
              "05CO002               N1a                T2  "
            ]
          },
          "metadata": {},
          "output_type": "display_data"
        },
        {
          "name": "stdout",
          "output_type": "stream",
          "text": [
            "\n",
            "Rows information\n"
          ]
        },
        {
          "data": {
            "text/html": [
              "<div>\n",
              "<style scoped>\n",
              "    .dataframe tbody tr th:only-of-type {\n",
              "        vertical-align: middle;\n",
              "    }\n",
              "\n",
              "    .dataframe tbody tr th {\n",
              "        vertical-align: top;\n",
              "    }\n",
              "\n",
              "    .dataframe thead th {\n",
              "        text-align: right;\n",
              "    }\n",
              "</style>\n",
              "<table border=\"1\" class=\"dataframe\">\n",
              "  <thead>\n",
              "    <tr style=\"text-align: right;\">\n",
              "      <th></th>\n",
              "    </tr>\n",
              "    <tr>\n",
              "      <th>rid</th>\n",
              "    </tr>\n",
              "  </thead>\n",
              "  <tbody>\n",
              "    <tr>\n",
              "      <th>A1BG</th>\n",
              "    </tr>\n",
              "    <tr>\n",
              "      <th>A1CF</th>\n",
              "    </tr>\n",
              "    <tr>\n",
              "      <th>A2M</th>\n",
              "    </tr>\n",
              "    <tr>\n",
              "      <th>AAAS</th>\n",
              "    </tr>\n",
              "    <tr>\n",
              "      <th>AACS</th>\n",
              "    </tr>\n",
              "  </tbody>\n",
              "</table>\n",
              "</div>"
            ],
            "text/plain": [
              "Empty DataFrame\n",
              "Columns: []\n",
              "Index: [A1BG, A1CF, A2M, AAAS, AACS]"
            ]
          },
          "metadata": {},
          "output_type": "display_data"
        },
        {
          "name": "stdout",
          "output_type": "stream",
          "text": [
            "\n",
            "Data Matrix\n"
          ]
        },
        {
          "data": {
            "text/html": [
              "<div>\n",
              "<style scoped>\n",
              "    .dataframe tbody tr th:only-of-type {\n",
              "        vertical-align: middle;\n",
              "    }\n",
              "\n",
              "    .dataframe tbody tr th {\n",
              "        vertical-align: top;\n",
              "    }\n",
              "\n",
              "    .dataframe thead th {\n",
              "        text-align: right;\n",
              "    }\n",
              "</style>\n",
              "<table border=\"1\" class=\"dataframe\">\n",
              "  <thead>\n",
              "    <tr style=\"text-align: right;\">\n",
              "      <th>cid</th>\n",
              "      <th>01CO005</th>\n",
              "      <th>01CO013</th>\n",
              "      <th>01CO014</th>\n",
              "      <th>01CO019</th>\n",
              "      <th>05CO002</th>\n",
              "      <th>05CO011</th>\n",
              "      <th>05CO026</th>\n",
              "      <th>05CO029</th>\n",
              "      <th>05CO037</th>\n",
              "      <th>05CO047</th>\n",
              "      <th>05CO049</th>\n",
              "      <th>06CO002</th>\n",
              "      <th>09CO018</th>\n",
              "      <th>09CO019</th>\n",
              "      <th>11CO005</th>\n",
              "      <th>11CO008</th>\n",
              "      <th>11CO018</th>\n",
              "      <th>11CO020</th>\n",
              "      <th>11CO021</th>\n",
              "      <th>11CO022</th>\n",
              "      <th>11CO027</th>\n",
              "      <th>11CO032</th>\n",
              "      <th>11CO037</th>\n",
              "      <th>11CO039</th>\n",
              "      <th>11CO042</th>\n",
              "      <th>11CO047</th>\n",
              "      <th>11CO054</th>\n",
              "      <th>11CO070</th>\n",
              "      <th>11CO079</th>\n",
              "      <th>15CO001</th>\n",
              "      <th>15CO002</th>\n",
              "      <th>16CO002</th>\n",
              "      <th>16CO003</th>\n",
              "      <th>16CO006</th>\n",
              "      <th>21CO006</th>\n",
              "      <th>21CO007</th>\n",
              "      <th>22CO004</th>\n",
              "    </tr>\n",
              "    <tr>\n",
              "      <th>rid</th>\n",
              "      <th></th>\n",
              "      <th></th>\n",
              "      <th></th>\n",
              "      <th></th>\n",
              "      <th></th>\n",
              "      <th></th>\n",
              "      <th></th>\n",
              "      <th></th>\n",
              "      <th></th>\n",
              "      <th></th>\n",
              "      <th></th>\n",
              "      <th></th>\n",
              "      <th></th>\n",
              "      <th></th>\n",
              "      <th></th>\n",
              "      <th></th>\n",
              "      <th></th>\n",
              "      <th></th>\n",
              "      <th></th>\n",
              "      <th></th>\n",
              "      <th></th>\n",
              "      <th></th>\n",
              "      <th></th>\n",
              "      <th></th>\n",
              "      <th></th>\n",
              "      <th></th>\n",
              "      <th></th>\n",
              "      <th></th>\n",
              "      <th></th>\n",
              "      <th></th>\n",
              "      <th></th>\n",
              "      <th></th>\n",
              "      <th></th>\n",
              "      <th></th>\n",
              "      <th></th>\n",
              "      <th></th>\n",
              "      <th></th>\n",
              "    </tr>\n",
              "  </thead>\n",
              "  <tbody>\n",
              "    <tr>\n",
              "      <th>A1BG</th>\n",
              "      <td>-1.1000</td>\n",
              "      <td>-1.890</td>\n",
              "      <td>-0.523</td>\n",
              "      <td>-0.3110</td>\n",
              "      <td>-1.1400</td>\n",
              "      <td>-0.3650</td>\n",
              "      <td>-0.7360</td>\n",
              "      <td>-0.902</td>\n",
              "      <td>-1.7400</td>\n",
              "      <td>-1.580</td>\n",
              "      <td>-2.190</td>\n",
              "      <td>-0.6500</td>\n",
              "      <td>-0.8840</td>\n",
              "      <td>-0.133</td>\n",
              "      <td>0.350</td>\n",
              "      <td>0.370</td>\n",
              "      <td>-0.240</td>\n",
              "      <td>-0.957</td>\n",
              "      <td>0.1080</td>\n",
              "      <td>-0.2180</td>\n",
              "      <td>-1.090</td>\n",
              "      <td>-0.0487</td>\n",
              "      <td>0.6310</td>\n",
              "      <td>-0.4280</td>\n",
              "      <td>-0.5940</td>\n",
              "      <td>-0.3530</td>\n",
              "      <td>-0.7580</td>\n",
              "      <td>-0.297</td>\n",
              "      <td>-0.2410</td>\n",
              "      <td>-1.060</td>\n",
              "      <td>-0.9190</td>\n",
              "      <td>-0.539</td>\n",
              "      <td>-0.577</td>\n",
              "      <td>0.1780</td>\n",
              "      <td>-0.557</td>\n",
              "      <td>-0.975</td>\n",
              "      <td>-1.280</td>\n",
              "    </tr>\n",
              "    <tr>\n",
              "      <th>A1CF</th>\n",
              "      <td>0.3180</td>\n",
              "      <td>0.112</td>\n",
              "      <td>-0.248</td>\n",
              "      <td>-0.2700</td>\n",
              "      <td>0.3850</td>\n",
              "      <td>-0.4350</td>\n",
              "      <td>0.3380</td>\n",
              "      <td>-0.391</td>\n",
              "      <td>-1.5000</td>\n",
              "      <td>0.999</td>\n",
              "      <td>0.303</td>\n",
              "      <td>0.0887</td>\n",
              "      <td>0.0334</td>\n",
              "      <td>-0.641</td>\n",
              "      <td>-0.856</td>\n",
              "      <td>-0.224</td>\n",
              "      <td>-1.080</td>\n",
              "      <td>0.193</td>\n",
              "      <td>0.0599</td>\n",
              "      <td>0.2920</td>\n",
              "      <td>0.236</td>\n",
              "      <td>-0.2600</td>\n",
              "      <td>-0.1390</td>\n",
              "      <td>0.5660</td>\n",
              "      <td>0.4180</td>\n",
              "      <td>-0.5200</td>\n",
              "      <td>0.7320</td>\n",
              "      <td>-1.060</td>\n",
              "      <td>-0.0416</td>\n",
              "      <td>0.507</td>\n",
              "      <td>-0.0321</td>\n",
              "      <td>0.511</td>\n",
              "      <td>-0.165</td>\n",
              "      <td>0.0866</td>\n",
              "      <td>-0.447</td>\n",
              "      <td>0.398</td>\n",
              "      <td>0.518</td>\n",
              "    </tr>\n",
              "    <tr>\n",
              "      <th>A2M</th>\n",
              "      <td>-0.4870</td>\n",
              "      <td>-0.329</td>\n",
              "      <td>-0.638</td>\n",
              "      <td>-0.9210</td>\n",
              "      <td>-1.3700</td>\n",
              "      <td>-1.1600</td>\n",
              "      <td>-0.7380</td>\n",
              "      <td>-1.240</td>\n",
              "      <td>-1.0200</td>\n",
              "      <td>-1.840</td>\n",
              "      <td>-1.300</td>\n",
              "      <td>-0.9100</td>\n",
              "      <td>-1.3900</td>\n",
              "      <td>0.470</td>\n",
              "      <td>-0.416</td>\n",
              "      <td>-0.653</td>\n",
              "      <td>-0.897</td>\n",
              "      <td>-0.969</td>\n",
              "      <td>-0.7180</td>\n",
              "      <td>-0.8510</td>\n",
              "      <td>-1.040</td>\n",
              "      <td>-1.0900</td>\n",
              "      <td>0.0553</td>\n",
              "      <td>-0.9930</td>\n",
              "      <td>-0.3880</td>\n",
              "      <td>-0.3210</td>\n",
              "      <td>-1.1900</td>\n",
              "      <td>-0.789</td>\n",
              "      <td>0.1140</td>\n",
              "      <td>-0.966</td>\n",
              "      <td>-1.1700</td>\n",
              "      <td>-1.020</td>\n",
              "      <td>-0.810</td>\n",
              "      <td>-0.5250</td>\n",
              "      <td>0.342</td>\n",
              "      <td>-1.150</td>\n",
              "      <td>-0.872</td>\n",
              "    </tr>\n",
              "    <tr>\n",
              "      <th>AAAS</th>\n",
              "      <td>0.0995</td>\n",
              "      <td>0.670</td>\n",
              "      <td>0.289</td>\n",
              "      <td>0.2260</td>\n",
              "      <td>0.0167</td>\n",
              "      <td>-1.0400</td>\n",
              "      <td>0.0415</td>\n",
              "      <td>0.138</td>\n",
              "      <td>-0.0581</td>\n",
              "      <td>0.258</td>\n",
              "      <td>0.164</td>\n",
              "      <td>0.2240</td>\n",
              "      <td>-0.1040</td>\n",
              "      <td>-0.193</td>\n",
              "      <td>-0.253</td>\n",
              "      <td>-0.142</td>\n",
              "      <td>0.177</td>\n",
              "      <td>0.400</td>\n",
              "      <td>0.2750</td>\n",
              "      <td>0.1840</td>\n",
              "      <td>0.307</td>\n",
              "      <td>-0.5010</td>\n",
              "      <td>-0.2700</td>\n",
              "      <td>0.3090</td>\n",
              "      <td>0.4290</td>\n",
              "      <td>-0.0813</td>\n",
              "      <td>-0.0936</td>\n",
              "      <td>0.518</td>\n",
              "      <td>0.5110</td>\n",
              "      <td>0.455</td>\n",
              "      <td>0.2910</td>\n",
              "      <td>0.197</td>\n",
              "      <td>-0.224</td>\n",
              "      <td>-0.1290</td>\n",
              "      <td>-0.139</td>\n",
              "      <td>0.573</td>\n",
              "      <td>0.258</td>\n",
              "    </tr>\n",
              "    <tr>\n",
              "      <th>AACS</th>\n",
              "      <td>0.1550</td>\n",
              "      <td>0.116</td>\n",
              "      <td>0.378</td>\n",
              "      <td>0.0528</td>\n",
              "      <td>0.2120</td>\n",
              "      <td>0.0076</td>\n",
              "      <td>0.2830</td>\n",
              "      <td>-0.195</td>\n",
              "      <td>0.4700</td>\n",
              "      <td>0.846</td>\n",
              "      <td>0.111</td>\n",
              "      <td>-0.4850</td>\n",
              "      <td>0.0850</td>\n",
              "      <td>-0.117</td>\n",
              "      <td>0.257</td>\n",
              "      <td>0.225</td>\n",
              "      <td>0.538</td>\n",
              "      <td>0.592</td>\n",
              "      <td>0.1900</td>\n",
              "      <td>-0.0488</td>\n",
              "      <td>0.053</td>\n",
              "      <td>0.3180</td>\n",
              "      <td>-0.2150</td>\n",
              "      <td>0.0175</td>\n",
              "      <td>-0.0136</td>\n",
              "      <td>-0.3800</td>\n",
              "      <td>-0.1070</td>\n",
              "      <td>-1.090</td>\n",
              "      <td>0.1920</td>\n",
              "      <td>-0.248</td>\n",
              "      <td>0.4240</td>\n",
              "      <td>-0.734</td>\n",
              "      <td>-0.220</td>\n",
              "      <td>-0.1450</td>\n",
              "      <td>0.140</td>\n",
              "      <td>-0.128</td>\n",
              "      <td>0.424</td>\n",
              "    </tr>\n",
              "  </tbody>\n",
              "</table>\n",
              "</div>"
            ],
            "text/plain": [
              "cid   01CO005  01CO013  01CO014  01CO019  05CO002  05CO011  05CO026  05CO029  \\\n",
              "rid                                                                            \n",
              "A1BG  -1.1000   -1.890   -0.523  -0.3110  -1.1400  -0.3650  -0.7360   -0.902   \n",
              "A1CF   0.3180    0.112   -0.248  -0.2700   0.3850  -0.4350   0.3380   -0.391   \n",
              "A2M   -0.4870   -0.329   -0.638  -0.9210  -1.3700  -1.1600  -0.7380   -1.240   \n",
              "AAAS   0.0995    0.670    0.289   0.2260   0.0167  -1.0400   0.0415    0.138   \n",
              "AACS   0.1550    0.116    0.378   0.0528   0.2120   0.0076   0.2830   -0.195   \n",
              "\n",
              "cid   05CO037  05CO047  05CO049  06CO002  09CO018  09CO019  11CO005  11CO008  \\\n",
              "rid                                                                            \n",
              "A1BG  -1.7400   -1.580   -2.190  -0.6500  -0.8840   -0.133    0.350    0.370   \n",
              "A1CF  -1.5000    0.999    0.303   0.0887   0.0334   -0.641   -0.856   -0.224   \n",
              "A2M   -1.0200   -1.840   -1.300  -0.9100  -1.3900    0.470   -0.416   -0.653   \n",
              "AAAS  -0.0581    0.258    0.164   0.2240  -0.1040   -0.193   -0.253   -0.142   \n",
              "AACS   0.4700    0.846    0.111  -0.4850   0.0850   -0.117    0.257    0.225   \n",
              "\n",
              "cid   11CO018  11CO020  11CO021  11CO022  11CO027  11CO032  11CO037  11CO039  \\\n",
              "rid                                                                            \n",
              "A1BG   -0.240   -0.957   0.1080  -0.2180   -1.090  -0.0487   0.6310  -0.4280   \n",
              "A1CF   -1.080    0.193   0.0599   0.2920    0.236  -0.2600  -0.1390   0.5660   \n",
              "A2M    -0.897   -0.969  -0.7180  -0.8510   -1.040  -1.0900   0.0553  -0.9930   \n",
              "AAAS    0.177    0.400   0.2750   0.1840    0.307  -0.5010  -0.2700   0.3090   \n",
              "AACS    0.538    0.592   0.1900  -0.0488    0.053   0.3180  -0.2150   0.0175   \n",
              "\n",
              "cid   11CO042  11CO047  11CO054  11CO070  11CO079  15CO001  15CO002  16CO002  \\\n",
              "rid                                                                            \n",
              "A1BG  -0.5940  -0.3530  -0.7580   -0.297  -0.2410   -1.060  -0.9190   -0.539   \n",
              "A1CF   0.4180  -0.5200   0.7320   -1.060  -0.0416    0.507  -0.0321    0.511   \n",
              "A2M   -0.3880  -0.3210  -1.1900   -0.789   0.1140   -0.966  -1.1700   -1.020   \n",
              "AAAS   0.4290  -0.0813  -0.0936    0.518   0.5110    0.455   0.2910    0.197   \n",
              "AACS  -0.0136  -0.3800  -0.1070   -1.090   0.1920   -0.248   0.4240   -0.734   \n",
              "\n",
              "cid   16CO003  16CO006  21CO006  21CO007  22CO004  \n",
              "rid                                                \n",
              "A1BG   -0.577   0.1780   -0.557   -0.975   -1.280  \n",
              "A1CF   -0.165   0.0866   -0.447    0.398    0.518  \n",
              "A2M    -0.810  -0.5250    0.342   -1.150   -0.872  \n",
              "AAAS   -0.224  -0.1290   -0.139    0.573    0.258  \n",
              "AACS   -0.220  -0.1450    0.140   -0.128    0.424  "
            ]
          },
          "metadata": {},
          "output_type": "display_data"
        }
      ],
      "source": [
        "pd.options.display.max_columns = None\n",
        "\n",
        "# quering for more datasets of similar type\n",
        "query = \"\"\"SELECT * FROM cptac.datasets WHERE data_type = '%s' AND %s AND %s \"\"\" %(data_ex, diseases_condition,tissue_condition)\n",
        "results=omixatlas.query_metadata(query)\n",
        "#  \n",
        "# merging the all datasets and processing them on the basis of samples used in datasets\n",
        "dataset_ids = results[\"dataset_id\"]\n",
        "dataset_ids = dataset_ids.tolist()\n",
        "\n",
        "Parallel(n_jobs=20)(delayed(download_dataset)(repo_name, i) for i in dataset_ids)\n",
        "results_gct = read_gcts(dataset_ids)\n",
        "\n",
        "### Merge gcts\n",
        "gct_files = [dataset_id+'.gct' for dataset_id in dataset_ids]\n",
        "\n",
        "# Merging columns information\n",
        "All_Metadata_col = assemble_common_meta([i.col_metadata_df for i in results_gct], \n",
        "                                    fields_to_remove = [], sources = gct_files, \n",
        "                                    remove_all_metadata_fields = False, error_report_file = 'errors')\n",
        "                                    \n",
        "print(\"\\nColumns/Datasets information\")\n",
        "display(All_Metadata_col.head())\n",
        "\n",
        "# Merging rows information\n",
        "All_Metadata_row = assemble_common_meta([i.row_metadata_df for i in results_gct], \n",
        "                                    fields_to_remove = [], sources = gct_files, \n",
        "                                    remove_all_metadata_fields = False, error_report_file = 'errors')\n",
        "                                    \n",
        "print(\"\\nRows information\")\n",
        "display(All_Metadata_row.head())\n",
        "\n",
        "# Merging all the columns/datasets on the basis of rows information of each dataset\n",
        "df_real = assemble_data([i.data_df for i in results_gct], concat_direction = 'horiz')\n",
        "print(\"\\nData Matrix\")\n",
        "display(df_real.head())"
      ]
    },
    {
      "cell_type": "markdown",
      "metadata": {
        "kernel": "Pollyglot"
      },
      "source": [
        "# Datasets Distribution\n",
        "\n",
        "Select the multiple column names of your choice by pressing 'ctrl' key.\n",
        "\n",
        "Here, information of datasets/columns are shown in sunburst plot."
      ]
    },
    {
      "cell_type": "code",
      "execution_count": 18,
      "metadata": {
        "kernel": "Pollyglot",
        "scrolled": true
      },
      "outputs": [
        {
          "data": {
            "application/vnd.jupyter.widget-view+json": {
              "model_id": "06b37f09ff7f43e78a4afffea1a4d75a",
              "version_major": 2,
              "version_minor": 0
            },
            "text/plain": [
              "SelectMultiple(description='Column Data', index=(4,), options=('CIN', 'Mucinous', 'Vital.Status', 'Synchronous…"
            ]
          },
          "metadata": {},
          "output_type": "display_data"
        }
      ],
      "source": [
        "# Sunburst plot for dataset distribution\n",
        "col_metadata = All_Metadata_col.loc[df_real.columns].reset_index() # Extracting datasets information\n",
        "col_metadata = col_metadata.fillna(\"NA\")\n",
        "\n",
        "# Processing and sorting the dataset information\n",
        "df = col_metadata[col_metadata.columns]\n",
        "df = pd.DataFrame(df.nunique()).reset_index()\n",
        "df = df.sort_values(by =[0]) \n",
        "df = df[((df[0]>1) & (df[0]< len(df_real.columns)/2))]\n",
        "lst = df[\"chd\"].to_list()\n",
        "bor = []\n",
        "def dropdown_handler(change):\n",
        "    global bor\n",
        "    bor = change.new\n",
        "select_column_names = widgets.SelectMultiple(options=lst,value=['Gender'],rows=10,description='Column Data',disabled=False)\n",
        "select_column_names.observe(dropdown_handler, names='value')\n",
        "display(select_column_names)"
      ]
    },
    {
      "cell_type": "code",
      "execution_count": 28,
      "metadata": {
        "kernel": "Pollyglot"
      },
      "outputs": [
        {
          "name": "stdout",
          "output_type": "stream",
          "text": [
            "('Gender', 'Stage', 'pathalogy_N_stage')\n"
          ]
        },
        {
          "data": {
            "application/vnd.plotly.v1+json": {
              "config": {
                "plotlyServerURL": "https://plot.ly"
              },
              "data": [
                {
                  "branchvalues": "total",
                  "domain": {
                    "x": [
                      0,
                      1
                    ],
                    "y": [
                      0,
                      1
                    ]
                  },
                  "hovertemplate": "labels=%{label}<br>count=%{value}<br>parent=%{parent}<br>id=%{id}<extra></extra>",
                  "ids": [
                    "Male/Stage I/N0",
                    "Female/Stage II/N0",
                    "Male/Stage II/N0",
                    "Male/Stage IV/N0",
                    "Female/Stage III/N1",
                    "Male/Stage III/N1",
                    "Female/Stage III/N1a",
                    "Female/Stage III/N1b",
                    "Male/Stage III/N1b",
                    "Female/Stage III/N2a",
                    "Female/Stage IV/N2a",
                    "Male/Stage IV/N2a",
                    "Male/Stage I",
                    "Female/Stage II",
                    "Male/Stage II",
                    "Female/Stage III",
                    "Male/Stage III",
                    "Female/Stage IV",
                    "Male/Stage IV",
                    "Female",
                    "Male"
                  ],
                  "labels": [
                    "N0",
                    "N0",
                    "N0",
                    "N0",
                    "N1",
                    "N1",
                    "N1a",
                    "N1b",
                    "N1b",
                    "N2a",
                    "N2a",
                    "N2a",
                    "Stage I",
                    "Stage II",
                    "Stage II",
                    "Stage III",
                    "Stage III",
                    "Stage IV",
                    "Stage IV",
                    "Female",
                    "Male"
                  ],
                  "name": "",
                  "parents": [
                    "Male/Stage I",
                    "Female/Stage II",
                    "Male/Stage II",
                    "Male/Stage IV",
                    "Female/Stage III",
                    "Male/Stage III",
                    "Female/Stage III",
                    "Female/Stage III",
                    "Male/Stage III",
                    "Female/Stage III",
                    "Female/Stage IV",
                    "Male/Stage IV",
                    "Male",
                    "Female",
                    "Male",
                    "Female",
                    "Male",
                    "Female",
                    "Male",
                    "",
                    ""
                  ],
                  "type": "sunburst",
                  "values": [
                    4,
                    7,
                    7,
                    2,
                    3,
                    1,
                    4,
                    1,
                    3,
                    3,
                    1,
                    1,
                    4,
                    7,
                    7,
                    11,
                    4,
                    1,
                    3,
                    19,
                    18
                  ]
                }
              ],
              "layout": {
                "legend": {
                  "tracegroupgap": 0
                },
                "margin": {
                  "t": 60
                },
                "template": {
                  "data": {
                    "bar": [
                      {
                        "error_x": {
                          "color": "#2a3f5f"
                        },
                        "error_y": {
                          "color": "#2a3f5f"
                        },
                        "marker": {
                          "line": {
                            "color": "#E5ECF6",
                            "width": 0.5
                          },
                          "pattern": {
                            "fillmode": "overlay",
                            "size": 10,
                            "solidity": 0.2
                          }
                        },
                        "type": "bar"
                      }
                    ],
                    "barpolar": [
                      {
                        "marker": {
                          "line": {
                            "color": "#E5ECF6",
                            "width": 0.5
                          },
                          "pattern": {
                            "fillmode": "overlay",
                            "size": 10,
                            "solidity": 0.2
                          }
                        },
                        "type": "barpolar"
                      }
                    ],
                    "carpet": [
                      {
                        "aaxis": {
                          "endlinecolor": "#2a3f5f",
                          "gridcolor": "white",
                          "linecolor": "white",
                          "minorgridcolor": "white",
                          "startlinecolor": "#2a3f5f"
                        },
                        "baxis": {
                          "endlinecolor": "#2a3f5f",
                          "gridcolor": "white",
                          "linecolor": "white",
                          "minorgridcolor": "white",
                          "startlinecolor": "#2a3f5f"
                        },
                        "type": "carpet"
                      }
                    ],
                    "choropleth": [
                      {
                        "colorbar": {
                          "outlinewidth": 0,
                          "ticks": ""
                        },
                        "type": "choropleth"
                      }
                    ],
                    "contour": [
                      {
                        "colorbar": {
                          "outlinewidth": 0,
                          "ticks": ""
                        },
                        "colorscale": [
                          [
                            0,
                            "#0d0887"
                          ],
                          [
                            0.1111111111111111,
                            "#46039f"
                          ],
                          [
                            0.2222222222222222,
                            "#7201a8"
                          ],
                          [
                            0.3333333333333333,
                            "#9c179e"
                          ],
                          [
                            0.4444444444444444,
                            "#bd3786"
                          ],
                          [
                            0.5555555555555556,
                            "#d8576b"
                          ],
                          [
                            0.6666666666666666,
                            "#ed7953"
                          ],
                          [
                            0.7777777777777778,
                            "#fb9f3a"
                          ],
                          [
                            0.8888888888888888,
                            "#fdca26"
                          ],
                          [
                            1,
                            "#f0f921"
                          ]
                        ],
                        "type": "contour"
                      }
                    ],
                    "contourcarpet": [
                      {
                        "colorbar": {
                          "outlinewidth": 0,
                          "ticks": ""
                        },
                        "type": "contourcarpet"
                      }
                    ],
                    "heatmap": [
                      {
                        "colorbar": {
                          "outlinewidth": 0,
                          "ticks": ""
                        },
                        "colorscale": [
                          [
                            0,
                            "#0d0887"
                          ],
                          [
                            0.1111111111111111,
                            "#46039f"
                          ],
                          [
                            0.2222222222222222,
                            "#7201a8"
                          ],
                          [
                            0.3333333333333333,
                            "#9c179e"
                          ],
                          [
                            0.4444444444444444,
                            "#bd3786"
                          ],
                          [
                            0.5555555555555556,
                            "#d8576b"
                          ],
                          [
                            0.6666666666666666,
                            "#ed7953"
                          ],
                          [
                            0.7777777777777778,
                            "#fb9f3a"
                          ],
                          [
                            0.8888888888888888,
                            "#fdca26"
                          ],
                          [
                            1,
                            "#f0f921"
                          ]
                        ],
                        "type": "heatmap"
                      }
                    ],
                    "heatmapgl": [
                      {
                        "colorbar": {
                          "outlinewidth": 0,
                          "ticks": ""
                        },
                        "colorscale": [
                          [
                            0,
                            "#0d0887"
                          ],
                          [
                            0.1111111111111111,
                            "#46039f"
                          ],
                          [
                            0.2222222222222222,
                            "#7201a8"
                          ],
                          [
                            0.3333333333333333,
                            "#9c179e"
                          ],
                          [
                            0.4444444444444444,
                            "#bd3786"
                          ],
                          [
                            0.5555555555555556,
                            "#d8576b"
                          ],
                          [
                            0.6666666666666666,
                            "#ed7953"
                          ],
                          [
                            0.7777777777777778,
                            "#fb9f3a"
                          ],
                          [
                            0.8888888888888888,
                            "#fdca26"
                          ],
                          [
                            1,
                            "#f0f921"
                          ]
                        ],
                        "type": "heatmapgl"
                      }
                    ],
                    "histogram": [
                      {
                        "marker": {
                          "pattern": {
                            "fillmode": "overlay",
                            "size": 10,
                            "solidity": 0.2
                          }
                        },
                        "type": "histogram"
                      }
                    ],
                    "histogram2d": [
                      {
                        "colorbar": {
                          "outlinewidth": 0,
                          "ticks": ""
                        },
                        "colorscale": [
                          [
                            0,
                            "#0d0887"
                          ],
                          [
                            0.1111111111111111,
                            "#46039f"
                          ],
                          [
                            0.2222222222222222,
                            "#7201a8"
                          ],
                          [
                            0.3333333333333333,
                            "#9c179e"
                          ],
                          [
                            0.4444444444444444,
                            "#bd3786"
                          ],
                          [
                            0.5555555555555556,
                            "#d8576b"
                          ],
                          [
                            0.6666666666666666,
                            "#ed7953"
                          ],
                          [
                            0.7777777777777778,
                            "#fb9f3a"
                          ],
                          [
                            0.8888888888888888,
                            "#fdca26"
                          ],
                          [
                            1,
                            "#f0f921"
                          ]
                        ],
                        "type": "histogram2d"
                      }
                    ],
                    "histogram2dcontour": [
                      {
                        "colorbar": {
                          "outlinewidth": 0,
                          "ticks": ""
                        },
                        "colorscale": [
                          [
                            0,
                            "#0d0887"
                          ],
                          [
                            0.1111111111111111,
                            "#46039f"
                          ],
                          [
                            0.2222222222222222,
                            "#7201a8"
                          ],
                          [
                            0.3333333333333333,
                            "#9c179e"
                          ],
                          [
                            0.4444444444444444,
                            "#bd3786"
                          ],
                          [
                            0.5555555555555556,
                            "#d8576b"
                          ],
                          [
                            0.6666666666666666,
                            "#ed7953"
                          ],
                          [
                            0.7777777777777778,
                            "#fb9f3a"
                          ],
                          [
                            0.8888888888888888,
                            "#fdca26"
                          ],
                          [
                            1,
                            "#f0f921"
                          ]
                        ],
                        "type": "histogram2dcontour"
                      }
                    ],
                    "mesh3d": [
                      {
                        "colorbar": {
                          "outlinewidth": 0,
                          "ticks": ""
                        },
                        "type": "mesh3d"
                      }
                    ],
                    "parcoords": [
                      {
                        "line": {
                          "colorbar": {
                            "outlinewidth": 0,
                            "ticks": ""
                          }
                        },
                        "type": "parcoords"
                      }
                    ],
                    "pie": [
                      {
                        "automargin": true,
                        "type": "pie"
                      }
                    ],
                    "scatter": [
                      {
                        "fillpattern": {
                          "fillmode": "overlay",
                          "size": 10,
                          "solidity": 0.2
                        },
                        "type": "scatter"
                      }
                    ],
                    "scatter3d": [
                      {
                        "line": {
                          "colorbar": {
                            "outlinewidth": 0,
                            "ticks": ""
                          }
                        },
                        "marker": {
                          "colorbar": {
                            "outlinewidth": 0,
                            "ticks": ""
                          }
                        },
                        "type": "scatter3d"
                      }
                    ],
                    "scattercarpet": [
                      {
                        "marker": {
                          "colorbar": {
                            "outlinewidth": 0,
                            "ticks": ""
                          }
                        },
                        "type": "scattercarpet"
                      }
                    ],
                    "scattergeo": [
                      {
                        "marker": {
                          "colorbar": {
                            "outlinewidth": 0,
                            "ticks": ""
                          }
                        },
                        "type": "scattergeo"
                      }
                    ],
                    "scattergl": [
                      {
                        "marker": {
                          "colorbar": {
                            "outlinewidth": 0,
                            "ticks": ""
                          }
                        },
                        "type": "scattergl"
                      }
                    ],
                    "scattermapbox": [
                      {
                        "marker": {
                          "colorbar": {
                            "outlinewidth": 0,
                            "ticks": ""
                          }
                        },
                        "type": "scattermapbox"
                      }
                    ],
                    "scatterpolar": [
                      {
                        "marker": {
                          "colorbar": {
                            "outlinewidth": 0,
                            "ticks": ""
                          }
                        },
                        "type": "scatterpolar"
                      }
                    ],
                    "scatterpolargl": [
                      {
                        "marker": {
                          "colorbar": {
                            "outlinewidth": 0,
                            "ticks": ""
                          }
                        },
                        "type": "scatterpolargl"
                      }
                    ],
                    "scatterternary": [
                      {
                        "marker": {
                          "colorbar": {
                            "outlinewidth": 0,
                            "ticks": ""
                          }
                        },
                        "type": "scatterternary"
                      }
                    ],
                    "surface": [
                      {
                        "colorbar": {
                          "outlinewidth": 0,
                          "ticks": ""
                        },
                        "colorscale": [
                          [
                            0,
                            "#0d0887"
                          ],
                          [
                            0.1111111111111111,
                            "#46039f"
                          ],
                          [
                            0.2222222222222222,
                            "#7201a8"
                          ],
                          [
                            0.3333333333333333,
                            "#9c179e"
                          ],
                          [
                            0.4444444444444444,
                            "#bd3786"
                          ],
                          [
                            0.5555555555555556,
                            "#d8576b"
                          ],
                          [
                            0.6666666666666666,
                            "#ed7953"
                          ],
                          [
                            0.7777777777777778,
                            "#fb9f3a"
                          ],
                          [
                            0.8888888888888888,
                            "#fdca26"
                          ],
                          [
                            1,
                            "#f0f921"
                          ]
                        ],
                        "type": "surface"
                      }
                    ],
                    "table": [
                      {
                        "cells": {
                          "fill": {
                            "color": "#EBF0F8"
                          },
                          "line": {
                            "color": "white"
                          }
                        },
                        "header": {
                          "fill": {
                            "color": "#C8D4E3"
                          },
                          "line": {
                            "color": "white"
                          }
                        },
                        "type": "table"
                      }
                    ]
                  },
                  "layout": {
                    "annotationdefaults": {
                      "arrowcolor": "#2a3f5f",
                      "arrowhead": 0,
                      "arrowwidth": 1
                    },
                    "autotypenumbers": "strict",
                    "coloraxis": {
                      "colorbar": {
                        "outlinewidth": 0,
                        "ticks": ""
                      }
                    },
                    "colorscale": {
                      "diverging": [
                        [
                          0,
                          "#8e0152"
                        ],
                        [
                          0.1,
                          "#c51b7d"
                        ],
                        [
                          0.2,
                          "#de77ae"
                        ],
                        [
                          0.3,
                          "#f1b6da"
                        ],
                        [
                          0.4,
                          "#fde0ef"
                        ],
                        [
                          0.5,
                          "#f7f7f7"
                        ],
                        [
                          0.6,
                          "#e6f5d0"
                        ],
                        [
                          0.7,
                          "#b8e186"
                        ],
                        [
                          0.8,
                          "#7fbc41"
                        ],
                        [
                          0.9,
                          "#4d9221"
                        ],
                        [
                          1,
                          "#276419"
                        ]
                      ],
                      "sequential": [
                        [
                          0,
                          "#0d0887"
                        ],
                        [
                          0.1111111111111111,
                          "#46039f"
                        ],
                        [
                          0.2222222222222222,
                          "#7201a8"
                        ],
                        [
                          0.3333333333333333,
                          "#9c179e"
                        ],
                        [
                          0.4444444444444444,
                          "#bd3786"
                        ],
                        [
                          0.5555555555555556,
                          "#d8576b"
                        ],
                        [
                          0.6666666666666666,
                          "#ed7953"
                        ],
                        [
                          0.7777777777777778,
                          "#fb9f3a"
                        ],
                        [
                          0.8888888888888888,
                          "#fdca26"
                        ],
                        [
                          1,
                          "#f0f921"
                        ]
                      ],
                      "sequentialminus": [
                        [
                          0,
                          "#0d0887"
                        ],
                        [
                          0.1111111111111111,
                          "#46039f"
                        ],
                        [
                          0.2222222222222222,
                          "#7201a8"
                        ],
                        [
                          0.3333333333333333,
                          "#9c179e"
                        ],
                        [
                          0.4444444444444444,
                          "#bd3786"
                        ],
                        [
                          0.5555555555555556,
                          "#d8576b"
                        ],
                        [
                          0.6666666666666666,
                          "#ed7953"
                        ],
                        [
                          0.7777777777777778,
                          "#fb9f3a"
                        ],
                        [
                          0.8888888888888888,
                          "#fdca26"
                        ],
                        [
                          1,
                          "#f0f921"
                        ]
                      ]
                    },
                    "colorway": [
                      "#636efa",
                      "#EF553B",
                      "#00cc96",
                      "#ab63fa",
                      "#FFA15A",
                      "#19d3f3",
                      "#FF6692",
                      "#B6E880",
                      "#FF97FF",
                      "#FECB52"
                    ],
                    "font": {
                      "color": "#2a3f5f"
                    },
                    "geo": {
                      "bgcolor": "white",
                      "lakecolor": "white",
                      "landcolor": "#E5ECF6",
                      "showlakes": true,
                      "showland": true,
                      "subunitcolor": "white"
                    },
                    "hoverlabel": {
                      "align": "left"
                    },
                    "hovermode": "closest",
                    "mapbox": {
                      "style": "light"
                    },
                    "paper_bgcolor": "white",
                    "plot_bgcolor": "#E5ECF6",
                    "polar": {
                      "angularaxis": {
                        "gridcolor": "white",
                        "linecolor": "white",
                        "ticks": ""
                      },
                      "bgcolor": "#E5ECF6",
                      "radialaxis": {
                        "gridcolor": "white",
                        "linecolor": "white",
                        "ticks": ""
                      }
                    },
                    "scene": {
                      "xaxis": {
                        "backgroundcolor": "#E5ECF6",
                        "gridcolor": "white",
                        "gridwidth": 2,
                        "linecolor": "white",
                        "showbackground": true,
                        "ticks": "",
                        "zerolinecolor": "white"
                      },
                      "yaxis": {
                        "backgroundcolor": "#E5ECF6",
                        "gridcolor": "white",
                        "gridwidth": 2,
                        "linecolor": "white",
                        "showbackground": true,
                        "ticks": "",
                        "zerolinecolor": "white"
                      },
                      "zaxis": {
                        "backgroundcolor": "#E5ECF6",
                        "gridcolor": "white",
                        "gridwidth": 2,
                        "linecolor": "white",
                        "showbackground": true,
                        "ticks": "",
                        "zerolinecolor": "white"
                      }
                    },
                    "shapedefaults": {
                      "line": {
                        "color": "#2a3f5f"
                      }
                    },
                    "ternary": {
                      "aaxis": {
                        "gridcolor": "white",
                        "linecolor": "white",
                        "ticks": ""
                      },
                      "baxis": {
                        "gridcolor": "white",
                        "linecolor": "white",
                        "ticks": ""
                      },
                      "bgcolor": "#E5ECF6",
                      "caxis": {
                        "gridcolor": "white",
                        "linecolor": "white",
                        "ticks": ""
                      }
                    },
                    "title": {
                      "x": 0.05
                    },
                    "xaxis": {
                      "automargin": true,
                      "gridcolor": "white",
                      "linecolor": "white",
                      "ticks": "",
                      "title": {
                        "standoff": 15
                      },
                      "zerolinecolor": "white",
                      "zerolinewidth": 2
                    },
                    "yaxis": {
                      "automargin": true,
                      "gridcolor": "white",
                      "linecolor": "white",
                      "ticks": "",
                      "title": {
                        "standoff": 15
                      },
                      "zerolinecolor": "white",
                      "zerolinewidth": 2
                    }
                  }
                }
              }
            },
            "text/html": [
              "<div>                            <div id=\"183bfc6b-4028-46a5-9826-cd35dce5b3a0\" class=\"plotly-graph-div\" style=\"height:525px; width:100%;\"></div>            <script type=\"text/javascript\">                require([\"plotly\"], function(Plotly) {                    window.PLOTLYENV=window.PLOTLYENV || {};                                    if (document.getElementById(\"183bfc6b-4028-46a5-9826-cd35dce5b3a0\")) {                    Plotly.newPlot(                        \"183bfc6b-4028-46a5-9826-cd35dce5b3a0\",                        [{\"branchvalues\":\"total\",\"domain\":{\"x\":[0.0,1.0],\"y\":[0.0,1.0]},\"hovertemplate\":\"labels=%{label}<br>count=%{value}<br>parent=%{parent}<br>id=%{id}<extra></extra>\",\"ids\":[\"Male/Stage I/N0\",\"Female/Stage II/N0\",\"Male/Stage II/N0\",\"Male/Stage IV/N0\",\"Female/Stage III/N1\",\"Male/Stage III/N1\",\"Female/Stage III/N1a\",\"Female/Stage III/N1b\",\"Male/Stage III/N1b\",\"Female/Stage III/N2a\",\"Female/Stage IV/N2a\",\"Male/Stage IV/N2a\",\"Male/Stage I\",\"Female/Stage II\",\"Male/Stage II\",\"Female/Stage III\",\"Male/Stage III\",\"Female/Stage IV\",\"Male/Stage IV\",\"Female\",\"Male\"],\"labels\":[\"N0\",\"N0\",\"N0\",\"N0\",\"N1\",\"N1\",\"N1a\",\"N1b\",\"N1b\",\"N2a\",\"N2a\",\"N2a\",\"Stage I\",\"Stage II\",\"Stage II\",\"Stage III\",\"Stage III\",\"Stage IV\",\"Stage IV\",\"Female\",\"Male\"],\"name\":\"\",\"parents\":[\"Male/Stage I\",\"Female/Stage II\",\"Male/Stage II\",\"Male/Stage IV\",\"Female/Stage III\",\"Male/Stage III\",\"Female/Stage III\",\"Female/Stage III\",\"Male/Stage III\",\"Female/Stage III\",\"Female/Stage IV\",\"Male/Stage IV\",\"Male\",\"Female\",\"Male\",\"Female\",\"Male\",\"Female\",\"Male\",\"\",\"\"],\"values\":[4,7,7,2,3,1,4,1,3,3,1,1,4,7,7,11,4,1,3,19,18],\"type\":\"sunburst\"}],                        {\"template\":{\"data\":{\"histogram2dcontour\":[{\"type\":\"histogram2dcontour\",\"colorbar\":{\"outlinewidth\":0,\"ticks\":\"\"},\"colorscale\":[[0.0,\"#0d0887\"],[0.1111111111111111,\"#46039f\"],[0.2222222222222222,\"#7201a8\"],[0.3333333333333333,\"#9c179e\"],[0.4444444444444444,\"#bd3786\"],[0.5555555555555556,\"#d8576b\"],[0.6666666666666666,\"#ed7953\"],[0.7777777777777778,\"#fb9f3a\"],[0.8888888888888888,\"#fdca26\"],[1.0,\"#f0f921\"]]}],\"choropleth\":[{\"type\":\"choropleth\",\"colorbar\":{\"outlinewidth\":0,\"ticks\":\"\"}}],\"histogram2d\":[{\"type\":\"histogram2d\",\"colorbar\":{\"outlinewidth\":0,\"ticks\":\"\"},\"colorscale\":[[0.0,\"#0d0887\"],[0.1111111111111111,\"#46039f\"],[0.2222222222222222,\"#7201a8\"],[0.3333333333333333,\"#9c179e\"],[0.4444444444444444,\"#bd3786\"],[0.5555555555555556,\"#d8576b\"],[0.6666666666666666,\"#ed7953\"],[0.7777777777777778,\"#fb9f3a\"],[0.8888888888888888,\"#fdca26\"],[1.0,\"#f0f921\"]]}],\"heatmap\":[{\"type\":\"heatmap\",\"colorbar\":{\"outlinewidth\":0,\"ticks\":\"\"},\"colorscale\":[[0.0,\"#0d0887\"],[0.1111111111111111,\"#46039f\"],[0.2222222222222222,\"#7201a8\"],[0.3333333333333333,\"#9c179e\"],[0.4444444444444444,\"#bd3786\"],[0.5555555555555556,\"#d8576b\"],[0.6666666666666666,\"#ed7953\"],[0.7777777777777778,\"#fb9f3a\"],[0.8888888888888888,\"#fdca26\"],[1.0,\"#f0f921\"]]}],\"heatmapgl\":[{\"type\":\"heatmapgl\",\"colorbar\":{\"outlinewidth\":0,\"ticks\":\"\"},\"colorscale\":[[0.0,\"#0d0887\"],[0.1111111111111111,\"#46039f\"],[0.2222222222222222,\"#7201a8\"],[0.3333333333333333,\"#9c179e\"],[0.4444444444444444,\"#bd3786\"],[0.5555555555555556,\"#d8576b\"],[0.6666666666666666,\"#ed7953\"],[0.7777777777777778,\"#fb9f3a\"],[0.8888888888888888,\"#fdca26\"],[1.0,\"#f0f921\"]]}],\"contourcarpet\":[{\"type\":\"contourcarpet\",\"colorbar\":{\"outlinewidth\":0,\"ticks\":\"\"}}],\"contour\":[{\"type\":\"contour\",\"colorbar\":{\"outlinewidth\":0,\"ticks\":\"\"},\"colorscale\":[[0.0,\"#0d0887\"],[0.1111111111111111,\"#46039f\"],[0.2222222222222222,\"#7201a8\"],[0.3333333333333333,\"#9c179e\"],[0.4444444444444444,\"#bd3786\"],[0.5555555555555556,\"#d8576b\"],[0.6666666666666666,\"#ed7953\"],[0.7777777777777778,\"#fb9f3a\"],[0.8888888888888888,\"#fdca26\"],[1.0,\"#f0f921\"]]}],\"surface\":[{\"type\":\"surface\",\"colorbar\":{\"outlinewidth\":0,\"ticks\":\"\"},\"colorscale\":[[0.0,\"#0d0887\"],[0.1111111111111111,\"#46039f\"],[0.2222222222222222,\"#7201a8\"],[0.3333333333333333,\"#9c179e\"],[0.4444444444444444,\"#bd3786\"],[0.5555555555555556,\"#d8576b\"],[0.6666666666666666,\"#ed7953\"],[0.7777777777777778,\"#fb9f3a\"],[0.8888888888888888,\"#fdca26\"],[1.0,\"#f0f921\"]]}],\"mesh3d\":[{\"type\":\"mesh3d\",\"colorbar\":{\"outlinewidth\":0,\"ticks\":\"\"}}],\"scatter\":[{\"fillpattern\":{\"fillmode\":\"overlay\",\"size\":10,\"solidity\":0.2},\"type\":\"scatter\"}],\"parcoords\":[{\"type\":\"parcoords\",\"line\":{\"colorbar\":{\"outlinewidth\":0,\"ticks\":\"\"}}}],\"scatterpolargl\":[{\"type\":\"scatterpolargl\",\"marker\":{\"colorbar\":{\"outlinewidth\":0,\"ticks\":\"\"}}}],\"bar\":[{\"error_x\":{\"color\":\"#2a3f5f\"},\"error_y\":{\"color\":\"#2a3f5f\"},\"marker\":{\"line\":{\"color\":\"#E5ECF6\",\"width\":0.5},\"pattern\":{\"fillmode\":\"overlay\",\"size\":10,\"solidity\":0.2}},\"type\":\"bar\"}],\"scattergeo\":[{\"type\":\"scattergeo\",\"marker\":{\"colorbar\":{\"outlinewidth\":0,\"ticks\":\"\"}}}],\"scatterpolar\":[{\"type\":\"scatterpolar\",\"marker\":{\"colorbar\":{\"outlinewidth\":0,\"ticks\":\"\"}}}],\"histogram\":[{\"marker\":{\"pattern\":{\"fillmode\":\"overlay\",\"size\":10,\"solidity\":0.2}},\"type\":\"histogram\"}],\"scattergl\":[{\"type\":\"scattergl\",\"marker\":{\"colorbar\":{\"outlinewidth\":0,\"ticks\":\"\"}}}],\"scatter3d\":[{\"type\":\"scatter3d\",\"line\":{\"colorbar\":{\"outlinewidth\":0,\"ticks\":\"\"}},\"marker\":{\"colorbar\":{\"outlinewidth\":0,\"ticks\":\"\"}}}],\"scattermapbox\":[{\"type\":\"scattermapbox\",\"marker\":{\"colorbar\":{\"outlinewidth\":0,\"ticks\":\"\"}}}],\"scatterternary\":[{\"type\":\"scatterternary\",\"marker\":{\"colorbar\":{\"outlinewidth\":0,\"ticks\":\"\"}}}],\"scattercarpet\":[{\"type\":\"scattercarpet\",\"marker\":{\"colorbar\":{\"outlinewidth\":0,\"ticks\":\"\"}}}],\"carpet\":[{\"aaxis\":{\"endlinecolor\":\"#2a3f5f\",\"gridcolor\":\"white\",\"linecolor\":\"white\",\"minorgridcolor\":\"white\",\"startlinecolor\":\"#2a3f5f\"},\"baxis\":{\"endlinecolor\":\"#2a3f5f\",\"gridcolor\":\"white\",\"linecolor\":\"white\",\"minorgridcolor\":\"white\",\"startlinecolor\":\"#2a3f5f\"},\"type\":\"carpet\"}],\"table\":[{\"cells\":{\"fill\":{\"color\":\"#EBF0F8\"},\"line\":{\"color\":\"white\"}},\"header\":{\"fill\":{\"color\":\"#C8D4E3\"},\"line\":{\"color\":\"white\"}},\"type\":\"table\"}],\"barpolar\":[{\"marker\":{\"line\":{\"color\":\"#E5ECF6\",\"width\":0.5},\"pattern\":{\"fillmode\":\"overlay\",\"size\":10,\"solidity\":0.2}},\"type\":\"barpolar\"}],\"pie\":[{\"automargin\":true,\"type\":\"pie\"}]},\"layout\":{\"autotypenumbers\":\"strict\",\"colorway\":[\"#636efa\",\"#EF553B\",\"#00cc96\",\"#ab63fa\",\"#FFA15A\",\"#19d3f3\",\"#FF6692\",\"#B6E880\",\"#FF97FF\",\"#FECB52\"],\"font\":{\"color\":\"#2a3f5f\"},\"hovermode\":\"closest\",\"hoverlabel\":{\"align\":\"left\"},\"paper_bgcolor\":\"white\",\"plot_bgcolor\":\"#E5ECF6\",\"polar\":{\"bgcolor\":\"#E5ECF6\",\"angularaxis\":{\"gridcolor\":\"white\",\"linecolor\":\"white\",\"ticks\":\"\"},\"radialaxis\":{\"gridcolor\":\"white\",\"linecolor\":\"white\",\"ticks\":\"\"}},\"ternary\":{\"bgcolor\":\"#E5ECF6\",\"aaxis\":{\"gridcolor\":\"white\",\"linecolor\":\"white\",\"ticks\":\"\"},\"baxis\":{\"gridcolor\":\"white\",\"linecolor\":\"white\",\"ticks\":\"\"},\"caxis\":{\"gridcolor\":\"white\",\"linecolor\":\"white\",\"ticks\":\"\"}},\"coloraxis\":{\"colorbar\":{\"outlinewidth\":0,\"ticks\":\"\"}},\"colorscale\":{\"sequential\":[[0.0,\"#0d0887\"],[0.1111111111111111,\"#46039f\"],[0.2222222222222222,\"#7201a8\"],[0.3333333333333333,\"#9c179e\"],[0.4444444444444444,\"#bd3786\"],[0.5555555555555556,\"#d8576b\"],[0.6666666666666666,\"#ed7953\"],[0.7777777777777778,\"#fb9f3a\"],[0.8888888888888888,\"#fdca26\"],[1.0,\"#f0f921\"]],\"sequentialminus\":[[0.0,\"#0d0887\"],[0.1111111111111111,\"#46039f\"],[0.2222222222222222,\"#7201a8\"],[0.3333333333333333,\"#9c179e\"],[0.4444444444444444,\"#bd3786\"],[0.5555555555555556,\"#d8576b\"],[0.6666666666666666,\"#ed7953\"],[0.7777777777777778,\"#fb9f3a\"],[0.8888888888888888,\"#fdca26\"],[1.0,\"#f0f921\"]],\"diverging\":[[0,\"#8e0152\"],[0.1,\"#c51b7d\"],[0.2,\"#de77ae\"],[0.3,\"#f1b6da\"],[0.4,\"#fde0ef\"],[0.5,\"#f7f7f7\"],[0.6,\"#e6f5d0\"],[0.7,\"#b8e186\"],[0.8,\"#7fbc41\"],[0.9,\"#4d9221\"],[1,\"#276419\"]]},\"xaxis\":{\"gridcolor\":\"white\",\"linecolor\":\"white\",\"ticks\":\"\",\"title\":{\"standoff\":15},\"zerolinecolor\":\"white\",\"automargin\":true,\"zerolinewidth\":2},\"yaxis\":{\"gridcolor\":\"white\",\"linecolor\":\"white\",\"ticks\":\"\",\"title\":{\"standoff\":15},\"zerolinecolor\":\"white\",\"automargin\":true,\"zerolinewidth\":2},\"scene\":{\"xaxis\":{\"backgroundcolor\":\"#E5ECF6\",\"gridcolor\":\"white\",\"linecolor\":\"white\",\"showbackground\":true,\"ticks\":\"\",\"zerolinecolor\":\"white\",\"gridwidth\":2},\"yaxis\":{\"backgroundcolor\":\"#E5ECF6\",\"gridcolor\":\"white\",\"linecolor\":\"white\",\"showbackground\":true,\"ticks\":\"\",\"zerolinecolor\":\"white\",\"gridwidth\":2},\"zaxis\":{\"backgroundcolor\":\"#E5ECF6\",\"gridcolor\":\"white\",\"linecolor\":\"white\",\"showbackground\":true,\"ticks\":\"\",\"zerolinecolor\":\"white\",\"gridwidth\":2}},\"shapedefaults\":{\"line\":{\"color\":\"#2a3f5f\"}},\"annotationdefaults\":{\"arrowcolor\":\"#2a3f5f\",\"arrowhead\":0,\"arrowwidth\":1},\"geo\":{\"bgcolor\":\"white\",\"landcolor\":\"#E5ECF6\",\"subunitcolor\":\"white\",\"showland\":true,\"showlakes\":true,\"lakecolor\":\"white\"},\"title\":{\"x\":0.05},\"mapbox\":{\"style\":\"light\"}}},\"legend\":{\"tracegroupgap\":0},\"margin\":{\"t\":60}},                        {\"responsive\": true}                    ).then(function(){\n",
              "                            \n",
              "var gd = document.getElementById('183bfc6b-4028-46a5-9826-cd35dce5b3a0');\n",
              "var x = new MutationObserver(function (mutations, observer) {{\n",
              "        var display = window.getComputedStyle(gd).display;\n",
              "        if (!display || display === 'none') {{\n",
              "            console.log([gd, 'removed!']);\n",
              "            Plotly.purge(gd);\n",
              "            observer.disconnect();\n",
              "        }}\n",
              "}});\n",
              "\n",
              "// Listen for the removal of the full notebook cells\n",
              "var notebookContainer = gd.closest('#notebook-container');\n",
              "if (notebookContainer) {{\n",
              "    x.observe(notebookContainer, {childList: true});\n",
              "}}\n",
              "\n",
              "// Listen for the clearing of the current output cell\n",
              "var outputEl = gd.closest('.output');\n",
              "if (outputEl) {{\n",
              "    x.observe(outputEl, {childList: true});\n",
              "}}\n",
              "\n",
              "                        })                };                });            </script>        </div>"
            ]
          },
          "metadata": {},
          "output_type": "display_data"
        }
      ],
      "source": [
        "print(bor)\n",
        "fig = px.sunburst(col_metadata, path=bor) # PLotting sunburst\n",
        "fig.show()"
      ]
    },
    {
      "cell_type": "markdown",
      "metadata": {
        "kernel": "Pollyglot"
      },
      "source": [
        "# Select Datasets/Column Lables for Plots\n",
        "In the widget below, the user has to select which labels they would like to see in the plots below - heatmap, boxplot and barplot. \n"
      ]
    },
    {
      "cell_type": "code",
      "execution_count": 21,
      "metadata": {
        "kernel": "Pollyglot"
      },
      "outputs": [
        {
          "data": {
            "application/vnd.jupyter.widget-view+json": {
              "model_id": "17445fa6da104690920bc4411f18eeef",
              "version_major": 2,
              "version_minor": 0
            },
            "text/plain": [
              "Dropdown(description='Select labels for plots:', options=('CIN', 'Mucinous', 'Vital.Status', 'Synchronous_Tumo…"
            ]
          },
          "metadata": {},
          "output_type": "display_data"
        },
        {
          "name": "stdout",
          "output_type": "stream",
          "text": [
            "Stage\n"
          ]
        }
      ],
      "source": [
        "# Select the labels for dataset and saving in 'bor' variable\n",
        "bor = lst[0]\n",
        "label_plot = widgets.Dropdown(options=lst,value=lst[0],description='Select labels for plots:',disabled=False,)\n",
        "def dropdown_handler(change):\n",
        "    global bor\n",
        "    print(change.new)\n",
        "    bor = change.new\n",
        "label_plot.observe(dropdown_handler, names='value')\n",
        "display(label_plot)"
      ]
    },
    {
      "cell_type": "markdown",
      "metadata": {
        "kernel": "Pollyglot"
      },
      "source": [
        "# Heatmap Plot\n",
        "As per the label preference above, representing the graphs below.\n",
        "\n",
        "Removing genes which have less than 75% data.\n",
        "\n",
        "Graph will show top 20 genes, having high variance."
      ]
    },
    {
      "cell_type": "code",
      "execution_count": 29,
      "metadata": {
        "kernel": "Pollyglot"
      },
      "outputs": [
        {
          "data": {
            "application/vnd.plotly.v1+json": {
              "config": {
                "plotlyServerURL": "https://plot.ly"
              },
              "data": [
                {
                  "coloraxis": "coloraxis",
                  "hovertemplate": "x: %{x}<br>rid: %{y}<br>color: %{z}<extra></extra>",
                  "name": "0",
                  "type": "heatmap",
                  "x": [
                    "Stage III_12",
                    "Stage III_13",
                    "Stage III_15",
                    "Stage III_16",
                    "Stage III_18",
                    "Stage III_22",
                    "Stage III_23",
                    "Stage III_28",
                    "Stage III_29",
                    "Stage III_3",
                    "Stage III_30",
                    "Stage III_32",
                    "Stage III_4",
                    "Stage III_5",
                    "Stage III_7",
                    "Stage II_1",
                    "Stage II_11",
                    "Stage II_17",
                    "Stage II_21",
                    "Stage II_24",
                    "Stage II_25",
                    "Stage II_26",
                    "Stage II_27",
                    "Stage II_31",
                    "Stage II_33",
                    "Stage II_37",
                    "Stage II_6",
                    "Stage II_8",
                    "Stage II_9",
                    "Stage IV_19",
                    "Stage IV_20",
                    "Stage IV_34",
                    "Stage IV_36",
                    "Stage I_10",
                    "Stage I_14",
                    "Stage I_2",
                    "Stage I_35"
                  ],
                  "xaxis": "x",
                  "y": [
                    "HBG2",
                    "DEFA6",
                    "DES",
                    "UGT2B17",
                    "CPS1",
                    "KRT9",
                    "DEFA5",
                    "PYY",
                    "MYH11",
                    "OLFM4",
                    "SYNM",
                    "OGN",
                    "FABP4",
                    "TAGLN",
                    "CNN1",
                    "CLCA1",
                    "TPM2",
                    "TPM1",
                    "CRP",
                    "REG3A"
                  ],
                  "yaxis": "y",
                  "z": [
                    [
                      -1.350000023841858,
                      -3.4000000953674316,
                      2.390000104904175,
                      -0.7009999752044678,
                      -2.4000000953674316,
                      -3.0199999809265137,
                      -1.559999942779541,
                      -4.380000114440918,
                      0.984000027179718,
                      -3.059999942779541,
                      -4.360000133514404,
                      -5.019999980926514,
                      -2.1600000858306885,
                      -4.239999771118164,
                      -1.940000057220459,
                      -1.559999942779541,
                      -1.25,
                      -3.1500000953674316,
                      -2.450000047683716,
                      -0.4880000054836273,
                      -3.4600000381469727,
                      -2.180000066757202,
                      -2.9200000762939453,
                      -3.930000066757202,
                      -3.4800000190734863,
                      -3.5,
                      -2.569999933242798,
                      -5.409999847412109,
                      -3.369999885559082,
                      -3.680000066757202,
                      -2.0899999141693115,
                      -3.440000057220459,
                      -3.059999942779541,
                      -4.869999885559082,
                      -0.8759999871253967,
                      -2.8499999046325684,
                      -1.4600000381469727
                    ],
                    [
                      -3.9800000190734863,
                      -0.3479999899864197,
                      -0.8339999914169312,
                      -2.6500000953674316,
                      -3.4600000381469727,
                      -3.109999895095825,
                      -0.23000000417232513,
                      -3.490000009536743,
                      -0.18199999630451202,
                      -3.619999885559082,
                      -4.329999923706055,
                      1.8200000524520874,
                      -0.20800000429153442,
                      -0.4830000102519989,
                      -4.449999809265137,
                      -0.7639999985694885,
                      -2.2200000286102295,
                      -4.420000076293945,
                      -0.5070000290870667,
                      -1.149999976158142,
                      -4.760000228881836,
                      -0.5709999799728394,
                      -0.03759999945759773,
                      -1.690000057220459,
                      -3.630000114440918,
                      -4.139999866485596,
                      -1.2000000476837158,
                      -1.7899999618530273,
                      -3.180000066757202,
                      -0.5680000185966492,
                      1.7599999904632568,
                      -2.450000047683716,
                      -1.3300000429153442,
                      -4.650000095367432,
                      -1.8600000143051147,
                      -2.200000047683716,
                      -3.5999999046325684
                    ],
                    [
                      -0.9419999718666077,
                      -2.109999895095825,
                      -0.2409999966621399,
                      -0.8550000190734863,
                      -2.7699999809265137,
                      0.36800000071525574,
                      1.0199999809265137,
                      -3.0799999237060547,
                      -1.7999999523162842,
                      -4.5,
                      -3.180000066757202,
                      -2.059999942779541,
                      -0.2709999978542328,
                      -4,
                      -2.4600000381469727,
                      -3.569999933242798,
                      -3.549999952316284,
                      -2.2699999809265137,
                      -0.13500000536441803,
                      0.14100000262260437,
                      -0.9020000100135803,
                      -2.4700000286102295,
                      -1.5099999904632568,
                      -3.2200000286102295,
                      1.2200000286102295,
                      -3.009999990463257,
                      -1.590000033378601,
                      -2.8399999141693115,
                      -4.800000190734863,
                      -1.9299999475479126,
                      -0.5820000171661377,
                      -0.8370000123977661,
                      -3.5299999713897705,
                      -2.440000057220459,
                      -2.390000104904175,
                      -2,
                      0.6579999923706055
                    ],
                    [
                      -3.259999990463257,
                      -3.809999942779541,
                      -1.9500000476837158,
                      -2.2300000190734863,
                      -2.440000057220459,
                      -2.5899999141693115,
                      -2.890000104904175,
                      -3.140000104904175,
                      -1.7699999809265137,
                      -1.149999976158142,
                      -4.460000038146973,
                      -2.240000009536743,
                      -0.5759999752044678,
                      -1.6299999952316284,
                      -1.8600000143051147,
                      0.15700000524520874,
                      -3.049999952316284,
                      -2.7899999618530273,
                      -2.9100000858306885,
                      -1.4199999570846558,
                      -2.6700000762939453,
                      -3.5399999618530273,
                      -3.609999895095825,
                      1.2899999618530273,
                      -3.4200000762939453,
                      -1.1799999475479126,
                      -2.059999942779541,
                      -2.4800000190734863,
                      -2.8499999046325684,
                      -3.940000057220459,
                      -2.25,
                      -0.8209999799728394,
                      -2.549999952316284,
                      -3.75,
                      -1.399999976158142,
                      -2.630000114440918,
                      -0.824999988079071
                    ],
                    [
                      -1.7599999904632568,
                      2.859999895095825,
                      -2.9200000762939453,
                      -2.559999942779541,
                      -0.9819999933242798,
                      -2.799999952316284,
                      -0.016899999231100082,
                      1.8300000429153442,
                      -0.5109999775886536,
                      0.2070000022649765,
                      -0.29600000381469727,
                      -3.180000066757202,
                      -3.0199999809265137,
                      -3.75,
                      -3.1600000858306885,
                      -0.8500000238418579,
                      -1.659999966621399,
                      -2.5299999713897705,
                      -1.8799999952316284,
                      -2.759999990463257,
                      -3.0899999141693115,
                      -1.4900000095367432,
                      -0.0649000033736229,
                      -1.4199999570846558,
                      -1.2400000095367432,
                      -2.890000104904175,
                      -2.369999885559082,
                      -1.809999942779541,
                      -1.8799999952316284,
                      -0.23999999463558197,
                      -1.5,
                      -2.75,
                      -1.149999976158142,
                      -3.359999895095825,
                      -2.9100000858306885,
                      -3.559999942779541,
                      -2.3499999046325684
                    ],
                    [
                      -3.1600000858306885,
                      -3.259999990463257,
                      -3.0799999237060547,
                      -1.7300000190734863,
                      -1.2000000476837158,
                      -2.880000114440918,
                      -1.4500000476837158,
                      -3.5299999713897705,
                      -0.13199999928474426,
                      -1.0099999904632568,
                      -3.569999933242798,
                      -2.319999933242798,
                      -1.4800000190734863,
                      -0.9240000247955322,
                      -1.5199999809265137,
                      -1.9299999475479126,
                      -0.08089999854564667,
                      -2.180000066757202,
                      -3.0799999237060547,
                      -3,
                      -1.559999942779541,
                      -2.619999885559082,
                      -2.4200000762939453,
                      -1.840000033378601,
                      -2.930000066757202,
                      -3.3399999141693115,
                      -4.340000152587891,
                      -1.8300000429153442,
                      0.23000000417232513,
                      -1.6799999475479126,
                      -1.6399999856948853,
                      -2.390000104904175,
                      -1.840000033378601,
                      -2.4200000762939453,
                      -2.5799999237060547,
                      -2.25,
                      -2.4600000381469727
                    ],
                    [
                      -3.009999990463257,
                      -1.9700000286102295,
                      -0.6240000128746033,
                      -3.6600000858306885,
                      -1.9500000476837158,
                      -3.6500000953674316,
                      -1.159999966621399,
                      -3.190000057220459,
                      -1.1200000047683716,
                      -2.819999933242798,
                      -3.859999895095825,
                      3.869999885559082,
                      -0.7170000076293945,
                      -0.4580000042915344,
                      -2.680000066757202,
                      -1.4199999570846558,
                      -1.850000023841858,
                      -2.640000104904175,
                      -1.6200000047683716,
                      -0.777999997138977,
                      -3.240000009536743,
                      -0.578000009059906,
                      -0.8019999861717224,
                      -2.9600000381469727,
                      -2.9000000953674316,
                      -4.199999809265137,
                      -1.0800000429153442,
                      -3.569999933242798,
                      -2.009999990463257,
                      -1.7799999713897705,
                      0.1120000034570694,
                      null,
                      0.22699999809265137,
                      -2.549999952316284,
                      -0.8970000147819519,
                      -4.179999828338623,
                      -2.0299999713897705
                    ],
                    [
                      -2.8299999237060547,
                      -1.3300000429153442,
                      0.42899999022483826,
                      -2.109999895095825,
                      -1.75,
                      0.03629999980330467,
                      -0.36800000071525574,
                      -2.109999895095825,
                      -2.8499999046325684,
                      -2.4000000953674316,
                      -3.7899999618530273,
                      -3.2300000190734863,
                      -0.2590000033378601,
                      -2.950000047683716,
                      -3.319999933242798,
                      -1.340000033378601,
                      -2.7300000190734863,
                      -2.4100000858306885,
                      -2.069999933242798,
                      -1.2300000190734863,
                      -2.2799999713897705,
                      -2.109999895095825,
                      -1.2000000476837158,
                      -2.200000047683716,
                      -2.700000047683716,
                      0.578000009059906,
                      -0.6610000133514404,
                      -2.799999952316284,
                      -4.28000020980835,
                      -1.440000057220459,
                      -1.7400000095367432,
                      -0.5920000076293945,
                      -0.9919999837875366,
                      -3.450000047683716,
                      -1.9199999570846558,
                      -1.2799999713897705,
                      -0.16099999845027924
                    ],
                    [
                      -0.9049999713897705,
                      -2.640000104904175,
                      -0.531000018119812,
                      -1.25,
                      -2.2200000286102295,
                      0.0044999998062849045,
                      0.47600001096725464,
                      -2.509999990463257,
                      -1.4500000476837158,
                      -3.5799999237060547,
                      -2.8499999046325684,
                      -1.8799999952316284,
                      -0.6740000247955322,
                      -4.010000228881836,
                      -2.319999933242798,
                      -2.9100000858306885,
                      -2.940000057220459,
                      -1.9700000286102295,
                      -0.800000011920929,
                      -0.3540000021457672,
                      -0.640999972820282,
                      -2.299999952316284,
                      -1.8200000524520874,
                      -2.5399999618530273,
                      0.5889999866485596,
                      -2.869999885559082,
                      -1.6100000143051147,
                      -2.109999895095825,
                      -3.4000000953674316,
                      -2.180000066757202,
                      -0.3790000081062317,
                      -0.18799999356269836,
                      -2.619999885559082,
                      -2.4000000953674316,
                      -1.850000023841858,
                      -2.690000057220459,
                      0.19499999284744263
                    ],
                    [
                      -2.869999885559082,
                      1.399999976158142,
                      -2.2699999809265137,
                      -1.3899999856948853,
                      -1.5700000524520874,
                      -2.5799999237060547,
                      -1.5399999618530273,
                      1.899999976158142,
                      -2.440000057220459,
                      -1.6399999856948853,
                      -3.4800000190734863,
                      3.200000047683716,
                      -1.850000023841858,
                      -0.46000000834465027,
                      -1.3799999952316284,
                      -0.9520000219345093,
                      -1.190000057220459,
                      -2.569999933242798,
                      1.2599999904632568,
                      0.019500000402331352,
                      -3.640000104904175,
                      -1.559999942779541,
                      0.34700000286102295,
                      -0.6309999823570251,
                      -2.700000047683716,
                      -0.21899999678134918,
                      -2.390000104904175,
                      -1.6299999952316284,
                      -1.2799999713897705,
                      -0.22300000488758087,
                      -1.149999976158142,
                      -0.8320000171661377,
                      -0.4860000014305115,
                      -2.609999895095825,
                      -2.740000009536743,
                      -2.4000000953674316,
                      -2.9100000858306885
                    ],
                    [
                      -0.9860000014305115,
                      -1.8799999952316284,
                      -0.3149999976158142,
                      -0.8679999709129333,
                      -2.2899999618530273,
                      0.4230000078678131,
                      0.8059999942779541,
                      -2.2699999809265137,
                      -1.5299999713897705,
                      -3.6500000953674316,
                      -2.740000009536743,
                      -1.7999999523162842,
                      -0.34200000762939453,
                      -2.9000000953674316,
                      -2.109999895095825,
                      -2.930000066757202,
                      -3.3299999237060547,
                      -2.140000104904175,
                      -0.3619999885559082,
                      -0.13099999725818634,
                      -0.8560000061988831,
                      -1.7799999713897705,
                      -1.4800000190734863,
                      -2.5799999237060547,
                      0.7919999957084656,
                      -2.930000066757202,
                      -1.4299999475479126,
                      -2.3499999046325684,
                      -3.630000114440918,
                      -1.7300000190734863,
                      -0.5360000133514404,
                      -0.7120000123977661,
                      -2.7699999809265137,
                      -2.380000114440918,
                      -2.0799999237060547,
                      -2.450000047683716,
                      0.26100000739097595
                    ],
                    [
                      -0.7599999904632568,
                      -3.309999942779541,
                      0.01720000058412552,
                      -1.350000023841858,
                      -1.9199999570846558,
                      -1,
                      -0.021400000900030136,
                      -0.9470000267028809,
                      -0.5550000071525574,
                      -3.509999990463257,
                      -1.5,
                      -0.5569999814033508,
                      -1.4299999475479126,
                      -3.5,
                      -3.450000047683716,
                      -2.9800000190734863,
                      -3.240000009536743,
                      -1.7599999904632568,
                      -1.100000023841858,
                      -1.3600000143051147,
                      -0.6840000152587891,
                      -1.899999976158142,
                      -2.4200000762939453,
                      -2.640000104904175,
                      -0.6729999780654907,
                      -2.759999990463257,
                      -1.3899999856948853,
                      -2.759999990463257,
                      -2.690000057220459,
                      -1.9500000476837158,
                      -0.75,
                      -0.7570000290870667,
                      -2.5399999618530273,
                      -2.3399999141693115,
                      -1.409999966621399,
                      -3.380000114440918,
                      -0.13899999856948853
                    ],
                    [
                      0.6129999756813049,
                      -1.6699999570846558,
                      -2.180000066757202,
                      1.4199999570846558,
                      -1.8600000143051147,
                      -1.899999976158142,
                      0.4230000078678131,
                      1.9199999570846558,
                      1.649999976158142,
                      -3.109999895095825,
                      -2.190000057220459,
                      -0.925000011920929,
                      -1.1299999952316284,
                      -2.75,
                      -2.3299999237060547,
                      -2.640000104904175,
                      -2.549999952316284,
                      0.09459999948740005,
                      -0.5839999914169312,
                      -2.190000057220459,
                      -0.8029999732971191,
                      -0.20200000703334808,
                      -0.6179999709129333,
                      -2.180000066757202,
                      -0.8849999904632568,
                      -2.2899999618530273,
                      -2.75,
                      -2.5199999809265137,
                      -0.8339999914169312,
                      2.990000009536743,
                      -1.7999999523162842,
                      -1.5700000524520874,
                      -2.9200000762939453,
                      -2.7699999809265137,
                      -1.7699999809265137,
                      -2.190000057220459,
                      0.8489999771118164
                    ],
                    [
                      -0.43299999833106995,
                      -2.5799999237060547,
                      -0.25,
                      -0.5270000100135803,
                      -1.9500000476837158,
                      0.36399999260902405,
                      0.7179999947547913,
                      -1.309999942779541,
                      -1.4199999570846558,
                      -3.549999952316284,
                      -2.7200000286102295,
                      -1.3899999856948853,
                      -0.47099998593330383,
                      -3.7699999809265137,
                      -2.740000009536743,
                      -2.8299999237060547,
                      -3.009999990463257,
                      -1.7999999523162842,
                      -0.36399999260902405,
                      -0.01640000008046627,
                      -0.871999979019165,
                      -1.7799999713897705,
                      -1.5800000429153442,
                      -2.8299999237060547,
                      0.9549999833106995,
                      -3.1500000953674316,
                      -1.2899999618530273,
                      -2.3499999046325684,
                      -2.3499999046325684,
                      -1.8899999856948853,
                      -0.2549999952316284,
                      -0.824999988079071,
                      -2.4100000858306885,
                      -2.5299999713897705,
                      -1.559999942779541,
                      -2.8399999141693115,
                      0.328000009059906
                    ],
                    [
                      -0.9409999847412109,
                      -2.3299999237060547,
                      -0.4320000112056732,
                      -0.7879999876022339,
                      -1.940000057220459,
                      -0.016200000420212746,
                      0.6269999742507935,
                      -2.0399999618530273,
                      -1.5,
                      -3.490000009536743,
                      -2.9100000858306885,
                      -0.8069999814033508,
                      -0.6460000276565552,
                      -3.9100000858306885,
                      -2.4200000762939453,
                      -2.680000066757202,
                      -3.130000114440918,
                      -1.6699999570846558,
                      -0.656000018119812,
                      -0.10899999737739563,
                      -1.0399999618530273,
                      -2.0799999237060547,
                      -1.5199999809265137,
                      -2.700000047683716,
                      0.35899999737739563,
                      -2.9200000762939453,
                      -1.2300000190734863,
                      -2.319999933242798,
                      -3.0399999618530273,
                      -1.8899999856948853,
                      -0.3409999907016754,
                      -0.6890000104904175,
                      -2.6700000762939453,
                      -2.1600000858306885,
                      -1.7200000286102295,
                      -2.9100000858306885,
                      -0.30799999833106995
                    ],
                    [
                      -3.3399999141693115,
                      -2.450000047683716,
                      0.27399998903274536,
                      -2.4000000953674316,
                      -0.11999999731779099,
                      0.09030000120401382,
                      -1.5299999713897705,
                      -2.7699999809265137,
                      -2.0399999618530273,
                      -2.3399999141693115,
                      -2.7200000286102295,
                      -1.8600000143051147,
                      -0.8009999990463257,
                      -1.8300000429153442,
                      -3.119999885559082,
                      -1.8300000429153442,
                      -0.7179999947547913,
                      -3.109999895095825,
                      -1.8600000143051147,
                      -2.2699999809265137,
                      -1.8700000047683716,
                      -2.630000114440918,
                      -2.259999990463257,
                      0.5699999928474426,
                      -2.6700000762939453,
                      -1.090000033378601,
                      -1.7799999713897705,
                      -0.4490000009536743,
                      -0.3310000002384186,
                      -2.5,
                      -1.6100000143051147,
                      -0.6620000004768372,
                      -1.6299999952316284,
                      -3.4000000953674316,
                      -1.350000023841858,
                      -2.700000047683716,
                      -1.8600000143051147
                    ],
                    [
                      -0.5389999747276306,
                      -2.190000057220459,
                      0.06909999996423721,
                      -0.5450000166893005,
                      -1.909999966621399,
                      0.4830000102519989,
                      0.2590000033378601,
                      -1.6399999856948853,
                      -1.3799999952316284,
                      -3.5799999237060547,
                      -2.5799999237060547,
                      -1.3600000143051147,
                      -0.5580000281333923,
                      -2.759999990463257,
                      -2.430000066757202,
                      -2.7100000381469727,
                      -3.5799999237060547,
                      -1.840000033378601,
                      -0.527999997138977,
                      0.006099999882280827,
                      -1.0800000429153442,
                      -1.9199999570846558,
                      -1.9500000476837158,
                      -2.619999885559082,
                      0.7820000052452087,
                      -2.890000104904175,
                      -1.1100000143051147,
                      -2.2100000381469727,
                      -3.759999990463257,
                      -1.899999976158142,
                      -0.3019999861717224,
                      -0.04230000078678131,
                      -2.390000104904175,
                      -2.4700000286102295,
                      -1.4199999570846558,
                      -2.740000009536743,
                      0.08529999852180481
                    ],
                    [
                      -0.6660000085830688,
                      -2.4000000953674316,
                      -0.37700000405311584,
                      -0.8669999837875366,
                      -1.850000023841858,
                      0.17499999701976776,
                      0.08470000326633453,
                      -1.6699999570846558,
                      -1.1299999952316284,
                      -3.119999885559082,
                      -2.3299999237060547,
                      -1.3300000429153442,
                      -0.6990000009536743,
                      -3.130000114440918,
                      -2.309999942779541,
                      -2.680000066757202,
                      -3.5199999809265137,
                      -1.940000057220459,
                      -0.6510000228881836,
                      -0.1860000044107437,
                      -0.9829999804496765,
                      -2.0999999046325684,
                      -2.240000009536743,
                      -2.5799999237060547,
                      0.6890000104904175,
                      -2.950000047683716,
                      -1.6100000143051147,
                      -2.0399999618530273,
                      -3.5999999046325684,
                      -1.8200000524520874,
                      -0.39899998903274536,
                      -0.26499998569488525,
                      -2.2699999809265137,
                      -2.4100000858306885,
                      -1.6699999570846558,
                      -2.8499999046325684,
                      0.034699998795986176
                    ],
                    [
                      -2.1700000762939453,
                      -1.0299999713897705,
                      -3.609999895095825,
                      -2.1700000762939453,
                      -0.3089999854564667,
                      -1.6699999570846558,
                      -0.8289999961853027,
                      0.09719999879598618,
                      -1.399999976158142,
                      0.1509999930858612,
                      -2.109999895095825,
                      0.40299999713897705,
                      -1.1799999475479126,
                      -1.149999976158142,
                      -2.3399999141693115,
                      -0.5320000052452087,
                      -2.700000047683716,
                      1.5800000429153442,
                      -1.9500000476837158,
                      -3.799999952316284,
                      -1.0299999713897705,
                      1.4800000190734863,
                      1.3300000429153442,
                      -1.2999999523162842,
                      -2.380000114440918,
                      -2.4100000858306885,
                      -3.0199999809265137,
                      -1.409999966621399,
                      -1.75,
                      1.440000057220459,
                      1.7200000286102295,
                      -0.8240000009536743,
                      2.430000066757202,
                      -1.7300000190734863,
                      -1.9199999570846558,
                      -0.7170000076293945,
                      -2.450000047683716
                    ],
                    [
                      -2.799999952316284,
                      -1.190000057220459,
                      -2.930000066757202,
                      -1.0499999523162842,
                      -2.390000104904175,
                      -2.5,
                      -0.7279999852180481,
                      -2.859999895095825,
                      -0.8460000157356262,
                      -0.8809999823570251,
                      -3.1700000762939453,
                      0.40700000524520874,
                      -0.9789999723434448,
                      -1.3700000047683716,
                      -1.2999999523162842,
                      -1.3899999856948853,
                      -1.600000023841858,
                      -1.809999942779541,
                      -1.190000057220459,
                      -2.3499999046325684,
                      -2.3399999141693115,
                      -1.9600000381469727,
                      -0.335999995470047,
                      -1.9700000286102295,
                      -2.619999885559082,
                      -2.8499999046325684,
                      -2.5299999713897705,
                      -2.6500000953674316,
                      -2.549999952316284,
                      -1.0499999523162842,
                      -1.909999966621399,
                      -1.4800000190734863,
                      -1.590000033378601,
                      -2.680000066757202,
                      -0.925000011920929,
                      -2.880000114440918,
                      -2.700000047683716
                    ]
                  ]
                }
              ],
              "layout": {
                "coloraxis": {
                  "colorscale": [
                    [
                      0,
                      "#0d0887"
                    ],
                    [
                      0.1111111111111111,
                      "#46039f"
                    ],
                    [
                      0.2222222222222222,
                      "#7201a8"
                    ],
                    [
                      0.3333333333333333,
                      "#9c179e"
                    ],
                    [
                      0.4444444444444444,
                      "#bd3786"
                    ],
                    [
                      0.5555555555555556,
                      "#d8576b"
                    ],
                    [
                      0.6666666666666666,
                      "#ed7953"
                    ],
                    [
                      0.7777777777777778,
                      "#fb9f3a"
                    ],
                    [
                      0.8888888888888888,
                      "#fdca26"
                    ],
                    [
                      1,
                      "#f0f921"
                    ]
                  ]
                },
                "margin": {
                  "t": 60
                },
                "template": {
                  "data": {
                    "bar": [
                      {
                        "error_x": {
                          "color": "#2a3f5f"
                        },
                        "error_y": {
                          "color": "#2a3f5f"
                        },
                        "marker": {
                          "line": {
                            "color": "#E5ECF6",
                            "width": 0.5
                          },
                          "pattern": {
                            "fillmode": "overlay",
                            "size": 10,
                            "solidity": 0.2
                          }
                        },
                        "type": "bar"
                      }
                    ],
                    "barpolar": [
                      {
                        "marker": {
                          "line": {
                            "color": "#E5ECF6",
                            "width": 0.5
                          },
                          "pattern": {
                            "fillmode": "overlay",
                            "size": 10,
                            "solidity": 0.2
                          }
                        },
                        "type": "barpolar"
                      }
                    ],
                    "carpet": [
                      {
                        "aaxis": {
                          "endlinecolor": "#2a3f5f",
                          "gridcolor": "white",
                          "linecolor": "white",
                          "minorgridcolor": "white",
                          "startlinecolor": "#2a3f5f"
                        },
                        "baxis": {
                          "endlinecolor": "#2a3f5f",
                          "gridcolor": "white",
                          "linecolor": "white",
                          "minorgridcolor": "white",
                          "startlinecolor": "#2a3f5f"
                        },
                        "type": "carpet"
                      }
                    ],
                    "choropleth": [
                      {
                        "colorbar": {
                          "outlinewidth": 0,
                          "ticks": ""
                        },
                        "type": "choropleth"
                      }
                    ],
                    "contour": [
                      {
                        "colorbar": {
                          "outlinewidth": 0,
                          "ticks": ""
                        },
                        "colorscale": [
                          [
                            0,
                            "#0d0887"
                          ],
                          [
                            0.1111111111111111,
                            "#46039f"
                          ],
                          [
                            0.2222222222222222,
                            "#7201a8"
                          ],
                          [
                            0.3333333333333333,
                            "#9c179e"
                          ],
                          [
                            0.4444444444444444,
                            "#bd3786"
                          ],
                          [
                            0.5555555555555556,
                            "#d8576b"
                          ],
                          [
                            0.6666666666666666,
                            "#ed7953"
                          ],
                          [
                            0.7777777777777778,
                            "#fb9f3a"
                          ],
                          [
                            0.8888888888888888,
                            "#fdca26"
                          ],
                          [
                            1,
                            "#f0f921"
                          ]
                        ],
                        "type": "contour"
                      }
                    ],
                    "contourcarpet": [
                      {
                        "colorbar": {
                          "outlinewidth": 0,
                          "ticks": ""
                        },
                        "type": "contourcarpet"
                      }
                    ],
                    "heatmap": [
                      {
                        "colorbar": {
                          "outlinewidth": 0,
                          "ticks": ""
                        },
                        "colorscale": [
                          [
                            0,
                            "#0d0887"
                          ],
                          [
                            0.1111111111111111,
                            "#46039f"
                          ],
                          [
                            0.2222222222222222,
                            "#7201a8"
                          ],
                          [
                            0.3333333333333333,
                            "#9c179e"
                          ],
                          [
                            0.4444444444444444,
                            "#bd3786"
                          ],
                          [
                            0.5555555555555556,
                            "#d8576b"
                          ],
                          [
                            0.6666666666666666,
                            "#ed7953"
                          ],
                          [
                            0.7777777777777778,
                            "#fb9f3a"
                          ],
                          [
                            0.8888888888888888,
                            "#fdca26"
                          ],
                          [
                            1,
                            "#f0f921"
                          ]
                        ],
                        "type": "heatmap"
                      }
                    ],
                    "heatmapgl": [
                      {
                        "colorbar": {
                          "outlinewidth": 0,
                          "ticks": ""
                        },
                        "colorscale": [
                          [
                            0,
                            "#0d0887"
                          ],
                          [
                            0.1111111111111111,
                            "#46039f"
                          ],
                          [
                            0.2222222222222222,
                            "#7201a8"
                          ],
                          [
                            0.3333333333333333,
                            "#9c179e"
                          ],
                          [
                            0.4444444444444444,
                            "#bd3786"
                          ],
                          [
                            0.5555555555555556,
                            "#d8576b"
                          ],
                          [
                            0.6666666666666666,
                            "#ed7953"
                          ],
                          [
                            0.7777777777777778,
                            "#fb9f3a"
                          ],
                          [
                            0.8888888888888888,
                            "#fdca26"
                          ],
                          [
                            1,
                            "#f0f921"
                          ]
                        ],
                        "type": "heatmapgl"
                      }
                    ],
                    "histogram": [
                      {
                        "marker": {
                          "pattern": {
                            "fillmode": "overlay",
                            "size": 10,
                            "solidity": 0.2
                          }
                        },
                        "type": "histogram"
                      }
                    ],
                    "histogram2d": [
                      {
                        "colorbar": {
                          "outlinewidth": 0,
                          "ticks": ""
                        },
                        "colorscale": [
                          [
                            0,
                            "#0d0887"
                          ],
                          [
                            0.1111111111111111,
                            "#46039f"
                          ],
                          [
                            0.2222222222222222,
                            "#7201a8"
                          ],
                          [
                            0.3333333333333333,
                            "#9c179e"
                          ],
                          [
                            0.4444444444444444,
                            "#bd3786"
                          ],
                          [
                            0.5555555555555556,
                            "#d8576b"
                          ],
                          [
                            0.6666666666666666,
                            "#ed7953"
                          ],
                          [
                            0.7777777777777778,
                            "#fb9f3a"
                          ],
                          [
                            0.8888888888888888,
                            "#fdca26"
                          ],
                          [
                            1,
                            "#f0f921"
                          ]
                        ],
                        "type": "histogram2d"
                      }
                    ],
                    "histogram2dcontour": [
                      {
                        "colorbar": {
                          "outlinewidth": 0,
                          "ticks": ""
                        },
                        "colorscale": [
                          [
                            0,
                            "#0d0887"
                          ],
                          [
                            0.1111111111111111,
                            "#46039f"
                          ],
                          [
                            0.2222222222222222,
                            "#7201a8"
                          ],
                          [
                            0.3333333333333333,
                            "#9c179e"
                          ],
                          [
                            0.4444444444444444,
                            "#bd3786"
                          ],
                          [
                            0.5555555555555556,
                            "#d8576b"
                          ],
                          [
                            0.6666666666666666,
                            "#ed7953"
                          ],
                          [
                            0.7777777777777778,
                            "#fb9f3a"
                          ],
                          [
                            0.8888888888888888,
                            "#fdca26"
                          ],
                          [
                            1,
                            "#f0f921"
                          ]
                        ],
                        "type": "histogram2dcontour"
                      }
                    ],
                    "mesh3d": [
                      {
                        "colorbar": {
                          "outlinewidth": 0,
                          "ticks": ""
                        },
                        "type": "mesh3d"
                      }
                    ],
                    "parcoords": [
                      {
                        "line": {
                          "colorbar": {
                            "outlinewidth": 0,
                            "ticks": ""
                          }
                        },
                        "type": "parcoords"
                      }
                    ],
                    "pie": [
                      {
                        "automargin": true,
                        "type": "pie"
                      }
                    ],
                    "scatter": [
                      {
                        "fillpattern": {
                          "fillmode": "overlay",
                          "size": 10,
                          "solidity": 0.2
                        },
                        "type": "scatter"
                      }
                    ],
                    "scatter3d": [
                      {
                        "line": {
                          "colorbar": {
                            "outlinewidth": 0,
                            "ticks": ""
                          }
                        },
                        "marker": {
                          "colorbar": {
                            "outlinewidth": 0,
                            "ticks": ""
                          }
                        },
                        "type": "scatter3d"
                      }
                    ],
                    "scattercarpet": [
                      {
                        "marker": {
                          "colorbar": {
                            "outlinewidth": 0,
                            "ticks": ""
                          }
                        },
                        "type": "scattercarpet"
                      }
                    ],
                    "scattergeo": [
                      {
                        "marker": {
                          "colorbar": {
                            "outlinewidth": 0,
                            "ticks": ""
                          }
                        },
                        "type": "scattergeo"
                      }
                    ],
                    "scattergl": [
                      {
                        "marker": {
                          "colorbar": {
                            "outlinewidth": 0,
                            "ticks": ""
                          }
                        },
                        "type": "scattergl"
                      }
                    ],
                    "scattermapbox": [
                      {
                        "marker": {
                          "colorbar": {
                            "outlinewidth": 0,
                            "ticks": ""
                          }
                        },
                        "type": "scattermapbox"
                      }
                    ],
                    "scatterpolar": [
                      {
                        "marker": {
                          "colorbar": {
                            "outlinewidth": 0,
                            "ticks": ""
                          }
                        },
                        "type": "scatterpolar"
                      }
                    ],
                    "scatterpolargl": [
                      {
                        "marker": {
                          "colorbar": {
                            "outlinewidth": 0,
                            "ticks": ""
                          }
                        },
                        "type": "scatterpolargl"
                      }
                    ],
                    "scatterternary": [
                      {
                        "marker": {
                          "colorbar": {
                            "outlinewidth": 0,
                            "ticks": ""
                          }
                        },
                        "type": "scatterternary"
                      }
                    ],
                    "surface": [
                      {
                        "colorbar": {
                          "outlinewidth": 0,
                          "ticks": ""
                        },
                        "colorscale": [
                          [
                            0,
                            "#0d0887"
                          ],
                          [
                            0.1111111111111111,
                            "#46039f"
                          ],
                          [
                            0.2222222222222222,
                            "#7201a8"
                          ],
                          [
                            0.3333333333333333,
                            "#9c179e"
                          ],
                          [
                            0.4444444444444444,
                            "#bd3786"
                          ],
                          [
                            0.5555555555555556,
                            "#d8576b"
                          ],
                          [
                            0.6666666666666666,
                            "#ed7953"
                          ],
                          [
                            0.7777777777777778,
                            "#fb9f3a"
                          ],
                          [
                            0.8888888888888888,
                            "#fdca26"
                          ],
                          [
                            1,
                            "#f0f921"
                          ]
                        ],
                        "type": "surface"
                      }
                    ],
                    "table": [
                      {
                        "cells": {
                          "fill": {
                            "color": "#EBF0F8"
                          },
                          "line": {
                            "color": "white"
                          }
                        },
                        "header": {
                          "fill": {
                            "color": "#C8D4E3"
                          },
                          "line": {
                            "color": "white"
                          }
                        },
                        "type": "table"
                      }
                    ]
                  },
                  "layout": {
                    "annotationdefaults": {
                      "arrowcolor": "#2a3f5f",
                      "arrowhead": 0,
                      "arrowwidth": 1
                    },
                    "autotypenumbers": "strict",
                    "coloraxis": {
                      "colorbar": {
                        "outlinewidth": 0,
                        "ticks": ""
                      }
                    },
                    "colorscale": {
                      "diverging": [
                        [
                          0,
                          "#8e0152"
                        ],
                        [
                          0.1,
                          "#c51b7d"
                        ],
                        [
                          0.2,
                          "#de77ae"
                        ],
                        [
                          0.3,
                          "#f1b6da"
                        ],
                        [
                          0.4,
                          "#fde0ef"
                        ],
                        [
                          0.5,
                          "#f7f7f7"
                        ],
                        [
                          0.6,
                          "#e6f5d0"
                        ],
                        [
                          0.7,
                          "#b8e186"
                        ],
                        [
                          0.8,
                          "#7fbc41"
                        ],
                        [
                          0.9,
                          "#4d9221"
                        ],
                        [
                          1,
                          "#276419"
                        ]
                      ],
                      "sequential": [
                        [
                          0,
                          "#0d0887"
                        ],
                        [
                          0.1111111111111111,
                          "#46039f"
                        ],
                        [
                          0.2222222222222222,
                          "#7201a8"
                        ],
                        [
                          0.3333333333333333,
                          "#9c179e"
                        ],
                        [
                          0.4444444444444444,
                          "#bd3786"
                        ],
                        [
                          0.5555555555555556,
                          "#d8576b"
                        ],
                        [
                          0.6666666666666666,
                          "#ed7953"
                        ],
                        [
                          0.7777777777777778,
                          "#fb9f3a"
                        ],
                        [
                          0.8888888888888888,
                          "#fdca26"
                        ],
                        [
                          1,
                          "#f0f921"
                        ]
                      ],
                      "sequentialminus": [
                        [
                          0,
                          "#0d0887"
                        ],
                        [
                          0.1111111111111111,
                          "#46039f"
                        ],
                        [
                          0.2222222222222222,
                          "#7201a8"
                        ],
                        [
                          0.3333333333333333,
                          "#9c179e"
                        ],
                        [
                          0.4444444444444444,
                          "#bd3786"
                        ],
                        [
                          0.5555555555555556,
                          "#d8576b"
                        ],
                        [
                          0.6666666666666666,
                          "#ed7953"
                        ],
                        [
                          0.7777777777777778,
                          "#fb9f3a"
                        ],
                        [
                          0.8888888888888888,
                          "#fdca26"
                        ],
                        [
                          1,
                          "#f0f921"
                        ]
                      ]
                    },
                    "colorway": [
                      "#636efa",
                      "#EF553B",
                      "#00cc96",
                      "#ab63fa",
                      "#FFA15A",
                      "#19d3f3",
                      "#FF6692",
                      "#B6E880",
                      "#FF97FF",
                      "#FECB52"
                    ],
                    "font": {
                      "color": "#2a3f5f"
                    },
                    "geo": {
                      "bgcolor": "white",
                      "lakecolor": "white",
                      "landcolor": "#E5ECF6",
                      "showlakes": true,
                      "showland": true,
                      "subunitcolor": "white"
                    },
                    "hoverlabel": {
                      "align": "left"
                    },
                    "hovermode": "closest",
                    "mapbox": {
                      "style": "light"
                    },
                    "paper_bgcolor": "white",
                    "plot_bgcolor": "#E5ECF6",
                    "polar": {
                      "angularaxis": {
                        "gridcolor": "white",
                        "linecolor": "white",
                        "ticks": ""
                      },
                      "bgcolor": "#E5ECF6",
                      "radialaxis": {
                        "gridcolor": "white",
                        "linecolor": "white",
                        "ticks": ""
                      }
                    },
                    "scene": {
                      "xaxis": {
                        "backgroundcolor": "#E5ECF6",
                        "gridcolor": "white",
                        "gridwidth": 2,
                        "linecolor": "white",
                        "showbackground": true,
                        "ticks": "",
                        "zerolinecolor": "white"
                      },
                      "yaxis": {
                        "backgroundcolor": "#E5ECF6",
                        "gridcolor": "white",
                        "gridwidth": 2,
                        "linecolor": "white",
                        "showbackground": true,
                        "ticks": "",
                        "zerolinecolor": "white"
                      },
                      "zaxis": {
                        "backgroundcolor": "#E5ECF6",
                        "gridcolor": "white",
                        "gridwidth": 2,
                        "linecolor": "white",
                        "showbackground": true,
                        "ticks": "",
                        "zerolinecolor": "white"
                      }
                    },
                    "shapedefaults": {
                      "line": {
                        "color": "#2a3f5f"
                      }
                    },
                    "ternary": {
                      "aaxis": {
                        "gridcolor": "white",
                        "linecolor": "white",
                        "ticks": ""
                      },
                      "baxis": {
                        "gridcolor": "white",
                        "linecolor": "white",
                        "ticks": ""
                      },
                      "bgcolor": "#E5ECF6",
                      "caxis": {
                        "gridcolor": "white",
                        "linecolor": "white",
                        "ticks": ""
                      }
                    },
                    "title": {
                      "x": 0.05
                    },
                    "xaxis": {
                      "automargin": true,
                      "gridcolor": "white",
                      "linecolor": "white",
                      "ticks": "",
                      "title": {
                        "standoff": 15
                      },
                      "zerolinecolor": "white",
                      "zerolinewidth": 2
                    },
                    "yaxis": {
                      "automargin": true,
                      "gridcolor": "white",
                      "linecolor": "white",
                      "ticks": "",
                      "title": {
                        "standoff": 15
                      },
                      "zerolinecolor": "white",
                      "zerolinewidth": 2
                    }
                  }
                },
                "xaxis": {
                  "anchor": "y",
                  "domain": [
                    0,
                    1
                  ]
                },
                "yaxis": {
                  "anchor": "x",
                  "autorange": "reversed",
                  "domain": [
                    0,
                    1
                  ],
                  "title": {
                    "text": "rid"
                  }
                }
              }
            },
            "text/html": [
              "<div>                            <div id=\"e3d5e92e-74a8-4977-9b83-8876ffa039d7\" class=\"plotly-graph-div\" style=\"height:525px; width:100%;\"></div>            <script type=\"text/javascript\">                require([\"plotly\"], function(Plotly) {                    window.PLOTLYENV=window.PLOTLYENV || {};                                    if (document.getElementById(\"e3d5e92e-74a8-4977-9b83-8876ffa039d7\")) {                    Plotly.newPlot(                        \"e3d5e92e-74a8-4977-9b83-8876ffa039d7\",                        [{\"coloraxis\":\"coloraxis\",\"name\":\"0\",\"x\":[\"Stage III_12\",\"Stage III_13\",\"Stage III_15\",\"Stage III_16\",\"Stage III_18\",\"Stage III_22\",\"Stage III_23\",\"Stage III_28\",\"Stage III_29\",\"Stage III_3\",\"Stage III_30\",\"Stage III_32\",\"Stage III_4\",\"Stage III_5\",\"Stage III_7\",\"Stage II_1\",\"Stage II_11\",\"Stage II_17\",\"Stage II_21\",\"Stage II_24\",\"Stage II_25\",\"Stage II_26\",\"Stage II_27\",\"Stage II_31\",\"Stage II_33\",\"Stage II_37\",\"Stage II_6\",\"Stage II_8\",\"Stage II_9\",\"Stage IV_19\",\"Stage IV_20\",\"Stage IV_34\",\"Stage IV_36\",\"Stage I_10\",\"Stage I_14\",\"Stage I_2\",\"Stage I_35\"],\"y\":[\"HBG2\",\"DEFA6\",\"DES\",\"UGT2B17\",\"CPS1\",\"KRT9\",\"DEFA5\",\"PYY\",\"MYH11\",\"OLFM4\",\"SYNM\",\"OGN\",\"FABP4\",\"TAGLN\",\"CNN1\",\"CLCA1\",\"TPM2\",\"TPM1\",\"CRP\",\"REG3A\"],\"z\":[[-1.350000023841858,-3.4000000953674316,2.390000104904175,-0.7009999752044678,-2.4000000953674316,-3.0199999809265137,-1.559999942779541,-4.380000114440918,0.984000027179718,-3.059999942779541,-4.360000133514404,-5.019999980926514,-2.1600000858306885,-4.239999771118164,-1.940000057220459,-1.559999942779541,-1.25,-3.1500000953674316,-2.450000047683716,-0.4880000054836273,-3.4600000381469727,-2.180000066757202,-2.9200000762939453,-3.930000066757202,-3.4800000190734863,-3.5,-2.569999933242798,-5.409999847412109,-3.369999885559082,-3.680000066757202,-2.0899999141693115,-3.440000057220459,-3.059999942779541,-4.869999885559082,-0.8759999871253967,-2.8499999046325684,-1.4600000381469727],[-3.9800000190734863,-0.3479999899864197,-0.8339999914169312,-2.6500000953674316,-3.4600000381469727,-3.109999895095825,-0.23000000417232513,-3.490000009536743,-0.18199999630451202,-3.619999885559082,-4.329999923706055,1.8200000524520874,-0.20800000429153442,-0.4830000102519989,-4.449999809265137,-0.7639999985694885,-2.2200000286102295,-4.420000076293945,-0.5070000290870667,-1.149999976158142,-4.760000228881836,-0.5709999799728394,-0.03759999945759773,-1.690000057220459,-3.630000114440918,-4.139999866485596,-1.2000000476837158,-1.7899999618530273,-3.180000066757202,-0.5680000185966492,1.7599999904632568,-2.450000047683716,-1.3300000429153442,-4.650000095367432,-1.8600000143051147,-2.200000047683716,-3.5999999046325684],[-0.9419999718666077,-2.109999895095825,-0.2409999966621399,-0.8550000190734863,-2.7699999809265137,0.36800000071525574,1.0199999809265137,-3.0799999237060547,-1.7999999523162842,-4.5,-3.180000066757202,-2.059999942779541,-0.2709999978542328,-4.0,-2.4600000381469727,-3.569999933242798,-3.549999952316284,-2.2699999809265137,-0.13500000536441803,0.14100000262260437,-0.9020000100135803,-2.4700000286102295,-1.5099999904632568,-3.2200000286102295,1.2200000286102295,-3.009999990463257,-1.590000033378601,-2.8399999141693115,-4.800000190734863,-1.9299999475479126,-0.5820000171661377,-0.8370000123977661,-3.5299999713897705,-2.440000057220459,-2.390000104904175,-2.0,0.6579999923706055],[-3.259999990463257,-3.809999942779541,-1.9500000476837158,-2.2300000190734863,-2.440000057220459,-2.5899999141693115,-2.890000104904175,-3.140000104904175,-1.7699999809265137,-1.149999976158142,-4.460000038146973,-2.240000009536743,-0.5759999752044678,-1.6299999952316284,-1.8600000143051147,0.15700000524520874,-3.049999952316284,-2.7899999618530273,-2.9100000858306885,-1.4199999570846558,-2.6700000762939453,-3.5399999618530273,-3.609999895095825,1.2899999618530273,-3.4200000762939453,-1.1799999475479126,-2.059999942779541,-2.4800000190734863,-2.8499999046325684,-3.940000057220459,-2.25,-0.8209999799728394,-2.549999952316284,-3.75,-1.399999976158142,-2.630000114440918,-0.824999988079071],[-1.7599999904632568,2.859999895095825,-2.9200000762939453,-2.559999942779541,-0.9819999933242798,-2.799999952316284,-0.016899999231100082,1.8300000429153442,-0.5109999775886536,0.2070000022649765,-0.29600000381469727,-3.180000066757202,-3.0199999809265137,-3.75,-3.1600000858306885,-0.8500000238418579,-1.659999966621399,-2.5299999713897705,-1.8799999952316284,-2.759999990463257,-3.0899999141693115,-1.4900000095367432,-0.0649000033736229,-1.4199999570846558,-1.2400000095367432,-2.890000104904175,-2.369999885559082,-1.809999942779541,-1.8799999952316284,-0.23999999463558197,-1.5,-2.75,-1.149999976158142,-3.359999895095825,-2.9100000858306885,-3.559999942779541,-2.3499999046325684],[-3.1600000858306885,-3.259999990463257,-3.0799999237060547,-1.7300000190734863,-1.2000000476837158,-2.880000114440918,-1.4500000476837158,-3.5299999713897705,-0.13199999928474426,-1.0099999904632568,-3.569999933242798,-2.319999933242798,-1.4800000190734863,-0.9240000247955322,-1.5199999809265137,-1.9299999475479126,-0.08089999854564667,-2.180000066757202,-3.0799999237060547,-3.0,-1.559999942779541,-2.619999885559082,-2.4200000762939453,-1.840000033378601,-2.930000066757202,-3.3399999141693115,-4.340000152587891,-1.8300000429153442,0.23000000417232513,-1.6799999475479126,-1.6399999856948853,-2.390000104904175,-1.840000033378601,-2.4200000762939453,-2.5799999237060547,-2.25,-2.4600000381469727],[-3.009999990463257,-1.9700000286102295,-0.6240000128746033,-3.6600000858306885,-1.9500000476837158,-3.6500000953674316,-1.159999966621399,-3.190000057220459,-1.1200000047683716,-2.819999933242798,-3.859999895095825,3.869999885559082,-0.7170000076293945,-0.4580000042915344,-2.680000066757202,-1.4199999570846558,-1.850000023841858,-2.640000104904175,-1.6200000047683716,-0.777999997138977,-3.240000009536743,-0.578000009059906,-0.8019999861717224,-2.9600000381469727,-2.9000000953674316,-4.199999809265137,-1.0800000429153442,-3.569999933242798,-2.009999990463257,-1.7799999713897705,0.1120000034570694,null,0.22699999809265137,-2.549999952316284,-0.8970000147819519,-4.179999828338623,-2.0299999713897705],[-2.8299999237060547,-1.3300000429153442,0.42899999022483826,-2.109999895095825,-1.75,0.03629999980330467,-0.36800000071525574,-2.109999895095825,-2.8499999046325684,-2.4000000953674316,-3.7899999618530273,-3.2300000190734863,-0.2590000033378601,-2.950000047683716,-3.319999933242798,-1.340000033378601,-2.7300000190734863,-2.4100000858306885,-2.069999933242798,-1.2300000190734863,-2.2799999713897705,-2.109999895095825,-1.2000000476837158,-2.200000047683716,-2.700000047683716,0.578000009059906,-0.6610000133514404,-2.799999952316284,-4.28000020980835,-1.440000057220459,-1.7400000095367432,-0.5920000076293945,-0.9919999837875366,-3.450000047683716,-1.9199999570846558,-1.2799999713897705,-0.16099999845027924],[-0.9049999713897705,-2.640000104904175,-0.531000018119812,-1.25,-2.2200000286102295,0.0044999998062849045,0.47600001096725464,-2.509999990463257,-1.4500000476837158,-3.5799999237060547,-2.8499999046325684,-1.8799999952316284,-0.6740000247955322,-4.010000228881836,-2.319999933242798,-2.9100000858306885,-2.940000057220459,-1.9700000286102295,-0.800000011920929,-0.3540000021457672,-0.640999972820282,-2.299999952316284,-1.8200000524520874,-2.5399999618530273,0.5889999866485596,-2.869999885559082,-1.6100000143051147,-2.109999895095825,-3.4000000953674316,-2.180000066757202,-0.3790000081062317,-0.18799999356269836,-2.619999885559082,-2.4000000953674316,-1.850000023841858,-2.690000057220459,0.19499999284744263],[-2.869999885559082,1.399999976158142,-2.2699999809265137,-1.3899999856948853,-1.5700000524520874,-2.5799999237060547,-1.5399999618530273,1.899999976158142,-2.440000057220459,-1.6399999856948853,-3.4800000190734863,3.200000047683716,-1.850000023841858,-0.46000000834465027,-1.3799999952316284,-0.9520000219345093,-1.190000057220459,-2.569999933242798,1.2599999904632568,0.019500000402331352,-3.640000104904175,-1.559999942779541,0.34700000286102295,-0.6309999823570251,-2.700000047683716,-0.21899999678134918,-2.390000104904175,-1.6299999952316284,-1.2799999713897705,-0.22300000488758087,-1.149999976158142,-0.8320000171661377,-0.4860000014305115,-2.609999895095825,-2.740000009536743,-2.4000000953674316,-2.9100000858306885],[-0.9860000014305115,-1.8799999952316284,-0.3149999976158142,-0.8679999709129333,-2.2899999618530273,0.4230000078678131,0.8059999942779541,-2.2699999809265137,-1.5299999713897705,-3.6500000953674316,-2.740000009536743,-1.7999999523162842,-0.34200000762939453,-2.9000000953674316,-2.109999895095825,-2.930000066757202,-3.3299999237060547,-2.140000104904175,-0.3619999885559082,-0.13099999725818634,-0.8560000061988831,-1.7799999713897705,-1.4800000190734863,-2.5799999237060547,0.7919999957084656,-2.930000066757202,-1.4299999475479126,-2.3499999046325684,-3.630000114440918,-1.7300000190734863,-0.5360000133514404,-0.7120000123977661,-2.7699999809265137,-2.380000114440918,-2.0799999237060547,-2.450000047683716,0.26100000739097595],[-0.7599999904632568,-3.309999942779541,0.01720000058412552,-1.350000023841858,-1.9199999570846558,-1.0,-0.021400000900030136,-0.9470000267028809,-0.5550000071525574,-3.509999990463257,-1.5,-0.5569999814033508,-1.4299999475479126,-3.5,-3.450000047683716,-2.9800000190734863,-3.240000009536743,-1.7599999904632568,-1.100000023841858,-1.3600000143051147,-0.6840000152587891,-1.899999976158142,-2.4200000762939453,-2.640000104904175,-0.6729999780654907,-2.759999990463257,-1.3899999856948853,-2.759999990463257,-2.690000057220459,-1.9500000476837158,-0.75,-0.7570000290870667,-2.5399999618530273,-2.3399999141693115,-1.409999966621399,-3.380000114440918,-0.13899999856948853],[0.6129999756813049,-1.6699999570846558,-2.180000066757202,1.4199999570846558,-1.8600000143051147,-1.899999976158142,0.4230000078678131,1.9199999570846558,1.649999976158142,-3.109999895095825,-2.190000057220459,-0.925000011920929,-1.1299999952316284,-2.75,-2.3299999237060547,-2.640000104904175,-2.549999952316284,0.09459999948740005,-0.5839999914169312,-2.190000057220459,-0.8029999732971191,-0.20200000703334808,-0.6179999709129333,-2.180000066757202,-0.8849999904632568,-2.2899999618530273,-2.75,-2.5199999809265137,-0.8339999914169312,2.990000009536743,-1.7999999523162842,-1.5700000524520874,-2.9200000762939453,-2.7699999809265137,-1.7699999809265137,-2.190000057220459,0.8489999771118164],[-0.43299999833106995,-2.5799999237060547,-0.25,-0.5270000100135803,-1.9500000476837158,0.36399999260902405,0.7179999947547913,-1.309999942779541,-1.4199999570846558,-3.549999952316284,-2.7200000286102295,-1.3899999856948853,-0.47099998593330383,-3.7699999809265137,-2.740000009536743,-2.8299999237060547,-3.009999990463257,-1.7999999523162842,-0.36399999260902405,-0.01640000008046627,-0.871999979019165,-1.7799999713897705,-1.5800000429153442,-2.8299999237060547,0.9549999833106995,-3.1500000953674316,-1.2899999618530273,-2.3499999046325684,-2.3499999046325684,-1.8899999856948853,-0.2549999952316284,-0.824999988079071,-2.4100000858306885,-2.5299999713897705,-1.559999942779541,-2.8399999141693115,0.328000009059906],[-0.9409999847412109,-2.3299999237060547,-0.4320000112056732,-0.7879999876022339,-1.940000057220459,-0.016200000420212746,0.6269999742507935,-2.0399999618530273,-1.5,-3.490000009536743,-2.9100000858306885,-0.8069999814033508,-0.6460000276565552,-3.9100000858306885,-2.4200000762939453,-2.680000066757202,-3.130000114440918,-1.6699999570846558,-0.656000018119812,-0.10899999737739563,-1.0399999618530273,-2.0799999237060547,-1.5199999809265137,-2.700000047683716,0.35899999737739563,-2.9200000762939453,-1.2300000190734863,-2.319999933242798,-3.0399999618530273,-1.8899999856948853,-0.3409999907016754,-0.6890000104904175,-2.6700000762939453,-2.1600000858306885,-1.7200000286102295,-2.9100000858306885,-0.30799999833106995],[-3.3399999141693115,-2.450000047683716,0.27399998903274536,-2.4000000953674316,-0.11999999731779099,0.09030000120401382,-1.5299999713897705,-2.7699999809265137,-2.0399999618530273,-2.3399999141693115,-2.7200000286102295,-1.8600000143051147,-0.8009999990463257,-1.8300000429153442,-3.119999885559082,-1.8300000429153442,-0.7179999947547913,-3.109999895095825,-1.8600000143051147,-2.2699999809265137,-1.8700000047683716,-2.630000114440918,-2.259999990463257,0.5699999928474426,-2.6700000762939453,-1.090000033378601,-1.7799999713897705,-0.4490000009536743,-0.3310000002384186,-2.5,-1.6100000143051147,-0.6620000004768372,-1.6299999952316284,-3.4000000953674316,-1.350000023841858,-2.700000047683716,-1.8600000143051147],[-0.5389999747276306,-2.190000057220459,0.06909999996423721,-0.5450000166893005,-1.909999966621399,0.4830000102519989,0.2590000033378601,-1.6399999856948853,-1.3799999952316284,-3.5799999237060547,-2.5799999237060547,-1.3600000143051147,-0.5580000281333923,-2.759999990463257,-2.430000066757202,-2.7100000381469727,-3.5799999237060547,-1.840000033378601,-0.527999997138977,0.006099999882280827,-1.0800000429153442,-1.9199999570846558,-1.9500000476837158,-2.619999885559082,0.7820000052452087,-2.890000104904175,-1.1100000143051147,-2.2100000381469727,-3.759999990463257,-1.899999976158142,-0.3019999861717224,-0.04230000078678131,-2.390000104904175,-2.4700000286102295,-1.4199999570846558,-2.740000009536743,0.08529999852180481],[-0.6660000085830688,-2.4000000953674316,-0.37700000405311584,-0.8669999837875366,-1.850000023841858,0.17499999701976776,0.08470000326633453,-1.6699999570846558,-1.1299999952316284,-3.119999885559082,-2.3299999237060547,-1.3300000429153442,-0.6990000009536743,-3.130000114440918,-2.309999942779541,-2.680000066757202,-3.5199999809265137,-1.940000057220459,-0.6510000228881836,-0.1860000044107437,-0.9829999804496765,-2.0999999046325684,-2.240000009536743,-2.5799999237060547,0.6890000104904175,-2.950000047683716,-1.6100000143051147,-2.0399999618530273,-3.5999999046325684,-1.8200000524520874,-0.39899998903274536,-0.26499998569488525,-2.2699999809265137,-2.4100000858306885,-1.6699999570846558,-2.8499999046325684,0.034699998795986176],[-2.1700000762939453,-1.0299999713897705,-3.609999895095825,-2.1700000762939453,-0.3089999854564667,-1.6699999570846558,-0.8289999961853027,0.09719999879598618,-1.399999976158142,0.1509999930858612,-2.109999895095825,0.40299999713897705,-1.1799999475479126,-1.149999976158142,-2.3399999141693115,-0.5320000052452087,-2.700000047683716,1.5800000429153442,-1.9500000476837158,-3.799999952316284,-1.0299999713897705,1.4800000190734863,1.3300000429153442,-1.2999999523162842,-2.380000114440918,-2.4100000858306885,-3.0199999809265137,-1.409999966621399,-1.75,1.440000057220459,1.7200000286102295,-0.8240000009536743,2.430000066757202,-1.7300000190734863,-1.9199999570846558,-0.7170000076293945,-2.450000047683716],[-2.799999952316284,-1.190000057220459,-2.930000066757202,-1.0499999523162842,-2.390000104904175,-2.5,-0.7279999852180481,-2.859999895095825,-0.8460000157356262,-0.8809999823570251,-3.1700000762939453,0.40700000524520874,-0.9789999723434448,-1.3700000047683716,-1.2999999523162842,-1.3899999856948853,-1.600000023841858,-1.809999942779541,-1.190000057220459,-2.3499999046325684,-2.3399999141693115,-1.9600000381469727,-0.335999995470047,-1.9700000286102295,-2.619999885559082,-2.8499999046325684,-2.5299999713897705,-2.6500000953674316,-2.549999952316284,-1.0499999523162842,-1.909999966621399,-1.4800000190734863,-1.590000033378601,-2.680000066757202,-0.925000011920929,-2.880000114440918,-2.700000047683716]],\"type\":\"heatmap\",\"xaxis\":\"x\",\"yaxis\":\"y\",\"hovertemplate\":\"x: %{x}<br>rid: %{y}<br>color: %{z}<extra></extra>\"}],                        {\"template\":{\"data\":{\"histogram2dcontour\":[{\"type\":\"histogram2dcontour\",\"colorbar\":{\"outlinewidth\":0,\"ticks\":\"\"},\"colorscale\":[[0.0,\"#0d0887\"],[0.1111111111111111,\"#46039f\"],[0.2222222222222222,\"#7201a8\"],[0.3333333333333333,\"#9c179e\"],[0.4444444444444444,\"#bd3786\"],[0.5555555555555556,\"#d8576b\"],[0.6666666666666666,\"#ed7953\"],[0.7777777777777778,\"#fb9f3a\"],[0.8888888888888888,\"#fdca26\"],[1.0,\"#f0f921\"]]}],\"choropleth\":[{\"type\":\"choropleth\",\"colorbar\":{\"outlinewidth\":0,\"ticks\":\"\"}}],\"histogram2d\":[{\"type\":\"histogram2d\",\"colorbar\":{\"outlinewidth\":0,\"ticks\":\"\"},\"colorscale\":[[0.0,\"#0d0887\"],[0.1111111111111111,\"#46039f\"],[0.2222222222222222,\"#7201a8\"],[0.3333333333333333,\"#9c179e\"],[0.4444444444444444,\"#bd3786\"],[0.5555555555555556,\"#d8576b\"],[0.6666666666666666,\"#ed7953\"],[0.7777777777777778,\"#fb9f3a\"],[0.8888888888888888,\"#fdca26\"],[1.0,\"#f0f921\"]]}],\"heatmap\":[{\"type\":\"heatmap\",\"colorbar\":{\"outlinewidth\":0,\"ticks\":\"\"},\"colorscale\":[[0.0,\"#0d0887\"],[0.1111111111111111,\"#46039f\"],[0.2222222222222222,\"#7201a8\"],[0.3333333333333333,\"#9c179e\"],[0.4444444444444444,\"#bd3786\"],[0.5555555555555556,\"#d8576b\"],[0.6666666666666666,\"#ed7953\"],[0.7777777777777778,\"#fb9f3a\"],[0.8888888888888888,\"#fdca26\"],[1.0,\"#f0f921\"]]}],\"heatmapgl\":[{\"type\":\"heatmapgl\",\"colorbar\":{\"outlinewidth\":0,\"ticks\":\"\"},\"colorscale\":[[0.0,\"#0d0887\"],[0.1111111111111111,\"#46039f\"],[0.2222222222222222,\"#7201a8\"],[0.3333333333333333,\"#9c179e\"],[0.4444444444444444,\"#bd3786\"],[0.5555555555555556,\"#d8576b\"],[0.6666666666666666,\"#ed7953\"],[0.7777777777777778,\"#fb9f3a\"],[0.8888888888888888,\"#fdca26\"],[1.0,\"#f0f921\"]]}],\"contourcarpet\":[{\"type\":\"contourcarpet\",\"colorbar\":{\"outlinewidth\":0,\"ticks\":\"\"}}],\"contour\":[{\"type\":\"contour\",\"colorbar\":{\"outlinewidth\":0,\"ticks\":\"\"},\"colorscale\":[[0.0,\"#0d0887\"],[0.1111111111111111,\"#46039f\"],[0.2222222222222222,\"#7201a8\"],[0.3333333333333333,\"#9c179e\"],[0.4444444444444444,\"#bd3786\"],[0.5555555555555556,\"#d8576b\"],[0.6666666666666666,\"#ed7953\"],[0.7777777777777778,\"#fb9f3a\"],[0.8888888888888888,\"#fdca26\"],[1.0,\"#f0f921\"]]}],\"surface\":[{\"type\":\"surface\",\"colorbar\":{\"outlinewidth\":0,\"ticks\":\"\"},\"colorscale\":[[0.0,\"#0d0887\"],[0.1111111111111111,\"#46039f\"],[0.2222222222222222,\"#7201a8\"],[0.3333333333333333,\"#9c179e\"],[0.4444444444444444,\"#bd3786\"],[0.5555555555555556,\"#d8576b\"],[0.6666666666666666,\"#ed7953\"],[0.7777777777777778,\"#fb9f3a\"],[0.8888888888888888,\"#fdca26\"],[1.0,\"#f0f921\"]]}],\"mesh3d\":[{\"type\":\"mesh3d\",\"colorbar\":{\"outlinewidth\":0,\"ticks\":\"\"}}],\"scatter\":[{\"fillpattern\":{\"fillmode\":\"overlay\",\"size\":10,\"solidity\":0.2},\"type\":\"scatter\"}],\"parcoords\":[{\"type\":\"parcoords\",\"line\":{\"colorbar\":{\"outlinewidth\":0,\"ticks\":\"\"}}}],\"scatterpolargl\":[{\"type\":\"scatterpolargl\",\"marker\":{\"colorbar\":{\"outlinewidth\":0,\"ticks\":\"\"}}}],\"bar\":[{\"error_x\":{\"color\":\"#2a3f5f\"},\"error_y\":{\"color\":\"#2a3f5f\"},\"marker\":{\"line\":{\"color\":\"#E5ECF6\",\"width\":0.5},\"pattern\":{\"fillmode\":\"overlay\",\"size\":10,\"solidity\":0.2}},\"type\":\"bar\"}],\"scattergeo\":[{\"type\":\"scattergeo\",\"marker\":{\"colorbar\":{\"outlinewidth\":0,\"ticks\":\"\"}}}],\"scatterpolar\":[{\"type\":\"scatterpolar\",\"marker\":{\"colorbar\":{\"outlinewidth\":0,\"ticks\":\"\"}}}],\"histogram\":[{\"marker\":{\"pattern\":{\"fillmode\":\"overlay\",\"size\":10,\"solidity\":0.2}},\"type\":\"histogram\"}],\"scattergl\":[{\"type\":\"scattergl\",\"marker\":{\"colorbar\":{\"outlinewidth\":0,\"ticks\":\"\"}}}],\"scatter3d\":[{\"type\":\"scatter3d\",\"line\":{\"colorbar\":{\"outlinewidth\":0,\"ticks\":\"\"}},\"marker\":{\"colorbar\":{\"outlinewidth\":0,\"ticks\":\"\"}}}],\"scattermapbox\":[{\"type\":\"scattermapbox\",\"marker\":{\"colorbar\":{\"outlinewidth\":0,\"ticks\":\"\"}}}],\"scatterternary\":[{\"type\":\"scatterternary\",\"marker\":{\"colorbar\":{\"outlinewidth\":0,\"ticks\":\"\"}}}],\"scattercarpet\":[{\"type\":\"scattercarpet\",\"marker\":{\"colorbar\":{\"outlinewidth\":0,\"ticks\":\"\"}}}],\"carpet\":[{\"aaxis\":{\"endlinecolor\":\"#2a3f5f\",\"gridcolor\":\"white\",\"linecolor\":\"white\",\"minorgridcolor\":\"white\",\"startlinecolor\":\"#2a3f5f\"},\"baxis\":{\"endlinecolor\":\"#2a3f5f\",\"gridcolor\":\"white\",\"linecolor\":\"white\",\"minorgridcolor\":\"white\",\"startlinecolor\":\"#2a3f5f\"},\"type\":\"carpet\"}],\"table\":[{\"cells\":{\"fill\":{\"color\":\"#EBF0F8\"},\"line\":{\"color\":\"white\"}},\"header\":{\"fill\":{\"color\":\"#C8D4E3\"},\"line\":{\"color\":\"white\"}},\"type\":\"table\"}],\"barpolar\":[{\"marker\":{\"line\":{\"color\":\"#E5ECF6\",\"width\":0.5},\"pattern\":{\"fillmode\":\"overlay\",\"size\":10,\"solidity\":0.2}},\"type\":\"barpolar\"}],\"pie\":[{\"automargin\":true,\"type\":\"pie\"}]},\"layout\":{\"autotypenumbers\":\"strict\",\"colorway\":[\"#636efa\",\"#EF553B\",\"#00cc96\",\"#ab63fa\",\"#FFA15A\",\"#19d3f3\",\"#FF6692\",\"#B6E880\",\"#FF97FF\",\"#FECB52\"],\"font\":{\"color\":\"#2a3f5f\"},\"hovermode\":\"closest\",\"hoverlabel\":{\"align\":\"left\"},\"paper_bgcolor\":\"white\",\"plot_bgcolor\":\"#E5ECF6\",\"polar\":{\"bgcolor\":\"#E5ECF6\",\"angularaxis\":{\"gridcolor\":\"white\",\"linecolor\":\"white\",\"ticks\":\"\"},\"radialaxis\":{\"gridcolor\":\"white\",\"linecolor\":\"white\",\"ticks\":\"\"}},\"ternary\":{\"bgcolor\":\"#E5ECF6\",\"aaxis\":{\"gridcolor\":\"white\",\"linecolor\":\"white\",\"ticks\":\"\"},\"baxis\":{\"gridcolor\":\"white\",\"linecolor\":\"white\",\"ticks\":\"\"},\"caxis\":{\"gridcolor\":\"white\",\"linecolor\":\"white\",\"ticks\":\"\"}},\"coloraxis\":{\"colorbar\":{\"outlinewidth\":0,\"ticks\":\"\"}},\"colorscale\":{\"sequential\":[[0.0,\"#0d0887\"],[0.1111111111111111,\"#46039f\"],[0.2222222222222222,\"#7201a8\"],[0.3333333333333333,\"#9c179e\"],[0.4444444444444444,\"#bd3786\"],[0.5555555555555556,\"#d8576b\"],[0.6666666666666666,\"#ed7953\"],[0.7777777777777778,\"#fb9f3a\"],[0.8888888888888888,\"#fdca26\"],[1.0,\"#f0f921\"]],\"sequentialminus\":[[0.0,\"#0d0887\"],[0.1111111111111111,\"#46039f\"],[0.2222222222222222,\"#7201a8\"],[0.3333333333333333,\"#9c179e\"],[0.4444444444444444,\"#bd3786\"],[0.5555555555555556,\"#d8576b\"],[0.6666666666666666,\"#ed7953\"],[0.7777777777777778,\"#fb9f3a\"],[0.8888888888888888,\"#fdca26\"],[1.0,\"#f0f921\"]],\"diverging\":[[0,\"#8e0152\"],[0.1,\"#c51b7d\"],[0.2,\"#de77ae\"],[0.3,\"#f1b6da\"],[0.4,\"#fde0ef\"],[0.5,\"#f7f7f7\"],[0.6,\"#e6f5d0\"],[0.7,\"#b8e186\"],[0.8,\"#7fbc41\"],[0.9,\"#4d9221\"],[1,\"#276419\"]]},\"xaxis\":{\"gridcolor\":\"white\",\"linecolor\":\"white\",\"ticks\":\"\",\"title\":{\"standoff\":15},\"zerolinecolor\":\"white\",\"automargin\":true,\"zerolinewidth\":2},\"yaxis\":{\"gridcolor\":\"white\",\"linecolor\":\"white\",\"ticks\":\"\",\"title\":{\"standoff\":15},\"zerolinecolor\":\"white\",\"automargin\":true,\"zerolinewidth\":2},\"scene\":{\"xaxis\":{\"backgroundcolor\":\"#E5ECF6\",\"gridcolor\":\"white\",\"linecolor\":\"white\",\"showbackground\":true,\"ticks\":\"\",\"zerolinecolor\":\"white\",\"gridwidth\":2},\"yaxis\":{\"backgroundcolor\":\"#E5ECF6\",\"gridcolor\":\"white\",\"linecolor\":\"white\",\"showbackground\":true,\"ticks\":\"\",\"zerolinecolor\":\"white\",\"gridwidth\":2},\"zaxis\":{\"backgroundcolor\":\"#E5ECF6\",\"gridcolor\":\"white\",\"linecolor\":\"white\",\"showbackground\":true,\"ticks\":\"\",\"zerolinecolor\":\"white\",\"gridwidth\":2}},\"shapedefaults\":{\"line\":{\"color\":\"#2a3f5f\"}},\"annotationdefaults\":{\"arrowcolor\":\"#2a3f5f\",\"arrowhead\":0,\"arrowwidth\":1},\"geo\":{\"bgcolor\":\"white\",\"landcolor\":\"#E5ECF6\",\"subunitcolor\":\"white\",\"showland\":true,\"showlakes\":true,\"lakecolor\":\"white\"},\"title\":{\"x\":0.05},\"mapbox\":{\"style\":\"light\"}}},\"xaxis\":{\"anchor\":\"y\",\"domain\":[0.0,1.0]},\"yaxis\":{\"anchor\":\"x\",\"domain\":[0.0,1.0],\"autorange\":\"reversed\",\"title\":{\"text\":\"rid\"}},\"coloraxis\":{\"colorscale\":[[0.0,\"#0d0887\"],[0.1111111111111111,\"#46039f\"],[0.2222222222222222,\"#7201a8\"],[0.3333333333333333,\"#9c179e\"],[0.4444444444444444,\"#bd3786\"],[0.5555555555555556,\"#d8576b\"],[0.6666666666666666,\"#ed7953\"],[0.7777777777777778,\"#fb9f3a\"],[0.8888888888888888,\"#fdca26\"],[1.0,\"#f0f921\"]]},\"margin\":{\"t\":60}},                        {\"responsive\": true}                    ).then(function(){\n",
              "                            \n",
              "var gd = document.getElementById('e3d5e92e-74a8-4977-9b83-8876ffa039d7');\n",
              "var x = new MutationObserver(function (mutations, observer) {{\n",
              "        var display = window.getComputedStyle(gd).display;\n",
              "        if (!display || display === 'none') {{\n",
              "            console.log([gd, 'removed!']);\n",
              "            Plotly.purge(gd);\n",
              "            observer.disconnect();\n",
              "        }}\n",
              "}});\n",
              "\n",
              "// Listen for the removal of the full notebook cells\n",
              "var notebookContainer = gd.closest('#notebook-container');\n",
              "if (notebookContainer) {{\n",
              "    x.observe(notebookContainer, {childList: true});\n",
              "}}\n",
              "\n",
              "// Listen for the clearing of the current output cell\n",
              "var outputEl = gd.closest('.output');\n",
              "if (outputEl) {{\n",
              "    x.observe(outputEl, {childList: true});\n",
              "}}\n",
              "\n",
              "                        })                };                });            </script>        </div>"
            ]
          },
          "metadata": {},
          "output_type": "display_data"
        }
      ],
      "source": [
        "# Plotting Heatmap for Datasets' samples\n",
        "df_real.columns = col_metadata[bor].to_list() # cahnging names of columns as per user selection\n",
        "\n",
        "transpose_data = df_real.copy()\n",
        "transpose_data[\"null_val\"] = transpose_data.notnull().sum(axis=1)\n",
        "transpose_data = transpose_data[transpose_data[\"null_val\"] >= int(len(transpose_data.columns)*(75/100))]\n",
        "\n",
        "transpose_data['var'] = transpose_data.var(axis=1)\n",
        "transpose_data = transpose_data.sort_values(by =['var'], ascending = False)\n",
        "transpose_data = transpose_data.drop(['var'], axis = 1)\n",
        "heatmap_data = transpose_data.iloc[0:20,0:len(col_metadata)]\n",
        "transpose_data.columns = [f'{x}_{i}' for i, x in enumerate(transpose_data.columns, 1)] # tracking column names by adding suffix\n",
        "transpose_data = transpose_data[sorted(transpose_data.columns)] # sorting column names\n",
        "heatmap_data_plot = transpose_data.iloc[0:20,0:len(col_metadata)]\n",
        "fig = px.imshow(heatmap_data_plot, aspect=\"auto\") # plotting graph\n",
        "fig.show()"
      ]
    },
    {
      "cell_type": "markdown",
      "metadata": {
        "kernel": "Pollyglot"
      },
      "source": [
        "# Box Plot \n",
        "Expression of selected gene in the selected Column names"
      ]
    },
    {
      "cell_type": "code",
      "execution_count": 30,
      "metadata": {
        "kernel": "Pollyglot"
      },
      "outputs": [
        {
          "data": {
            "application/vnd.jupyter.widget-view+json": {
              "model_id": "87fa7e208f134c51b9c618f1b8b3f55b",
              "version_major": 2,
              "version_minor": 0
            },
            "text/plain": [
              "Dropdown(description='Select Gene:', options=('A1BG', 'A1CF', 'A2M', 'AAAS', 'AACS', 'AAGAB', 'AAK1', 'AAMDC',…"
            ]
          },
          "metadata": {},
          "output_type": "display_data"
        },
        {
          "name": "stdout",
          "output_type": "stream",
          "text": [
            "AAGAB\n",
            "ACTB\n",
            "HBG2\n"
          ]
        }
      ],
      "source": [
        "lst = df_real.index\n",
        "bor = lst[0]\n",
        "label_plot = widgets.Dropdown(options=lst,value=lst[0],description='Select Gene:',disabled=False,)\n",
        "def dropdown_handler(change):\n",
        "    global bor\n",
        "    print(change.new)\n",
        "    bor = change.new\n",
        "label_plot.observe(dropdown_handler, names='value')\n",
        "display(label_plot)"
      ]
    },
    {
      "cell_type": "code",
      "execution_count": 33,
      "metadata": {
        "kernel": "Pollyglot"
      },
      "outputs": [
        {
          "data": {
            "image/png": "[encoded data removed]",
            "text/plain": [
              "<Figure size 1440x576 with 1 Axes>"
            ]
          },
          "metadata": {
            "needs_background": "light"
          },
          "output_type": "display_data"
        }
      ],
      "source": [
        "f = plt.figure(figsize=[20,8])\n",
        "df = pd.DataFrame(df_real.loc[bor,:]).reset_index()\n",
        "ax = sns.boxplot(x='index', y=bor, data=df)\n",
        "ax = sns.swarmplot(x='index', y=bor, data=df, color=\".15\")\n",
        "plt.setp(ax.get_xticklabels(), rotation=45)\n",
        "f.tight_layout()"
      ]
    },
    {
      "cell_type": "markdown",
      "metadata": {
        "kernel": "Pollyglot"
      },
      "source": [
        "# Bar plot\n",
        "Showing variations of gene expressions (row variables) among selected column labels.\n",
        "Mean value was calculated for each combination in dataframe."
      ]
    },
    {
      "cell_type": "code",
      "execution_count": 34,
      "metadata": {
        "kernel": "Pollyglot"
      },
      "outputs": [
        {
          "data": {
            "text/html": [
              "<div>\n",
              "<style scoped>\n",
              "    .dataframe tbody tr th:only-of-type {\n",
              "        vertical-align: middle;\n",
              "    }\n",
              "\n",
              "    .dataframe tbody tr th {\n",
              "        vertical-align: top;\n",
              "    }\n",
              "\n",
              "    .dataframe thead th {\n",
              "        text-align: right;\n",
              "    }\n",
              "</style>\n",
              "<table border=\"1\" class=\"dataframe\">\n",
              "  <thead>\n",
              "    <tr style=\"text-align: right;\">\n",
              "      <th></th>\n",
              "      <th>Stage II</th>\n",
              "      <th>Stage I</th>\n",
              "      <th>Stage III</th>\n",
              "      <th>Stage IV</th>\n",
              "    </tr>\n",
              "    <tr>\n",
              "      <th>rid</th>\n",
              "      <th></th>\n",
              "      <th></th>\n",
              "      <th></th>\n",
              "      <th></th>\n",
              "    </tr>\n",
              "  </thead>\n",
              "  <tbody>\n",
              "    <tr>\n",
              "      <th>HBG2</th>\n",
              "      <td>-2.837000</td>\n",
              "      <td>-2.514000</td>\n",
              "      <td>-2.281133</td>\n",
              "      <td>-3.067500</td>\n",
              "    </tr>\n",
              "    <tr>\n",
              "      <th>DEFA6</th>\n",
              "      <td>-2.147114</td>\n",
              "      <td>-3.077500</td>\n",
              "      <td>-1.970333</td>\n",
              "      <td>-0.647000</td>\n",
              "    </tr>\n",
              "    <tr>\n",
              "      <th>DES</th>\n",
              "      <td>-2.036143</td>\n",
              "      <td>-1.543000</td>\n",
              "      <td>-1.792067</td>\n",
              "      <td>-1.719750</td>\n",
              "    </tr>\n",
              "    <tr>\n",
              "      <th>UGT2B17</th>\n",
              "      <td>-2.180928</td>\n",
              "      <td>-2.151250</td>\n",
              "      <td>-2.399733</td>\n",
              "      <td>-2.390250</td>\n",
              "    </tr>\n",
              "    <tr>\n",
              "      <th>CPS1</th>\n",
              "      <td>-1.852493</td>\n",
              "      <td>-3.045000</td>\n",
              "      <td>-1.337260</td>\n",
              "      <td>-1.410000</td>\n",
              "    </tr>\n",
              "    <tr>\n",
              "      <th>KRT9</th>\n",
              "      <td>-2.208636</td>\n",
              "      <td>-2.427500</td>\n",
              "      <td>-2.083067</td>\n",
              "      <td>-1.887500</td>\n",
              "    </tr>\n",
              "    <tr>\n",
              "      <th>DEFA5</th>\n",
              "      <td>-2.117714</td>\n",
              "      <td>-2.414250</td>\n",
              "      <td>-1.799933</td>\n",
              "      <td>-0.480333</td>\n",
              "    </tr>\n",
              "    <tr>\n",
              "      <th>PYY</th>\n",
              "      <td>-1.959500</td>\n",
              "      <td>-1.702750</td>\n",
              "      <td>-1.922113</td>\n",
              "      <td>-1.191000</td>\n",
              "    </tr>\n",
              "    <tr>\n",
              "      <th>MYH11</th>\n",
              "      <td>-1.834000</td>\n",
              "      <td>-1.686250</td>\n",
              "      <td>-1.755967</td>\n",
              "      <td>-1.341750</td>\n",
              "    </tr>\n",
              "    <tr>\n",
              "      <th>OLFM4</th>\n",
              "      <td>-1.223964</td>\n",
              "      <td>-2.665000</td>\n",
              "      <td>-1.131333</td>\n",
              "      <td>-0.672750</td>\n",
              "    </tr>\n",
              "    <tr>\n",
              "      <th>SYNM</th>\n",
              "      <td>-1.795500</td>\n",
              "      <td>-1.662250</td>\n",
              "      <td>-1.496800</td>\n",
              "      <td>-1.437000</td>\n",
              "    </tr>\n",
              "    <tr>\n",
              "      <th>OGN</th>\n",
              "      <td>-2.025500</td>\n",
              "      <td>-1.817250</td>\n",
              "      <td>-1.586213</td>\n",
              "      <td>-1.499250</td>\n",
              "    </tr>\n",
              "    <tr>\n",
              "      <th>FABP4</th>\n",
              "      <td>-1.496529</td>\n",
              "      <td>-1.470250</td>\n",
              "      <td>-0.934600</td>\n",
              "      <td>-0.825000</td>\n",
              "    </tr>\n",
              "    <tr>\n",
              "      <th>TAGLN</th>\n",
              "      <td>-1.661957</td>\n",
              "      <td>-1.650500</td>\n",
              "      <td>-1.468600</td>\n",
              "      <td>-1.345000</td>\n",
              "    </tr>\n",
              "    <tr>\n",
              "      <th>CNN1</th>\n",
              "      <td>-1.766857</td>\n",
              "      <td>-1.774500</td>\n",
              "      <td>-1.569547</td>\n",
              "      <td>-1.397500</td>\n",
              "    </tr>\n",
              "    <tr>\n",
              "      <th>CLCA1</th>\n",
              "      <td>-1.592714</td>\n",
              "      <td>-2.327500</td>\n",
              "      <td>-1.797113</td>\n",
              "      <td>-1.600500</td>\n",
              "    </tr>\n",
              "    <tr>\n",
              "      <th>TPM2</th>\n",
              "      <td>-1.814993</td>\n",
              "      <td>-1.636175</td>\n",
              "      <td>-1.377393</td>\n",
              "      <td>-1.158575</td>\n",
              "    </tr>\n",
              "    <tr>\n",
              "      <th>TPM1</th>\n",
              "      <td>-1.885071</td>\n",
              "      <td>-1.723825</td>\n",
              "      <td>-1.441287</td>\n",
              "      <td>-1.188500</td>\n",
              "    </tr>\n",
              "    <tr>\n",
              "      <th>CRP</th>\n",
              "      <td>-1.278000</td>\n",
              "      <td>-1.704250</td>\n",
              "      <td>-1.287787</td>\n",
              "      <td>1.191500</td>\n",
              "    </tr>\n",
              "    <tr>\n",
              "      <th>REG3A</th>\n",
              "      <td>-2.010429</td>\n",
              "      <td>-2.296250</td>\n",
              "      <td>-1.639133</td>\n",
              "      <td>-1.507500</td>\n",
              "    </tr>\n",
              "  </tbody>\n",
              "</table>\n",
              "</div>"
            ],
            "text/plain": [
              "         Stage II   Stage I  Stage III  Stage IV\n",
              "rid                                             \n",
              "HBG2    -2.837000 -2.514000  -2.281133 -3.067500\n",
              "DEFA6   -2.147114 -3.077500  -1.970333 -0.647000\n",
              "DES     -2.036143 -1.543000  -1.792067 -1.719750\n",
              "UGT2B17 -2.180928 -2.151250  -2.399733 -2.390250\n",
              "CPS1    -1.852493 -3.045000  -1.337260 -1.410000\n",
              "KRT9    -2.208636 -2.427500  -2.083067 -1.887500\n",
              "DEFA5   -2.117714 -2.414250  -1.799933 -0.480333\n",
              "PYY     -1.959500 -1.702750  -1.922113 -1.191000\n",
              "MYH11   -1.834000 -1.686250  -1.755967 -1.341750\n",
              "OLFM4   -1.223964 -2.665000  -1.131333 -0.672750\n",
              "SYNM    -1.795500 -1.662250  -1.496800 -1.437000\n",
              "OGN     -2.025500 -1.817250  -1.586213 -1.499250\n",
              "FABP4   -1.496529 -1.470250  -0.934600 -0.825000\n",
              "TAGLN   -1.661957 -1.650500  -1.468600 -1.345000\n",
              "CNN1    -1.766857 -1.774500  -1.569547 -1.397500\n",
              "CLCA1   -1.592714 -2.327500  -1.797113 -1.600500\n",
              "TPM2    -1.814993 -1.636175  -1.377393 -1.158575\n",
              "TPM1    -1.885071 -1.723825  -1.441287 -1.188500\n",
              "CRP     -1.278000 -1.704250  -1.287787  1.191500\n",
              "REG3A   -2.010429 -2.296250  -1.639133 -1.507500"
            ]
          },
          "execution_count": 34,
          "metadata": {},
          "output_type": "execute_result"
        },
        {
          "data": {
            "image/png": "[encoded data removed]",
            "text/plain": [
              "<Figure size 1800x720 with 1 Axes>"
            ]
          },
          "metadata": {
            "needs_background": "light"
          },
          "output_type": "display_data"
        }
      ],
      "source": [
        "# Taking mean of values for each combination of dataframe\n",
        "df = heatmap_data[0:20].mean(axis=1, level=0)\n",
        "df.T.plot.bar(rot=45,figsize=(25, 10))\n",
        "df"
      ]
    }
  ],
  "metadata": {
    "kernelspec": {
      "display_name": "Pollyglot",
      "language": "sos",
      "name": "sos"
    },
    "language_info": {
      "codemirror_mode": "sos",
      "file_extension": ".sos",
      "mimetype": "text/x-sos",
      "name": "sos",
      "nbconvert_exporter": "sos_notebook.converter.SoS_Exporter",
      "pygments_lexer": "sos"
    },
    "sos": {
      "kernels": [
        [
          "Bash",
          "bash",
          "Bash",
          "#E6EEFF",
          ""
        ],
        [
          "Pollyglot",
          "sos",
          "",
          "",
          "sos"
        ]
      ],
      "panel": {
        "displayed": true,
        "height": 0
      },
      "version": "1.0.0"
    }
  },
  "nbformat": 4,
  "nbformat_minor": 2
}