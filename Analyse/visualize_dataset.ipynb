{
 "cells": [
  {
   "cell_type": "markdown",
   "metadata": {
    "kernel": "SoS"
   },
   "source": [
    "## Install polly-python"
   ]
  },
  {
   "cell_type": "code",
   "execution_count": 7,
   "metadata": {
    "kernel": "Python3"
   },
   "outputs": [
    {
     "name": "stdout",
     "output_type": "stream",
     "text": [
      "\u001b[33mWARNING: The directory '/home/polly/.cache/pip/http' or its parent directory is not owned by the current user and the cache has been disabled. Please check the permissions and owner of that directory. If executing pip with sudo, you may want sudo's -H flag.\u001b[0m\n",
      "\u001b[33mWARNING: The directory '/home/polly/.cache/pip' or its parent directory is not owned by the current user and caching wheels has been disabled. check the permissions and owner of that directory. If executing pip with sudo, you may want sudo's -H flag.\u001b[0m\n",
      "Looking in indexes: https://pypi.org/simple, http://54.245.179.143:80/\n",
      "Collecting polly-python\n",
      "  Downloading https://files.pythonhosted.org/packages/9a/4b/fc1433a5f8f214d2a6ef54d593c0302db7b85b9c5fbc3f316418c5fb8669/polly_python-0.0.6-py3-none-any.whl\n",
      "Collecting python-dateutil==2.8.1 (from polly-python)\n",
      "\u001b[?25l  Downloading https://files.pythonhosted.org/packages/d4/70/d60450c3dd48ef87586924207ae8907090de0b306af2bce5d134d78615cb/python_dateutil-2.8.1-py2.py3-none-any.whl (227kB)\n",
      "\u001b[K     |████████████████████████████████| 235kB 5.9MB/s eta 0:00:01\n",
      "\u001b[?25hCollecting six==1.16.0 (from polly-python)\n",
      "  Downloading https://files.pythonhosted.org/packages/d9/5a/e7c31adbe875f2abbb91bd84cf2dc52d792b5a01506781dbcf25c91daf11/six-1.16.0-py2.py3-none-any.whl\n",
      "Collecting pytz==2021.1 (from polly-python)\n",
      "\u001b[?25l  Downloading https://files.pythonhosted.org/packages/70/94/784178ca5dd892a98f113cdd923372024dc04b8d40abe77ca76b5fb90ca6/pytz-2021.1-py2.py3-none-any.whl (510kB)\n",
      "\u001b[K     |████████████████████████████████| 512kB 94.3MB/s eta 0:00:01\n",
      "\u001b[?25hCollecting certifi==2021.5.30 (from polly-python)\n",
      "\u001b[?25l  Downloading https://files.pythonhosted.org/packages/05/1b/0a0dece0e8aa492a6ec9e4ad2fe366b511558cdc73fd3abc82ba7348e875/certifi-2021.5.30-py2.py3-none-any.whl (145kB)\n",
      "\u001b[K     |████████████████████████████████| 153kB 92.2MB/s eta 0:00:01\n",
      "\u001b[?25hCollecting idna==2.10 (from polly-python)\n",
      "\u001b[?25l  Downloading https://files.pythonhosted.org/packages/a2/38/928ddce2273eaa564f6f50de919327bf3a00f091b5baba8dfa9460f3a8a8/idna-2.10-py2.py3-none-any.whl (58kB)\n",
      "\u001b[K     |████████████████████████████████| 61kB 63.1MB/s eta 0:00:01\n",
      "\u001b[?25hCollecting urllib3==1.26.6 (from polly-python)\n",
      "\u001b[?25l  Downloading https://files.pythonhosted.org/packages/5f/64/43575537846896abac0b15c3e5ac678d787a4021e906703f1766bfb8ea11/urllib3-1.26.6-py2.py3-none-any.whl (138kB)\n",
      "\u001b[K     |████████████████████████████████| 143kB 88.9MB/s eta 0:00:01\n",
      "\u001b[?25hCollecting requests==2.25.1 (from polly-python)\n",
      "\u001b[?25l  Downloading https://files.pythonhosted.org/packages/29/c1/24814557f1d22c56d50280771a17307e6bf87b70727d975fd6b2ce6b014a/requests-2.25.1-py2.py3-none-any.whl (61kB)\n",
      "\u001b[K     |████████████████████████████████| 61kB 63.2MB/s eta 0:00:01\n",
      "\u001b[?25hCollecting chardet==4.0.0 (from polly-python)\n",
      "\u001b[?25l  Downloading https://files.pythonhosted.org/packages/19/c7/fa589626997dd07bd87d9269342ccb74b1720384a4d739a1872bd84fbe68/chardet-4.0.0-py2.py3-none-any.whl (178kB)\n",
      "\u001b[K     |████████████████████████████████| 184kB 96.6MB/s eta 0:00:01\n",
      "\u001b[?25hCollecting postpy2==0.0.6 (from polly-python)\n",
      "  Downloading https://files.pythonhosted.org/packages/7e/25/d98f5ea87d937bf44963be78b504dbb3ddea1c6ddfcc0985b02d062b41dd/postpy2-0.0.6-py3-none-any.whl\n",
      "Collecting python-magic==0.4.24 (from polly-python)\n",
      "  Downloading https://files.pythonhosted.org/packages/d3/99/c89223c6547df268596899334ee77b3051f606077317023617b1c43162fb/python_magic-0.4.24-py2.py3-none-any.whl\n",
      "Requirement already satisfied: pandas in /usr/local/lib/python3.6/dist-packages (from polly-python) (1.1.4)\n",
      "Requirement already satisfied: numpy>=1.15.4 in /usr/local/lib/python3.6/dist-packages (from pandas->polly-python) (1.19.4)\n",
      "Installing collected packages: six, python-dateutil, pytz, certifi, idna, urllib3, chardet, requests, python-magic, postpy2, polly-python\n",
      "  Found existing installation: six 1.14.0\n",
      "    Uninstalling six-1.14.0:\n",
      "      Successfully uninstalled six-1.14.0\n",
      "  Found existing installation: python-dateutil 2.8.0\n",
      "    Uninstalling python-dateutil-2.8.0:\n",
      "      Successfully uninstalled python-dateutil-2.8.0\n",
      "  Found existing installation: pytz 2019.3\n",
      "    Uninstalling pytz-2019.3:\n",
      "      Successfully uninstalled pytz-2019.3\n",
      "  Found existing installation: certifi 2019.11.28\n",
      "    Uninstalling certifi-2019.11.28:\n",
      "      Successfully uninstalled certifi-2019.11.28\n",
      "  Found existing installation: idna 2.8\n",
      "    Uninstalling idna-2.8:\n",
      "      Successfully uninstalled idna-2.8\n",
      "  Found existing installation: urllib3 1.26.2\n",
      "    Uninstalling urllib3-1.26.2:\n",
      "      Successfully uninstalled urllib3-1.26.2\n",
      "  Found existing installation: chardet 3.0.4\n",
      "    Uninstalling chardet-3.0.4:\n",
      "      Successfully uninstalled chardet-3.0.4\n",
      "  Found existing installation: requests 2.25.0\n",
      "    Uninstalling requests-2.25.0:\n",
      "      Successfully uninstalled requests-2.25.0\n",
      "Successfully installed certifi-2021.5.30 chardet-4.0.0 idna-2.10 polly-python-0.0.6 postpy2-0.0.6 python-dateutil-2.8.1 python-magic-0.4.24 pytz-2021.1 requests-2.25.1 six-1.16.0 urllib3-1.26.6\n",
      "\u001b[33mWARNING: You are using pip version 19.2.3, however version 21.3.1 is available.\n",
      "You should consider upgrading via the 'pip install --upgrade pip' command.\u001b[0m\n"
     ]
    }
   ],
   "source": [
    "!sudo pip3 install polly-python "
   ]
  },
  {
   "cell_type": "markdown",
   "metadata": {
    "kernel": "Python3"
   },
   "source": [
    "## Import libraries"
   ]
  },
  {
   "cell_type": "code",
   "execution_count": 25,
   "metadata": {
    "kernel": "Python3"
   },
   "outputs": [],
   "source": [
    "from polly.omixatlas import OmixAtlas\n",
    "from cmapPy.pandasGEXpress.parse import parse\n",
    "import os\n",
    "import pandas as pd\n",
    "import matplotlib.pyplot as plt\n",
    "from multiprocessing import Pool"
   ]
  },
  {
   "cell_type": "markdown",
   "metadata": {
    "kernel": "Python3"
   },
   "source": [
    "## Authentication with Polly"
   ]
  },
  {
   "cell_type": "code",
   "execution_count": 9,
   "metadata": {
    "kernel": "Python3"
   },
   "outputs": [],
   "source": [
    "omix_atlas = OmixAtlas(os.environ['POLLY_REFRESH_TOKEN'])"
   ]
  },
  {
   "cell_type": "markdown",
   "metadata": {
    "kernel": "Python3"
   },
   "source": [
    "## Define helper functions"
   ]
  },
  {
   "cell_type": "code",
   "execution_count": 14,
   "metadata": {
    "kernel": "Python3"
   },
   "outputs": [],
   "source": [
    "def download_dataset(repo_id, dataset_id):\n",
    "    \"\"\"\n",
    "    Downloads a single dataset with given repo_id and dataset_id\n",
    "    \"\"\"\n",
    "    file_name = f\"{dataset_id}.gct\"\n",
    "    data = omix_atlas.download_data(repo_id, dataset_id)\n",
    "    url = data.get('data').get('attributes').get('download_url')\n",
    "    status = os.system(f\"wget -O '{file_name}' '{url}'\")\n",
    "    if status == 0:\n",
    "        print(\"Downloaded data successfully\")\n",
    "    else:\n",
    "        raise Exception(\"Download not successful\")"
   ]
  },
  {
   "cell_type": "markdown",
   "metadata": {
    "kernel": "Python3"
   },
   "source": [
    "## Download dataset"
   ]
  },
  {
   "cell_type": "code",
   "execution_count": 78,
   "metadata": {
    "kernel": "Python3"
   },
   "outputs": [],
   "source": [
    "repo_id = 9\n",
    "dataset_id = 'GSE45019_GPL1261'"
   ]
  },
  {
   "cell_type": "code",
   "execution_count": 79,
   "metadata": {
    "kernel": "Python3"
   },
   "outputs": [
    {
     "name": "stdout",
     "output_type": "stream",
     "text": [
      "Downloaded data successfully\n"
     ]
    }
   ],
   "source": [
    "download_dataset(repo_id, dataset_id)"
   ]
  },
  {
   "cell_type": "markdown",
   "metadata": {
    "kernel": "Python3"
   },
   "source": [
    "## Read dataset"
   ]
  },
  {
   "cell_type": "code",
   "execution_count": 80,
   "metadata": {
    "kernel": "R"
   },
   "outputs": [],
   "source": [
    "library(mapGCT)"
   ]
  },
  {
   "cell_type": "code",
   "execution_count": 81,
   "metadata": {
    "kernel": "R"
   },
   "outputs": [
    {
     "data": {
      "text/html": [
       "'GSE45019_GPL1261'"
      ],
      "text/latex": [
       "'GSE45019\\_GPL1261'"
      ],
      "text/markdown": [
       "'GSE45019_GPL1261'"
      ],
      "text/plain": [
       "[1] \"GSE45019_GPL1261\""
      ]
     },
     "metadata": {},
     "output_type": "display_data"
    }
   ],
   "source": [
    "%get dataset_id --from python3\n",
    "dataset_id"
   ]
  },
  {
   "cell_type": "code",
   "execution_count": 82,
   "metadata": {
    "kernel": "R"
   },
   "outputs": [
    {
     "name": "stderr",
     "output_type": "stream",
     "text": [
      "parsing as GCT v1.3\n",
      "\n",
      "GSE45019_GPL1261.gct 20135 rows, 9 cols, 0 row descriptors, 54 col descriptors\n",
      "\n"
     ]
    }
   ],
   "source": [
    "gctObj <- parse_gct(paste0(dataset_id, '.gct'))\n",
    "mat <- gctObj@mat\n",
    "coldata <- gctObj@cdesc\n",
    "rowdata <- gctObj@rdesc"
   ]
  },
  {
   "cell_type": "code",
   "execution_count": 83,
   "metadata": {
    "kernel": "R"
   },
   "outputs": [
    {
     "data": {
      "text/html": [
       "<style>\n",
       ".list-inline {list-style: none; margin:0; padding: 0}\n",
       ".list-inline>li {display: inline-block}\n",
       ".list-inline>li:not(:last-child)::after {content: \"\\00b7\"; padding: 0 .5ex}\n",
       "</style>\n",
       "<ol class=list-inline><li>20135</li><li>9</li></ol>\n"
      ],
      "text/latex": [
       "\\begin{enumerate*}\n",
       "\\item 20135\n",
       "\\item 9\n",
       "\\end{enumerate*}\n"
      ],
      "text/markdown": [
       "1. 20135\n",
       "2. 9\n",
       "\n",
       "\n"
      ],
      "text/plain": [
       "[1] 20135     9"
      ]
     },
     "metadata": {},
     "output_type": "display_data"
    },
    {
     "data": {
      "text/html": [
       "<table class=\"dataframe\">\n",
       "<caption>A matrix: 6 × 9 of type dbl</caption>\n",
       "<thead>\n",
       "\t<tr><th></th><th scope=col>GSM1095896</th><th scope=col>GSM1095897</th><th scope=col>GSM1095898</th><th scope=col>GSM1095899</th><th scope=col>GSM1095900</th><th scope=col>GSM1095901</th><th scope=col>GSM1095902</th><th scope=col>GSM1095903</th><th scope=col>GSM1095904</th></tr>\n",
       "</thead>\n",
       "<tbody>\n",
       "\t<tr><th scope=row>Hspa1b</th><td>9.4638</td><td>9.6363</td><td>9.7774</td><td> 3.9080</td><td>5.1467</td><td> 4.4441</td><td>6.2193</td><td>5.4801</td><td>6.3518</td></tr>\n",
       "\t<tr><th scope=row>Bex1</th><td>2.0282</td><td>2.5706</td><td>2.4281</td><td> 6.6133</td><td>4.8664</td><td> 6.0899</td><td>4.5032</td><td>6.8816</td><td>5.7744</td></tr>\n",
       "\t<tr><th scope=row>Cela1</th><td>7.1627</td><td>7.1200</td><td>6.9913</td><td>10.9361</td><td>9.3549</td><td>10.4849</td><td>8.9026</td><td>9.2382</td><td>8.6324</td></tr>\n",
       "\t<tr><th scope=row>Klhl13</th><td>2.3377</td><td>2.6721</td><td>2.1105</td><td> 5.0000</td><td>4.1374</td><td> 4.4061</td><td>2.5317</td><td>3.8520</td><td>4.0626</td></tr>\n",
       "\t<tr><th scope=row>Spta1</th><td>4.5883</td><td>4.9807</td><td>4.6830</td><td> 5.1991</td><td>7.1593</td><td> 6.3308</td><td>7.1167</td><td>7.5556</td><td>7.4062</td></tr>\n",
       "\t<tr><th scope=row>Dsp</th><td>7.6830</td><td>7.5194</td><td>7.8618</td><td> 6.5988</td><td>5.1623</td><td> 6.1517</td><td>3.8372</td><td>5.0596</td><td>5.0207</td></tr>\n",
       "</tbody>\n",
       "</table>\n"
      ],
      "text/latex": [
       "A matrix: 6 × 9 of type dbl\n",
       "\\begin{tabular}{r|lllllllll}\n",
       "  & GSM1095896 & GSM1095897 & GSM1095898 & GSM1095899 & GSM1095900 & GSM1095901 & GSM1095902 & GSM1095903 & GSM1095904\\\\\n",
       "\\hline\n",
       "\tHspa1b & 9.4638 & 9.6363 & 9.7774 &  3.9080 & 5.1467 &  4.4441 & 6.2193 & 5.4801 & 6.3518\\\\\n",
       "\tBex1 & 2.0282 & 2.5706 & 2.4281 &  6.6133 & 4.8664 &  6.0899 & 4.5032 & 6.8816 & 5.7744\\\\\n",
       "\tCela1 & 7.1627 & 7.1200 & 6.9913 & 10.9361 & 9.3549 & 10.4849 & 8.9026 & 9.2382 & 8.6324\\\\\n",
       "\tKlhl13 & 2.3377 & 2.6721 & 2.1105 &  5.0000 & 4.1374 &  4.4061 & 2.5317 & 3.8520 & 4.0626\\\\\n",
       "\tSpta1 & 4.5883 & 4.9807 & 4.6830 &  5.1991 & 7.1593 &  6.3308 & 7.1167 & 7.5556 & 7.4062\\\\\n",
       "\tDsp & 7.6830 & 7.5194 & 7.8618 &  6.5988 & 5.1623 &  6.1517 & 3.8372 & 5.0596 & 5.0207\\\\\n",
       "\\end{tabular}\n"
      ],
      "text/markdown": [
       "\n",
       "A matrix: 6 × 9 of type dbl\n",
       "\n",
       "| <!--/--> | GSM1095896 | GSM1095897 | GSM1095898 | GSM1095899 | GSM1095900 | GSM1095901 | GSM1095902 | GSM1095903 | GSM1095904 |\n",
       "|---|---|---|---|---|---|---|---|---|---|\n",
       "| Hspa1b | 9.4638 | 9.6363 | 9.7774 |  3.9080 | 5.1467 |  4.4441 | 6.2193 | 5.4801 | 6.3518 |\n",
       "| Bex1 | 2.0282 | 2.5706 | 2.4281 |  6.6133 | 4.8664 |  6.0899 | 4.5032 | 6.8816 | 5.7744 |\n",
       "| Cela1 | 7.1627 | 7.1200 | 6.9913 | 10.9361 | 9.3549 | 10.4849 | 8.9026 | 9.2382 | 8.6324 |\n",
       "| Klhl13 | 2.3377 | 2.6721 | 2.1105 |  5.0000 | 4.1374 |  4.4061 | 2.5317 | 3.8520 | 4.0626 |\n",
       "| Spta1 | 4.5883 | 4.9807 | 4.6830 |  5.1991 | 7.1593 |  6.3308 | 7.1167 | 7.5556 | 7.4062 |\n",
       "| Dsp | 7.6830 | 7.5194 | 7.8618 |  6.5988 | 5.1623 |  6.1517 | 3.8372 | 5.0596 | 5.0207 |\n",
       "\n"
      ],
      "text/plain": [
       "       GSM1095896 GSM1095897 GSM1095898 GSM1095899 GSM1095900 GSM1095901\n",
       "Hspa1b 9.4638     9.6363     9.7774      3.9080    5.1467      4.4441   \n",
       "Bex1   2.0282     2.5706     2.4281      6.6133    4.8664      6.0899   \n",
       "Cela1  7.1627     7.1200     6.9913     10.9361    9.3549     10.4849   \n",
       "Klhl13 2.3377     2.6721     2.1105      5.0000    4.1374      4.4061   \n",
       "Spta1  4.5883     4.9807     4.6830      5.1991    7.1593      6.3308   \n",
       "Dsp    7.6830     7.5194     7.8618      6.5988    5.1623      6.1517   \n",
       "       GSM1095902 GSM1095903 GSM1095904\n",
       "Hspa1b 6.2193     5.4801     6.3518    \n",
       "Bex1   4.5032     6.8816     5.7744    \n",
       "Cela1  8.9026     9.2382     8.6324    \n",
       "Klhl13 2.5317     3.8520     4.0626    \n",
       "Spta1  7.1167     7.5556     7.4062    \n",
       "Dsp    3.8372     5.0596     5.0207    "
      ]
     },
     "metadata": {},
     "output_type": "display_data"
    }
   ],
   "source": [
    "dim(mat)\n",
    "head(mat)"
   ]
  },
  {
   "cell_type": "code",
   "execution_count": 84,
   "metadata": {
    "kernel": "R"
   },
   "outputs": [
    {
     "data": {
      "text/html": [
       "<style>\n",
       ".list-inline {list-style: none; margin:0; padding: 0}\n",
       ".list-inline>li {display: inline-block}\n",
       ".list-inline>li:not(:last-child)::after {content: \"\\00b7\"; padding: 0 .5ex}\n",
       "</style>\n",
       "<ol class=list-inline><li>9</li><li>55</li></ol>\n"
      ],
      "text/latex": [
       "\\begin{enumerate*}\n",
       "\\item 9\n",
       "\\item 55\n",
       "\\end{enumerate*}\n"
      ],
      "text/markdown": [
       "1. 9\n",
       "2. 55\n",
       "\n",
       "\n"
      ],
      "text/plain": [
       "[1]  9 55"
      ]
     },
     "metadata": {},
     "output_type": "display_data"
    },
    {
     "data": {
      "text/html": [
       "<table class=\"dataframe\">\n",
       "<caption>A data.frame: 6 × 55</caption>\n",
       "<thead>\n",
       "\t<tr><th></th><th scope=col>id</th><th scope=col>title</th><th scope=col>geo_accession</th><th scope=col>status</th><th scope=col>submission_date</th><th scope=col>last_update_date</th><th scope=col>type</th><th scope=col>channel_count</th><th scope=col>source_name_ch1</th><th scope=col>organism_ch1</th><th scope=col>⋯</th><th scope=col>kw_curated_tissue</th><th scope=col>kw_curated_genetic_mod_type</th><th scope=col>kw_curated_modified_gene</th><th scope=col>curated_min_age</th><th scope=col>curated_max_age</th><th scope=col>curated_age_unit</th><th scope=col>kw_curated_gender</th><th scope=col>curated_is_control</th><th scope=col>curated_cohort_id</th><th scope=col>curated_cohort_name</th></tr>\n",
       "\t<tr><th></th><th scope=col>&lt;chr&gt;</th><th scope=col>&lt;chr&gt;</th><th scope=col>&lt;chr&gt;</th><th scope=col>&lt;chr&gt;</th><th scope=col>&lt;chr&gt;</th><th scope=col>&lt;chr&gt;</th><th scope=col>&lt;chr&gt;</th><th scope=col>&lt;int&gt;</th><th scope=col>&lt;chr&gt;</th><th scope=col>&lt;chr&gt;</th><th scope=col>⋯</th><th scope=col>&lt;chr&gt;</th><th scope=col>&lt;chr&gt;</th><th scope=col>&lt;chr&gt;</th><th scope=col>&lt;int&gt;</th><th scope=col>&lt;int&gt;</th><th scope=col>&lt;chr&gt;</th><th scope=col>&lt;chr&gt;</th><th scope=col>&lt;int&gt;</th><th scope=col>&lt;int&gt;</th><th scope=col>&lt;chr&gt;</th></tr>\n",
       "</thead>\n",
       "<tbody>\n",
       "\t<tr><th scope=row>GSM1095896</th><td>GSM1095896</td><td>CTL replicate 1   </td><td>GSM1095896</td><td>Public on Nov 05 2013</td><td>Mar 11 2013</td><td>Feb 04 2016</td><td>RNA</td><td>1</td><td>sorted mouse bone marrow cells</td><td>Mus musculus</td><td>⋯</td><td>none</td><td>wildtype</td><td>none</td><td>-666</td><td>-666</td><td>none</td><td>none</td><td>0</td><td>0</td><td>CTL           </td></tr>\n",
       "\t<tr><th scope=row>GSM1095897</th><td>GSM1095897</td><td>CTL replicate 2   </td><td>GSM1095897</td><td>Public on Nov 05 2013</td><td>Mar 11 2013</td><td>Feb 04 2016</td><td>RNA</td><td>1</td><td>sorted mouse bone marrow cells</td><td>Mus musculus</td><td>⋯</td><td>none</td><td>wildtype</td><td>none</td><td>-666</td><td>-666</td><td>none</td><td>none</td><td>0</td><td>0</td><td>CTL           </td></tr>\n",
       "\t<tr><th scope=row>GSM1095898</th><td>GSM1095898</td><td>CTL replicate 3   </td><td>GSM1095898</td><td>Public on Nov 05 2013</td><td>Mar 11 2013</td><td>Feb 04 2016</td><td>RNA</td><td>1</td><td>sorted mouse bone marrow cells</td><td>Mus musculus</td><td>⋯</td><td>none</td><td>wildtype</td><td>none</td><td>-666</td><td>-666</td><td>none</td><td>none</td><td>0</td><td>0</td><td>CTL           </td></tr>\n",
       "\t<tr><th scope=row>GSM1095899</th><td>GSM1095899</td><td>IDH1wt replicate 1</td><td>GSM1095899</td><td>Public on Nov 05 2013</td><td>Mar 11 2013</td><td>Feb 04 2016</td><td>RNA</td><td>1</td><td>sorted mouse bone marrow cells</td><td>Mus musculus</td><td>⋯</td><td>none</td><td>wildtype</td><td>none</td><td>-666</td><td>-666</td><td>none</td><td>none</td><td>0</td><td>2</td><td>IDH1wt; IDH1wt</td></tr>\n",
       "\t<tr><th scope=row>GSM1095900</th><td>GSM1095900</td><td>IDH1wt replicate 2</td><td>GSM1095900</td><td>Public on Nov 05 2013</td><td>Mar 11 2013</td><td>Feb 04 2016</td><td>RNA</td><td>1</td><td>sorted mouse bone marrow cells</td><td>Mus musculus</td><td>⋯</td><td>none</td><td>wildtype</td><td>none</td><td>-666</td><td>-666</td><td>none</td><td>none</td><td>0</td><td>2</td><td>IDH1wt; IDH1wt</td></tr>\n",
       "\t<tr><th scope=row>GSM1095901</th><td>GSM1095901</td><td>IDH1wt replicate 3</td><td>GSM1095901</td><td>Public on Nov 05 2013</td><td>Mar 11 2013</td><td>Feb 04 2016</td><td>RNA</td><td>1</td><td>sorted mouse bone marrow cells</td><td>Mus musculus</td><td>⋯</td><td>none</td><td>wildtype</td><td>none</td><td>-666</td><td>-666</td><td>none</td><td>none</td><td>0</td><td>2</td><td>IDH1wt; IDH1wt</td></tr>\n",
       "</tbody>\n",
       "</table>\n"
      ],
      "text/latex": [
       "A data.frame: 6 × 55\n",
       "\\begin{tabular}{r|lllllllllllllllllllll}\n",
       "  & id & title & geo\\_accession & status & submission\\_date & last\\_update\\_date & type & channel\\_count & source\\_name\\_ch1 & organism\\_ch1 & ⋯ & kw\\_curated\\_tissue & kw\\_curated\\_genetic\\_mod\\_type & kw\\_curated\\_modified\\_gene & curated\\_min\\_age & curated\\_max\\_age & curated\\_age\\_unit & kw\\_curated\\_gender & curated\\_is\\_control & curated\\_cohort\\_id & curated\\_cohort\\_name\\\\\n",
       "  & <chr> & <chr> & <chr> & <chr> & <chr> & <chr> & <chr> & <int> & <chr> & <chr> & ⋯ & <chr> & <chr> & <chr> & <int> & <int> & <chr> & <chr> & <int> & <int> & <chr>\\\\\n",
       "\\hline\n",
       "\tGSM1095896 & GSM1095896 & CTL replicate 1    & GSM1095896 & Public on Nov 05 2013 & Mar 11 2013 & Feb 04 2016 & RNA & 1 & sorted mouse bone marrow cells & Mus musculus & ⋯ & none & wildtype & none & -666 & -666 & none & none & 0 & 0 & CTL           \\\\\n",
       "\tGSM1095897 & GSM1095897 & CTL replicate 2    & GSM1095897 & Public on Nov 05 2013 & Mar 11 2013 & Feb 04 2016 & RNA & 1 & sorted mouse bone marrow cells & Mus musculus & ⋯ & none & wildtype & none & -666 & -666 & none & none & 0 & 0 & CTL           \\\\\n",
       "\tGSM1095898 & GSM1095898 & CTL replicate 3    & GSM1095898 & Public on Nov 05 2013 & Mar 11 2013 & Feb 04 2016 & RNA & 1 & sorted mouse bone marrow cells & Mus musculus & ⋯ & none & wildtype & none & -666 & -666 & none & none & 0 & 0 & CTL           \\\\\n",
       "\tGSM1095899 & GSM1095899 & IDH1wt replicate 1 & GSM1095899 & Public on Nov 05 2013 & Mar 11 2013 & Feb 04 2016 & RNA & 1 & sorted mouse bone marrow cells & Mus musculus & ⋯ & none & wildtype & none & -666 & -666 & none & none & 0 & 2 & IDH1wt; IDH1wt\\\\\n",
       "\tGSM1095900 & GSM1095900 & IDH1wt replicate 2 & GSM1095900 & Public on Nov 05 2013 & Mar 11 2013 & Feb 04 2016 & RNA & 1 & sorted mouse bone marrow cells & Mus musculus & ⋯ & none & wildtype & none & -666 & -666 & none & none & 0 & 2 & IDH1wt; IDH1wt\\\\\n",
       "\tGSM1095901 & GSM1095901 & IDH1wt replicate 3 & GSM1095901 & Public on Nov 05 2013 & Mar 11 2013 & Feb 04 2016 & RNA & 1 & sorted mouse bone marrow cells & Mus musculus & ⋯ & none & wildtype & none & -666 & -666 & none & none & 0 & 2 & IDH1wt; IDH1wt\\\\\n",
       "\\end{tabular}\n"
      ],
      "text/markdown": [
       "\n",
       "A data.frame: 6 × 55\n",
       "\n",
       "| <!--/--> | id &lt;chr&gt; | title &lt;chr&gt; | geo_accession &lt;chr&gt; | status &lt;chr&gt; | submission_date &lt;chr&gt; | last_update_date &lt;chr&gt; | type &lt;chr&gt; | channel_count &lt;int&gt; | source_name_ch1 &lt;chr&gt; | organism_ch1 &lt;chr&gt; | ⋯ ⋯ | kw_curated_tissue &lt;chr&gt; | kw_curated_genetic_mod_type &lt;chr&gt; | kw_curated_modified_gene &lt;chr&gt; | curated_min_age &lt;int&gt; | curated_max_age &lt;int&gt; | curated_age_unit &lt;chr&gt; | kw_curated_gender &lt;chr&gt; | curated_is_control &lt;int&gt; | curated_cohort_id &lt;int&gt; | curated_cohort_name &lt;chr&gt; |\n",
       "|---|---|---|---|---|---|---|---|---|---|---|---|---|---|---|---|---|---|---|---|---|---|\n",
       "| GSM1095896 | GSM1095896 | CTL replicate 1    | GSM1095896 | Public on Nov 05 2013 | Mar 11 2013 | Feb 04 2016 | RNA | 1 | sorted mouse bone marrow cells | Mus musculus | ⋯ | none | wildtype | none | -666 | -666 | none | none | 0 | 0 | CTL            |\n",
       "| GSM1095897 | GSM1095897 | CTL replicate 2    | GSM1095897 | Public on Nov 05 2013 | Mar 11 2013 | Feb 04 2016 | RNA | 1 | sorted mouse bone marrow cells | Mus musculus | ⋯ | none | wildtype | none | -666 | -666 | none | none | 0 | 0 | CTL            |\n",
       "| GSM1095898 | GSM1095898 | CTL replicate 3    | GSM1095898 | Public on Nov 05 2013 | Mar 11 2013 | Feb 04 2016 | RNA | 1 | sorted mouse bone marrow cells | Mus musculus | ⋯ | none | wildtype | none | -666 | -666 | none | none | 0 | 0 | CTL            |\n",
       "| GSM1095899 | GSM1095899 | IDH1wt replicate 1 | GSM1095899 | Public on Nov 05 2013 | Mar 11 2013 | Feb 04 2016 | RNA | 1 | sorted mouse bone marrow cells | Mus musculus | ⋯ | none | wildtype | none | -666 | -666 | none | none | 0 | 2 | IDH1wt; IDH1wt |\n",
       "| GSM1095900 | GSM1095900 | IDH1wt replicate 2 | GSM1095900 | Public on Nov 05 2013 | Mar 11 2013 | Feb 04 2016 | RNA | 1 | sorted mouse bone marrow cells | Mus musculus | ⋯ | none | wildtype | none | -666 | -666 | none | none | 0 | 2 | IDH1wt; IDH1wt |\n",
       "| GSM1095901 | GSM1095901 | IDH1wt replicate 3 | GSM1095901 | Public on Nov 05 2013 | Mar 11 2013 | Feb 04 2016 | RNA | 1 | sorted mouse bone marrow cells | Mus musculus | ⋯ | none | wildtype | none | -666 | -666 | none | none | 0 | 2 | IDH1wt; IDH1wt |\n",
       "\n"
      ],
      "text/plain": [
       "           id         title              geo_accession status               \n",
       "GSM1095896 GSM1095896 CTL replicate 1    GSM1095896    Public on Nov 05 2013\n",
       "GSM1095897 GSM1095897 CTL replicate 2    GSM1095897    Public on Nov 05 2013\n",
       "GSM1095898 GSM1095898 CTL replicate 3    GSM1095898    Public on Nov 05 2013\n",
       "GSM1095899 GSM1095899 IDH1wt replicate 1 GSM1095899    Public on Nov 05 2013\n",
       "GSM1095900 GSM1095900 IDH1wt replicate 2 GSM1095900    Public on Nov 05 2013\n",
       "GSM1095901 GSM1095901 IDH1wt replicate 3 GSM1095901    Public on Nov 05 2013\n",
       "           submission_date last_update_date type channel_count\n",
       "GSM1095896 Mar 11 2013     Feb 04 2016      RNA  1            \n",
       "GSM1095897 Mar 11 2013     Feb 04 2016      RNA  1            \n",
       "GSM1095898 Mar 11 2013     Feb 04 2016      RNA  1            \n",
       "GSM1095899 Mar 11 2013     Feb 04 2016      RNA  1            \n",
       "GSM1095900 Mar 11 2013     Feb 04 2016      RNA  1            \n",
       "GSM1095901 Mar 11 2013     Feb 04 2016      RNA  1            \n",
       "           source_name_ch1                organism_ch1 ⋯ kw_curated_tissue\n",
       "GSM1095896 sorted mouse bone marrow cells Mus musculus ⋯ none             \n",
       "GSM1095897 sorted mouse bone marrow cells Mus musculus ⋯ none             \n",
       "GSM1095898 sorted mouse bone marrow cells Mus musculus ⋯ none             \n",
       "GSM1095899 sorted mouse bone marrow cells Mus musculus ⋯ none             \n",
       "GSM1095900 sorted mouse bone marrow cells Mus musculus ⋯ none             \n",
       "GSM1095901 sorted mouse bone marrow cells Mus musculus ⋯ none             \n",
       "           kw_curated_genetic_mod_type kw_curated_modified_gene curated_min_age\n",
       "GSM1095896 wildtype                    none                     -666           \n",
       "GSM1095897 wildtype                    none                     -666           \n",
       "GSM1095898 wildtype                    none                     -666           \n",
       "GSM1095899 wildtype                    none                     -666           \n",
       "GSM1095900 wildtype                    none                     -666           \n",
       "GSM1095901 wildtype                    none                     -666           \n",
       "           curated_max_age curated_age_unit kw_curated_gender\n",
       "GSM1095896 -666            none             none             \n",
       "GSM1095897 -666            none             none             \n",
       "GSM1095898 -666            none             none             \n",
       "GSM1095899 -666            none             none             \n",
       "GSM1095900 -666            none             none             \n",
       "GSM1095901 -666            none             none             \n",
       "           curated_is_control curated_cohort_id curated_cohort_name\n",
       "GSM1095896 0                  0                 CTL                \n",
       "GSM1095897 0                  0                 CTL                \n",
       "GSM1095898 0                  0                 CTL                \n",
       "GSM1095899 0                  2                 IDH1wt; IDH1wt     \n",
       "GSM1095900 0                  2                 IDH1wt; IDH1wt     \n",
       "GSM1095901 0                  2                 IDH1wt; IDH1wt     "
      ]
     },
     "metadata": {},
     "output_type": "display_data"
    }
   ],
   "source": [
    "dim(coldata)\n",
    "head(coldata)"
   ]
  },
  {
   "cell_type": "code",
   "execution_count": 85,
   "metadata": {
    "kernel": "R"
   },
   "outputs": [
    {
     "data": {
      "text/plain": [
       "\n",
       "             CTL IDH1mut; IDH1mut   IDH1wt; IDH1wt \n",
       "               3                3                3 "
      ]
     },
     "metadata": {},
     "output_type": "display_data"
    }
   ],
   "source": [
    "table(coldata$curated_cohort_name)"
   ]
  },
  {
   "cell_type": "markdown",
   "metadata": {
    "kernel": "R"
   },
   "source": [
    "## Expression distribution for all samples"
   ]
  },
  {
   "cell_type": "code",
   "execution_count": 96,
   "metadata": {
    "kernel": "R"
   },
   "outputs": [
    {
     "data": {
      "image/png": "[encoded data removed]",
      "text/plain": [
       "plot without title"
      ]
     },
     "metadata": {
      "image/png": {
       "height": 480,
       "width": 900
      },
      "text/plain": {
       "height": 480,
       "width": 900
      }
     },
     "output_type": "display_data"
    }
   ],
   "source": [
    "options(repr.plot.width=15, repr.plot.height=8)\n",
    "boxplot(mat)"
   ]
  },
  {
   "cell_type": "markdown",
   "metadata": {
    "kernel": "R"
   },
   "source": [
    "## PCA"
   ]
  },
  {
   "cell_type": "code",
   "execution_count": 104,
   "metadata": {
    "kernel": "R"
   },
   "outputs": [],
   "source": [
    "library(ggplot2)\n",
    "library(ggsci)\n",
    "\n",
    "pca_plot <- function(input_matrix, metadata, cohort, PCx = 1, PCy = 2) {\n",
    "  PCAObj <- prcomp(as.data.frame(t(input_matrix)), scale = T)\n",
    "  PCAObj_Summary <- summary(PCAObj)\n",
    "  PCALoadings <- data.frame(PCAObj$x, cohort = as.factor(as.character(metadata[,cohort, drop = T])))\n",
    "  p <- ggplot(PCALoadings, aes(x = eval(parse(text=paste(\"PC\", PCx, sep = \"\"))),\n",
    "                               y = eval(parse(text=paste(\"PC\", PCy, sep = \"\"))),\n",
    "                               fill = cohort)) + \n",
    "    geom_point(shape = 21, size = 7, alpha = 0.7) + \n",
    "    labs(x = paste(\"PC\",PCx, '(', round(PCAObj_Summary$importance[2,PCx]*100, 2), '%)'),\n",
    "         y = paste(\"PC\",PCy, '(', round(PCAObj_Summary$importance[2,PCy]*100, 2), '%)'), fill = \"cohort\") + # x and y axis labels\n",
    "    scale_color_aaas() + # filling the point colors\n",
    "    theme(legend.position = \"right\", legend.direction = \"vertical\", # legend positioned at the bottom, horizantal direction,\n",
    "          axis.line = element_line(size=1, colour = \"black\"), # axis line of size 1 inch in black color\n",
    "          panel.grid.major = element_blank(), # major grids included\n",
    "          panel.grid.minor = element_blank(), # no minor grids\n",
    "          panel.border = element_blank(), panel.background = element_blank(), # no borders and background color\n",
    "          axis.title = element_text(colour=\"black\", size = 25, face = \"bold\"), # axis title\n",
    "          axis.text.x = element_text(colour=\"black\", size = 20, margin=unit(c(0.5,0.5,0.1,0.1), \"cm\"), face = \"bold\"), # x-axis text in fontsize 20\n",
    "          axis.text.y = element_text(colour=\"black\", size = 20, margin=unit(c(0.5,0.5,0.1,0.1), \"cm\"), face = \"bold\"), # y-axis text in fontsize 20\n",
    "          legend.text = element_text(size = 20, face = \"bold\"),\n",
    "          legend.title = element_text(colour=\"black\", size=22, face=\"bold\"),\n",
    "          axis.ticks.length = unit(-0.25, \"cm\"))\n",
    "  p\n",
    "}"
   ]
  },
  {
   "cell_type": "code",
   "execution_count": 107,
   "metadata": {
    "kernel": "R"
   },
   "outputs": [
    {
     "data": {
      "image/png": "[encoded data removed]",
      "text/plain": [
       "plot without title"
      ]
     },
     "metadata": {
      "image/png": {
       "height": 420,
       "width": 720
      },
      "text/plain": {
       "height": 420,
       "width": 720
      }
     },
     "output_type": "display_data"
    }
   ],
   "source": [
    "options(repr.plot.width=12, repr.plot.height=7)\n",
    "pca_plot(mat, coldata, 'curated_cohort_name')"
   ]
  },
  {
   "cell_type": "markdown",
   "metadata": {
    "kernel": "R"
   },
   "source": [
    "## Plot expression profile of a gene across cohorts"
   ]
  },
  {
   "cell_type": "markdown",
   "metadata": {
    "kernel": "R"
   },
   "source": [
    "### 1. Define function to generate data for plotting"
   ]
  },
  {
   "cell_type": "code",
   "execution_count": 129,
   "metadata": {
    "kernel": "R"
   },
   "outputs": [],
   "source": [
    "generate_plot_data <- function(mat, coldata, gene){\n",
    "    plot_data <- reshape2::melt(as.data.frame(mat)[gene,,F])\n",
    "    colnames(plot_data) <- c('sample',gene)\n",
    "    plot_data <- merge(plot_data, coldata[,'curated_cohort_name',F], by.x='sample', by.y='row.names')\n",
    "    plot_data\n",
    "}"
   ]
  },
  {
   "cell_type": "markdown",
   "metadata": {
    "kernel": "R"
   },
   "source": [
    "### 2. Define boxplot function"
   ]
  },
  {
   "cell_type": "code",
   "execution_count": 148,
   "metadata": {
    "kernel": "R"
   },
   "outputs": [],
   "source": [
    "groupBoxplot <- function(df, x, y) {\n",
    "  require(ggplot2)\n",
    "  p <- ggplot(df, aes_string(x = x, y = y)) + \n",
    "  stat_boxplot(geom ='errorbar') + # Adding horizontal bars\n",
    "  geom_boxplot(color=\"black\", fill=\"#ADD8E6\", alpha=0.9) + # boxplot fnuction with black borders \n",
    "  scale_y_continuous(name = y) + \n",
    "  scale_x_discrete(name = \"Cohort\") +        # x-axis labels\n",
    "  scale_fill_brewer(palette = \"Accent\") +\n",
    "  #labs(fill = splitBy) +\n",
    "  theme(panel.grid.major = element_blank(), # no major grids\n",
    "        panel.grid.minor = element_blank(), # no minor grids\n",
    "        panel.border = element_blank(), # no border\n",
    "        panel.background = element_blank(), # no background \n",
    "        axis.title = element_text(colour=\"black\", size = 25, face = \"bold\"), # axis title \n",
    "        axis.text.x = element_text(colour=\"black\", size = 20, margin=unit(c(0.5,0.5,0.1,0.1), \"cm\"), face = \"bold\"), # x-axis text in fontsize 10\n",
    "        axis.text.y = element_text(colour=\"black\", size = 20, margin=unit(c(0.5,0.5,0.1,0.1), \"cm\"), face = \"bold\"), # y-axis text in fontsize 10\n",
    "        axis.line = element_line(size=1, colour = \"black\"), # axis line defined\n",
    "        legend.text = element_text(size = 20, face = \"bold\"),\n",
    "        legend.title = element_text(colour=\"black\", size=22, face=\"bold\"),\n",
    "        axis.ticks.length = unit(-0.25, \"cm\")) # ticks facing inward with 0.25cm length\n",
    "\n",
    "  p\n",
    "}"
   ]
  },
  {
   "cell_type": "markdown",
   "metadata": {
    "kernel": "R"
   },
   "source": [
    "### 3. Plot"
   ]
  },
  {
   "cell_type": "code",
   "execution_count": 149,
   "metadata": {
    "kernel": "R"
   },
   "outputs": [
    {
     "name": "stderr",
     "output_type": "stream",
     "text": [
      "No id variables; using all as measure variables\n",
      "\n"
     ]
    },
    {
     "data": {
      "text/html": [
       "<table class=\"dataframe\">\n",
       "<caption>A data.frame: 6 × 3</caption>\n",
       "<thead>\n",
       "\t<tr><th></th><th scope=col>sample</th><th scope=col>Dsp</th><th scope=col>curated_cohort_name</th></tr>\n",
       "\t<tr><th></th><th scope=col>&lt;fct&gt;</th><th scope=col>&lt;dbl&gt;</th><th scope=col>&lt;chr&gt;</th></tr>\n",
       "</thead>\n",
       "<tbody>\n",
       "\t<tr><th scope=row>1</th><td>GSM1095896</td><td>7.6830</td><td>CTL           </td></tr>\n",
       "\t<tr><th scope=row>2</th><td>GSM1095897</td><td>7.5194</td><td>CTL           </td></tr>\n",
       "\t<tr><th scope=row>3</th><td>GSM1095898</td><td>7.8618</td><td>CTL           </td></tr>\n",
       "\t<tr><th scope=row>4</th><td>GSM1095899</td><td>6.5988</td><td>IDH1wt; IDH1wt</td></tr>\n",
       "\t<tr><th scope=row>5</th><td>GSM1095900</td><td>5.1623</td><td>IDH1wt; IDH1wt</td></tr>\n",
       "\t<tr><th scope=row>6</th><td>GSM1095901</td><td>6.1517</td><td>IDH1wt; IDH1wt</td></tr>\n",
       "</tbody>\n",
       "</table>\n"
      ],
      "text/latex": [
       "A data.frame: 6 × 3\n",
       "\\begin{tabular}{r|lll}\n",
       "  & sample & Dsp & curated\\_cohort\\_name\\\\\n",
       "  & <fct> & <dbl> & <chr>\\\\\n",
       "\\hline\n",
       "\t1 & GSM1095896 & 7.6830 & CTL           \\\\\n",
       "\t2 & GSM1095897 & 7.5194 & CTL           \\\\\n",
       "\t3 & GSM1095898 & 7.8618 & CTL           \\\\\n",
       "\t4 & GSM1095899 & 6.5988 & IDH1wt; IDH1wt\\\\\n",
       "\t5 & GSM1095900 & 5.1623 & IDH1wt; IDH1wt\\\\\n",
       "\t6 & GSM1095901 & 6.1517 & IDH1wt; IDH1wt\\\\\n",
       "\\end{tabular}\n"
      ],
      "text/markdown": [
       "\n",
       "A data.frame: 6 × 3\n",
       "\n",
       "| <!--/--> | sample &lt;fct&gt; | Dsp &lt;dbl&gt; | curated_cohort_name &lt;chr&gt; |\n",
       "|---|---|---|---|\n",
       "| 1 | GSM1095896 | 7.6830 | CTL            |\n",
       "| 2 | GSM1095897 | 7.5194 | CTL            |\n",
       "| 3 | GSM1095898 | 7.8618 | CTL            |\n",
       "| 4 | GSM1095899 | 6.5988 | IDH1wt; IDH1wt |\n",
       "| 5 | GSM1095900 | 5.1623 | IDH1wt; IDH1wt |\n",
       "| 6 | GSM1095901 | 6.1517 | IDH1wt; IDH1wt |\n",
       "\n"
      ],
      "text/plain": [
       "  sample     Dsp    curated_cohort_name\n",
       "1 GSM1095896 7.6830 CTL                \n",
       "2 GSM1095897 7.5194 CTL                \n",
       "3 GSM1095898 7.8618 CTL                \n",
       "4 GSM1095899 6.5988 IDH1wt; IDH1wt     \n",
       "5 GSM1095900 5.1623 IDH1wt; IDH1wt     \n",
       "6 GSM1095901 6.1517 IDH1wt; IDH1wt     "
      ]
     },
     "metadata": {},
     "output_type": "display_data"
    }
   ],
   "source": [
    "gene_to_plot <- 'Dsp'\n",
    "plot_data <- generate_plot_data(mat, coldata, gene_to_plot)\n",
    "head(plot_data)"
   ]
  },
  {
   "cell_type": "code",
   "execution_count": 150,
   "metadata": {
    "kernel": "R"
   },
   "outputs": [
    {
     "data": {
      "image/png": "[encoded data removed]",
      "text/plain": [
       "plot without title"
      ]
     },
     "metadata": {
      "image/png": {
       "height": 420,
       "width": 720
      },
      "text/plain": {
       "height": 420,
       "width": 720
      }
     },
     "output_type": "display_data"
    }
   ],
   "source": [
    "options(repr.plot.width=12, repr.plot.height=7)\n",
    "groupBoxplot(plot_data, 'curated_cohort_name', gene_to_plot)"
   ]
  }
 ],
 "metadata": {
  "kernelspec": {
   "display_name": "Pollyglot",
   "language": "sos",
   "name": "sos"
  },
  "language_info": {
   "codemirror_mode": "sos",
   "file_extension": ".sos",
   "mimetype": "text/x-sos",
   "name": "sos",
   "nbconvert_exporter": "sos_notebook.converter.SoS_Exporter",
   "pygments_lexer": "sos"
  },
  "sos": {
   "kernels": [
    [
     "Python3",
     "python3",
     "Python3",
     "#FFD91A",
     {
      "name": "ipython",
      "version": 3
     }
    ],
    [
     "R",
     "ir",
     "R",
     "#DCDCDA",
     ""
    ]
   ],
   "panel": {
    "displayed": true,
    "height": 0
   },
   "version": "1.0.0"
  }
 },
 "nbformat": 4,
 "nbformat_minor": 2
}
