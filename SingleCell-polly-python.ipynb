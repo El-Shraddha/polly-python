{
  "cells": [
    {
      "cell_type": "markdown",
      "metadata": {
        "colab_type": "text",
        "id": "view-in-github"
      },
      "source": [
        "<a href=\"https://polly.elucidata.io/manage/workspaces?action=open_polly_notebook&amp;source=github&amp;path=ElucidataInc%2Fpolly-python%2Fblob%2Fmain%2FSingleCell-polly-python.ipynb&amp;kernel=elucidata%2FSingle-cell+Downstream&amp;machine=medium\" target=\"_parent\"><img alt=\"Open in Polly\" src=\"https://elucidatainc.github.io/PublicAssets/open_polly.svg\"/></a>\n"
      ]
    },
    {
      "cell_type": "markdown",
      "metadata": {
        "kernel": "Pollyglot"
      },
      "source": [
        "# Welcome to Pollyglot Notebook for analysis of single cell data\n",
        "\n",
        "This notebook allows you to get started with analysis of single cell data type on Polly\n",
        "\n",
        "<blockquote>When you first open the notebook, please run the code cells below.</blockquote>\n",
        "\n",
        "For more details on how to use Notebooks on Polly, please visit [Polly Notebooks](https://docs.elucidata.io/Scaling%20compute/Polly%20Notebooks.html).\n",
        "\n",
        "For more details on API access to your OmixAtlas, please visit [Accessing OmixAtlas using polly-python through Polly Notebooks](https://docs.elucidata.io/OmixAtlas/Polly%20Python.html)."
      ]
    },
    {
      "cell_type": "code",
      "execution_count": null,
      "metadata": {
        "kernel": "Pollyglot"
      },
      "outputs": [],
      "source": [
        "# please do not modify\n",
        "from IPython.display import display_html\n",
        "def restartkernel() :\n",
        "    display_html(\"<script>Jupyter.notebook.kernel.restart()</script>\",raw=True)"
      ]
    },
    {
      "cell_type": "markdown",
      "metadata": {
        "kernel": "Pollyglot"
      },
      "source": [
        "## Install Polly Python"
      ]
    },
    {
      "cell_type": "code",
      "execution_count": null,
      "metadata": {
        "kernel": "Pollyglot"
      },
      "outputs": [],
      "source": [
        "!sudo pip3 install polly-python --quiet # to search and download selected dataset"
      ]
    },
    {
      "cell_type": "code",
      "execution_count": null,
      "metadata": {
        "kernel": "Pollyglot"
      },
      "outputs": [],
      "source": [
        "restartkernel() #Pause for a few seconds before the kernel is refreshed"
      ]
    },
    {
      "cell_type": "code",
      "execution_count": null,
      "metadata": {
        "kernel": "Pollyglot"
      },
      "outputs": [],
      "source": [
        "# please do not modify\n",
        "from IPython.display import HTML\n",
        "HTML('''<script type=\"text/javascript\"> Jupyter.notebook.kernel.execute(\"url = '\" + window.location + \"'\", {}, {}); </script>''')"
      ]
    },
    {
      "cell_type": "markdown",
      "metadata": {
        "kernel": "Python3"
      },
      "source": [
        "## Fetch OmixAtlas ID and Dataset ID\n",
        "\n",
        "- **OmixAtlas ID**: Unique target repository identifier which is required for downloading datasets using **polly-python** \n",
        "- **Dataset ID**: Unique identifier for datasets on Polly which is required for downloading datasets using **polly-python** "
      ]
    },
    {
      "cell_type": "code",
      "execution_count": null,
      "metadata": {
        "kernel": "Pollyglot"
      },
      "outputs": [],
      "source": [
        "import urllib.parse as urlparse\n",
        "from urllib.parse import parse_qs\n",
        "\n",
        "parsed = urlparse.urlparse(url)\n",
        "repo_vars_list = [parse_qs(parsed.query).get(query_url)[0] for query_url in ['repo_id', 'repo_name', 'dataset_id']]\n",
        "repo_id=repo_vars_list[0]\n",
        "repo_name=repo_vars_list[1]\n",
        "dataset_id=repo_vars_list[2]\n",
        "file_name = dataset_id+'.h5ad'\n",
        "\n",
        "print(file_name)\n",
        "print(repo_id)\n",
        "print(repo_name)\n",
        "print(dataset_id)"
      ]
    },
    {
      "cell_type": "markdown",
      "metadata": {
        "kernel": "Python3"
      },
      "source": [
        "## Get Authentication Token"
      ]
    },
    {
      "cell_type": "markdown",
      "metadata": {
        "kernel": "Python3"
      },
      "source": [
        "### Query metadata in Liver OmixAtlas\n",
        "\n",
        "All data in Liver OmixAtlas are structured and and stored in indexes that can be queries through polly python  \n",
        "\n",
        "Metadata fields are curated and tagged with ontologies, which simplifies finding relevant datasets  \n",
        "\n",
        "To filter and search the metadata in any of the indexes in Liver OmixAtlas, the following function can be used:  \n",
        "\n",
        "\n",
        "                                **query_metadata (** *query written in SQL* **)**\n",
        "The SQL queries have the following syntax:\n",
        "\n",
        "                        **SELECT** *field names* **FROM** *index_name* **WHERE** *conditions*\n",
        "\n",
        "For a list of curated fields, indices and conditions available for querying, please visit [Data Schema](https://docs.elucidata.io/OmixAtlas/Data%20Schema.html)"
      ]
    },
    {
      "cell_type": "code",
      "execution_count": null,
      "metadata": {
        "kernel": "Pollyglot"
      },
      "outputs": [],
      "source": [
        "#Import packages\n",
        "from polly.omixatlas import OmixAtlas\n",
        "import os\n",
        "import pandas as pd\n",
        "from json import dumps"
      ]
    },
    {
      "cell_type": "code",
      "execution_count": null,
      "metadata": {
        "kernel": "Pollyglot"
      },
      "outputs": [],
      "source": [
        "AUTH_TOKEN=(os.environ['POLLY_REFRESH_TOKEN']) # Obtain authentication tokens\n",
        "omixatlas = OmixAtlas(AUTH_TOKEN)"
      ]
    },
    {
      "cell_type": "code",
      "execution_count": null,
      "metadata": {
        "kernel": "Pollyglot"
      },
      "outputs": [],
      "source": [
        "# Querying dataset\n",
        "query=f\"SELECT * FROM {repo_name}.datasets WHERE dataset_id = '{dataset_id}'\"\n",
        "results=omixatlas.query_metadata(query)\n",
        "results"
      ]
    },
    {
      "cell_type": "markdown",
      "metadata": {
        "kernel": "Python3"
      },
      "source": [
        "## Download and load the h5ad file\n",
        "Single cell dataset is stored in h5ad file. A HEAD file (.H5AD) file that provides a scalable way of keeping track of data together with learned annotations. Please read more about h5ad file format [here](https://anndata.readthedocs.io/en/latest/). We store single cell data in h5ad format. An h5ad file can be read in R and python using [scanpy](https://scanpy.readthedocs.io/en/stable/) (both for python and R)."
      ]
    },
    {
      "cell_type": "code",
      "execution_count": null,
      "metadata": {
        "kernel": "Pollyglot"
      },
      "outputs": [],
      "source": [
        "data = omixatlas.download_data(repo_id, dataset_id)\n",
        "url = data.get('data').get('attributes').get('download_url')\n",
        "status = os.system(f\"wget -O '{file_name}' '{url}'\")\n",
        "if status == 0:\n",
        "    print(\"Downloaded data successfully\")\n",
        "else:\n",
        "    raise Exception(\"Download not successful\")"
      ]
    },
    {
      "cell_type": "code",
      "execution_count": null,
      "metadata": {
        "kernel": "Pollyglot"
      },
      "outputs": [],
      "source": [
        "# loading the file\n",
        "import scanpy as sc\n",
        "data = sc.read_h5ad(file_name) \n",
        "data"
      ]
    },
    {
      "cell_type": "code",
      "execution_count": null,
      "metadata": {
        "kernel": "Pollyglot"
      },
      "outputs": [],
      "source": [
        "data.obs.head()"
      ]
    },
    {
      "cell_type": "code",
      "execution_count": null,
      "metadata": {
        "kernel": "Pollyglot"
      },
      "outputs": [],
      "source": [
        "data.var.head()"
      ]
    },
    {
      "cell_type": "markdown",
      "metadata": {
        "kernel": "Pollyglot"
      },
      "source": [
        "## QC plot\n",
        "### 'gene_counts' - number of unique genes detected in each cell.\n",
        "### 'umi_counts' - total number of molecules detected within a cell (correlates strongly with unique genes)\n",
        "### 'percent_mito' - percentage of reads that map to the mitochondrial genome"
      ]
    },
    {
      "cell_type": "code",
      "execution_count": null,
      "metadata": {
        "kernel": "Pollyglot"
      },
      "outputs": [],
      "source": [
        "sc.pl.highest_expr_genes(data, n_top=20)"
      ]
    },
    {
      "cell_type": "code",
      "execution_count": null,
      "metadata": {
        "kernel": "Pollyglot"
      },
      "outputs": [],
      "source": [
        "sc.pl.violin(data, ['gene_counts', 'umi_counts', 'percent_mito'],\n",
        "             jitter=0.4, multi_panel=True)"
      ]
    },
    {
      "cell_type": "markdown",
      "metadata": {
        "kernel": "Pollyglot"
      },
      "source": [
        "## Samples and Clusters Distribution"
      ]
    },
    {
      "cell_type": "code",
      "execution_count": null,
      "metadata": {
        "kernel": "Pollyglot"
      },
      "outputs": [],
      "source": [
        "if \"kw_cell_type_singleR\" in data.obs.columns:\n",
        "    \n",
        "    sam_clus_dis = pd.DataFrame(data.obs.groupby(['kw_cell_type_singleR', 'clusters'])[\"clusters\"].count())\n",
        "    sam_clus_dis.rename(columns = {'clusters': 'counts'}, inplace = True)\n",
        "    sam_clus_dis = sam_clus_dis.reset_index()\n",
        "    sam_clus_dis = data.obs.groupby(['kw_cell_type_singleR', 'clusters'])[\"clusters\"].count().unstack('clusters')\n",
        "    ax = sam_clus_dis.plot(kind='bar', stacked=True, xlabel=\"Cell Types\", ylabel='Number of Cells', figsize=(20, 8))\n",
        "    \n",
        "elif \"clusters\" in data.obs.columns:\n",
        "    clus_dis = pd.DataFrame(data.obs.clusters.value_counts())\n",
        "    ax = clus_dis.plot(kind='bar', stacked=True, xlabel='Clusters', ylabel='Number of Cells', figsize=(20, 8)) \n"
      ]
    },
    {
      "cell_type": "markdown",
      "metadata": {
        "kernel": "Pollyglot"
      },
      "source": [
        "## tSNE plot"
      ]
    },
    {
      "cell_type": "code",
      "execution_count": null,
      "metadata": {
        "kernel": "Pollyglot"
      },
      "outputs": [],
      "source": [
        "if \"X_tsne\" in data.obsm:\n",
        "    if \"kw_cell_type_singleR\" in data.obs.columns:\n",
        "        sc.pl.tsne(data, color = 'kw_cell_type_singleR')\n",
        "    else:\n",
        "        sc.pl.tsne(data, color = 'clusters')\n",
        "else:\n",
        "    print(\"tSNE Plot is not available\")"
      ]
    },
    {
      "cell_type": "markdown",
      "metadata": {
        "kernel": "Pollyglot"
      },
      "source": [
        "## UMAP plot"
      ]
    },
    {
      "cell_type": "code",
      "execution_count": null,
      "metadata": {
        "kernel": "Pollyglot"
      },
      "outputs": [],
      "source": [
        "if \"X_umap\" in data.obsm:\n",
        "    if \"kw_cell_type_singleR\" in data.obs.columns:\n",
        "        sc.pl.umap(data, color = 'kw_cell_type_singleR')\n",
        "    else:\n",
        "        sc.pl.umap(data, color = 'clusters')\n",
        "else:\n",
        "    print(\"Umap Plot is not available\")"
      ]
    }
  ],
  "metadata": {
    "kernelspec": {
      "display_name": "Pollyglot",
      "language": "sos",
      "name": "sos"
    },
    "language_info": {
      "codemirror_mode": "sos",
      "file_extension": ".sos",
      "mimetype": "text/x-sos",
      "name": "sos",
      "nbconvert_exporter": "sos_notebook.converter.SoS_Exporter",
      "pygments_lexer": "sos"
    },
    "sos": {
      "kernels": [
        [
          "Bash",
          "bash",
          "Bash",
          "#E6EEFF",
          ""
        ],
        [
          "Pollyglot",
          "sos",
          "",
          "",
          "sos"
        ]
      ],
      "panel": {
        "displayed": true,
        "height": 0
      },
      "version": "1.0.0"
    }
  },
  "nbformat": 4,
  "nbformat_minor": 4
}